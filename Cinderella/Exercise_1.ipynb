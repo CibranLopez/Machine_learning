{
 "cells": [
  {
   "cell_type": "markdown",
   "metadata": {},
   "source": [
    "# Exercise 1"
   ]
  },
  {
   "cell_type": "markdown",
   "metadata": {},
   "source": [
    "First of all, we import some usefull libraries."
   ]
  },
  {
   "cell_type": "code",
   "execution_count": 1,
   "metadata": {},
   "outputs": [],
   "source": [
    "import numpy as np\n",
    "import scipy.stats as st\n",
    "import matplotlib.pyplot as plt\n",
    "from sklearn.mixture import GaussianMixture\n",
    "from sklearn.model_selection import train_test_split, cross_validate, StratifiedKFold\n",
    "from IPython.display import display, Latex\n",
    "\n",
    "%matplotlib inline\n",
    "plt.rcParams[\"figure.figsize\"] = [12,8]\n",
    "plt.rcParams[\"animation.html\"] = \"jshtml\""
   ]
  },
  {
   "cell_type": "markdown",
   "metadata": {},
   "source": [
    "We can upload our data and representate it."
   ]
  },
  {
   "cell_type": "code",
   "execution_count": 2,
   "metadata": {},
   "outputs": [
    {
     "data": {
      "image/png": "[encoded data removed]",
      "text/plain": [
       "<Figure size 432x288 with 1 Axes>"
      ]
     },
     "metadata": {
      "needs_background": "light"
     },
     "output_type": "display_data"
    }
   ],
   "source": [
    "data = np.loadtxt('data/mixture.txt')\n",
    "\n",
    "plt.hist(data, bins=32, histtype='step', density=False);"
   ]
  },
  {
   "cell_type": "markdown",
   "metadata": {},
   "source": [
    "Since we don't know which ones are our labels, and that data follows a normal distribution, we're conducting a unsupervised learning method (with gaussian mixture models).\n",
    "\n",
    "Now, we're diving data into train-test sets."
   ]
  },
  {
   "cell_type": "code",
   "execution_count": 3,
   "metadata": {},
   "outputs": [],
   "source": [
    "train_data, test_data = train_test_split(data, test_size=0.2)\n",
    "train_data = train_data.reshape(-1, 1); test_data = test_data.reshape(-1, 1)"
   ]
  },
  {
   "cell_type": "markdown",
   "metadata": {},
   "source": [
    "We're implemeting gaussian mixture model with two gaussians (as a try, because we don't really know the number of components in the mixture). Then, we're trying with three gaussians and, finally, we're looking for best number of them."
   ]
  },
  {
   "cell_type": "code",
   "execution_count": 4,
   "metadata": {},
   "outputs": [
    {
     "data": {
      "text/plain": [
       "GaussianMixture(covariance_type='full', init_params='kmeans', max_iter=100,\n",
       "        means_init=None, n_components=2, n_init=3, precisions_init=None,\n",
       "        random_state=None, reg_covar=1e-06, tol=1e-05, verbose=0,\n",
       "        verbose_interval=10, warm_start=False, weights_init=None)"
      ]
     },
     "execution_count": 4,
     "metadata": {},
     "output_type": "execute_result"
    }
   ],
   "source": [
    "gaussian_mixture_2 = GaussianMixture(n_components=2, tol=1e-5, n_init=3)\n",
    "gaussian_mixture_2.fit(train_data)"
   ]
  },
  {
   "cell_type": "markdown",
   "metadata": {},
   "source": [
    "If we divide our possible clusters into lentils or ashes, we choose the ashes cluster as the one with smaller average diameter.\n",
    "\n",
    "Due to the unidentifiability of the parameters, assigning labels to clusters is meaningless (we have to put in \"by hand\")."
   ]
  },
  {
   "cell_type": "code",
   "execution_count": 5,
   "metadata": {},
   "outputs": [
    {
     "data": {
      "text/latex": [
       "With two gaussians, ashes diameter is: 1.290, and lentils' is: 1.930"
      ],
      "text/plain": [
       "<IPython.core.display.Latex object>"
      ]
     },
     "metadata": {},
     "output_type": "display_data"
    }
   ],
   "source": [
    "ashes = np.min(gaussian_mixture_2.means_[:,0])\n",
    "lentils = np.max(gaussian_mixture_2.means_[:,0])\n",
    "\n",
    "display(Latex('With two gaussians, ashes diameter is: %.3f, and lentils\\' is: %.3f' %(ashes, lentils)))"
   ]
  },
  {
   "cell_type": "markdown",
   "metadata": {},
   "source": [
    "But our data could fit better to a three-gaussians model, so we'll try it too."
   ]
  },
  {
   "cell_type": "code",
   "execution_count": 6,
   "metadata": {},
   "outputs": [
    {
     "data": {
      "text/plain": [
       "GaussianMixture(covariance_type='full', init_params='kmeans', max_iter=100,\n",
       "        means_init=None, n_components=3, n_init=3, precisions_init=None,\n",
       "        random_state=None, reg_covar=1e-06, tol=1e-05, verbose=0,\n",
       "        verbose_interval=10, warm_start=False, weights_init=None)"
      ]
     },
     "execution_count": 6,
     "metadata": {},
     "output_type": "execute_result"
    }
   ],
   "source": [
    "gaussian_mixture_3 = GaussianMixture(n_components=3, tol=1e-5, n_init=3)\n",
    "gaussian_mixture_3.fit(train_data)"
   ]
  },
  {
   "cell_type": "markdown",
   "metadata": {},
   "source": [
    "In order to compare them, we're measuring the performance with _Negative log likelihoood_, implemented with score method from sklearn (it returns the average LL). The smaller that score is, the better."
   ]
  },
  {
   "cell_type": "code",
   "execution_count": 7,
   "metadata": {},
   "outputs": [
    {
     "data": {
      "text/latex": [
       "NLL for two gaussians is: 0.328, and for three is: 0.320"
      ],
      "text/plain": [
       "<IPython.core.display.Latex object>"
      ]
     },
     "metadata": {},
     "output_type": "display_data"
    }
   ],
   "source": [
    "NLL_2 = -gaussian_mixture_2.score(test_data)\n",
    "NLL_3 = -gaussian_mixture_3.score(test_data)\n",
    "\n",
    "display(Latex('NLL for two gaussians is: %.3f, and for three is: %.3f' %(NLL_2, NLL_3)))"
   ]
  },
  {
   "cell_type": "markdown",
   "metadata": {},
   "source": [
    "Since both result are nearly the same, and cross validation is a time-consuming method (we're only using it on next step), we're applying Akaike Information Criterion, which tries to compensate for the number of parameters that were used to fit the model.\n",
    "\n",
    "AIC is normalized differently from score method, so we have to rescale it."
   ]
  },
  {
   "cell_type": "code",
   "execution_count": 8,
   "metadata": {},
   "outputs": [
    {
     "data": {
      "text/latex": [
       "AIC for two gaussians is: 0.330, and for three is: 0.317"
      ],
      "text/plain": [
       "<IPython.core.display.Latex object>"
      ]
     },
     "metadata": {},
     "output_type": "display_data"
    }
   ],
   "source": [
    "AIC_2 = 0.5 * gaussian_mixture_2.aic(train_data)/len(train_data)\n",
    "AIC_3 = 0.5 * gaussian_mixture_3.aic(train_data)/len(train_data)\n",
    "\n",
    "display(Latex('AIC for two gaussians is: %.3f, and for three is: %.3f' %(AIC_2, AIC_3)))"
   ]
  },
  {
   "cell_type": "markdown",
   "metadata": {},
   "source": [
    "Beyesian Information Criterion gives another similar value."
   ]
  },
  {
   "cell_type": "code",
   "execution_count": 9,
   "metadata": {},
   "outputs": [
    {
     "data": {
      "text/latex": [
       "BIC for two gaussians is: 0.333, and for three is: 0.321"
      ],
      "text/plain": [
       "<IPython.core.display.Latex object>"
      ]
     },
     "metadata": {},
     "output_type": "display_data"
    }
   ],
   "source": [
    "BIC_2 = 0.5 * gaussian_mixture_2.bic(train_data)/len(train_data)\n",
    "BIC_3 = 0.5 * gaussian_mixture_3.bic(train_data)/len(train_data)\n",
    "\n",
    "display(Latex('BIC for two gaussians is: %.3f, and for three is: %.3f' %(BIC_2, BIC_3)))"
   ]
  },
  {
   "cell_type": "markdown",
   "metadata": {},
   "source": [
    "Both values are nearly the same again, but best number of cluster could not to be any of these ones. So, let's try different number of components. We're testing until a maximum of ten clusters.\n",
    "\n",
    "We're comparing cross validation too, instead we dind't before."
   ]
  },
  {
   "cell_type": "code",
   "execution_count": 10,
   "metadata": {},
   "outputs": [],
   "source": [
    "N_clts = 10\n",
    "gmms = [GaussianMixture(n_components=i, tol=1e-4, max_iter=500, n_init=3) for i in range(1, N_clts+1)]\n",
    "\n",
    "cvs =  [cross_validate(gm, train_data, y=None, cv=5) for gm in gmms]\n",
    "\n",
    "for gm in gmms:\n",
    "    gm.fit(train_data)"
   ]
  },
  {
   "cell_type": "markdown",
   "metadata": {},
   "source": [
    "Now, we can proceed to plot all calculated scores in order to find the best number of clusters."
   ]
  },
  {
   "cell_type": "code",
   "execution_count": 11,
   "metadata": {},
   "outputs": [
    {
     "data": {
      "image/png": "[encoded data removed]",
      "text/plain": [
       "<Figure size 432x288 with 1 Axes>"
      ]
     },
     "metadata": {
      "needs_background": "light"
     },
     "output_type": "display_data"
    }
   ],
   "source": [
    "n_samples = len(train_data)\n",
    "plt.scatter(np.arange(1,N_clts+1), [-c['test_score'].mean() for c in cvs], label='NLL CV');\n",
    "plt.scatter(np.arange(1,N_clts+1), [-gm.score(train_data) for gm in gmms], label='NLL train');\n",
    "plt.scatter(np.arange(1,N_clts+1), [-gm.score(test_data) for gm in gmms], label='NLL test');\n",
    "plt.scatter(np.arange(1,N_clts+1), [0.5*gm.aic(train_data)/n_samples for gm in gmms], label='AIC train', facecolor='none', edgecolors='green');\n",
    "plt.scatter(np.arange(1,N_clts+1), [0.5*gm.bic(train_data)/n_samples for gm in gmms], label='BIC train', facecolor='none', edgecolors='red');\n",
    "plt.xticks(np.arange(1,N_clts+1));\n",
    "plt.xlabel(\"K\");\n",
    "plt.legend();"
   ]
  },
  {
   "cell_type": "markdown",
   "metadata": {},
   "source": [
    "We see a minimum around 4 clusters, which may be the best option. So, we're again supposing that biggest diameter is for lentils. That way, other three clusters refer to different diamters of ashes.\n",
    "\n",
    "As we can see below, now we get a bit bigger diameter for the lentils."
   ]
  },
  {
   "cell_type": "code",
   "execution_count": 12,
   "metadata": {},
   "outputs": [
    {
     "data": {
      "text/latex": [
       "Lentils diameter is: 1.967"
      ],
      "text/plain": [
       "<IPython.core.display.Latex object>"
      ]
     },
     "metadata": {},
     "output_type": "display_data"
    }
   ],
   "source": [
    "classifier = gmms[3] # Four components\n",
    "\n",
    "lentils = np.max(classifier.means_[:,0])\n",
    "lentils_label = np.argmax(classifier.means_[:,0])\n",
    "ashes = np.sort(np.delete(classifier.means_[:,0], np.argmax(classifier.means_[:,0])))\n",
    "\n",
    "display(Latex('Lentils diameter is: %.3f' %lentils))"
   ]
  },
  {
   "cell_type": "markdown",
   "metadata": {},
   "source": [
    "Now, we can display it to show where the lentils are supposed to be."
   ]
  },
  {
   "cell_type": "code",
   "execution_count": 13,
   "metadata": {},
   "outputs": [
    {
     "data": {
      "image/png": "[encoded data removed]",
      "text/plain": [
       "<Figure size 432x288 with 1 Axes>"
      ]
     },
     "metadata": {
      "needs_background": "light"
     },
     "output_type": "display_data"
    }
   ],
   "source": [
    "plt.text(lentils, 750, 'Lentils', fontsize = 12, color = '#1f77b4')\n",
    "plt.text(ashes[0], 350, 'Ashes', fontsize = 12, color = '#2ca02c')\n",
    "plt.text(ashes[1], 430, 'Ashes', fontsize = 12, color = '#2ca02c')\n",
    "plt.text(ashes[2], 560, 'Ashes', fontsize = 12, color = '#2ca02c')\n",
    "plt.hist(data, bins=32, histtype='step', density=False);"
   ]
  },
  {
   "cell_type": "markdown",
   "metadata": {},
   "source": [
    "And this is on a 1-dimensional plot, where x-axis should be from 0 to 2.3 (it's the diameter). Yellow zone are lentils."
   ]
  },
  {
   "cell_type": "code",
   "execution_count": 14,
   "metadata": {},
   "outputs": [
    {
     "data": {
      "text/plain": [
       "<matplotlib.image.AxesImage at 0x1a18cf3f28>"
      ]
     },
     "execution_count": 14,
     "metadata": {},
     "output_type": "execute_result"
    },
    {
     "data": {
      "image/png": "[encoded data removed]",
      "text/plain": [
       "<Figure size 432x288 with 1 Axes>"
      ]
     },
     "metadata": {
      "needs_background": "light"
     },
     "output_type": "display_data"
    }
   ],
   "source": [
    "c = np.linspace(0, 2.3, 100)\n",
    "predicted_out = classifier.predict(c.reshape(-1, 1)).astype(int)\n",
    "\n",
    "aux = np.zeros(len(c))\n",
    "aux[np.where(predicted_out == lentils_label)] = 1\n",
    "aux = np.expand_dims(aux, axis=0) \n",
    "plt.imshow(aux)"
   ]
  },
  {
   "cell_type": "markdown",
   "metadata": {},
   "source": [
    "Results are not really as we expected to (we expected that last gaussian was for the same cluster, lentils). Nevertheless, since we do not have labels, we only can look to the calculated scores."
   ]
  },
  {
   "cell_type": "markdown",
   "metadata": {},
   "source": [
    "## Accuracy"
   ]
  },
  {
   "cell_type": "markdown",
   "metadata": {},
   "source": [
    "Now, we're calcualting accuracy without knowing the labels. In order to do that, we're calculating several predicted labels for each diameter. Then, we're using a voting method to get those most probable labels. Finally, with initial train-test data we're calculating accuracy.\n",
    "\n",
    "It may not be truly exact, because it's only a measure about coincidence of the classifier each time we execut it."
   ]
  },
  {
   "cell_type": "code",
   "execution_count": 15,
   "metadata": {},
   "outputs": [],
   "source": [
    "N_data = len(data); ages = 300\n",
    "preditions = np.zeros([N_data, ages]) - 1\n",
    "\n",
    "for age in range(ages):\n",
    "    positions_train = np.random.choice(range(N_data), int(N_data*0.8), replace = False)\n",
    "    positions_test = np.delete(range(N_data), positions_train)\n",
    "    \n",
    "    train_fold = data[positions_train].reshape(-1, 1)\n",
    "    test_fold = data[positions_test].reshape(-1, 1)\n",
    "    \n",
    "    classifier.fit(train_fold)\n",
    "    preditions[:, age][positions_test] = classifier.predict(test_fold)\n",
    "\n",
    "preditions = preditions.astype(int)"
   ]
  },
  {
   "cell_type": "markdown",
   "metadata": {},
   "source": [
    "Then, we implement voting method."
   ]
  },
  {
   "cell_type": "code",
   "execution_count": 16,
   "metadata": {},
   "outputs": [],
   "source": [
    "final_predition = np.zeros(N_data) - 1\n",
    "\n",
    "for i in range(N_data):\n",
    "    aux = preditions[i]\n",
    "    if np.any(aux != -1):\n",
    "        aux = aux[aux != -1]\n",
    "        final_predition[i] = np.argmax(np.bincount(aux))"
   ]
  },
  {
   "cell_type": "markdown",
   "metadata": {},
   "source": [
    "Finally, we generate train-test data and calculate the accuracy. We have to take into account that we may no have predicted labels for all diameters."
   ]
  },
  {
   "cell_type": "code",
   "execution_count": 17,
   "metadata": {},
   "outputs": [
    {
     "data": {
      "text/plain": [
       "0.5175"
      ]
     },
     "execution_count": 17,
     "metadata": {},
     "output_type": "execute_result"
    }
   ],
   "source": [
    "train_data, test_data, train_lbl, test_lbl = train_test_split(data, final_predition, test_size=0.2)\n",
    "train_data = train_data.reshape(-1, 1); test_data = test_data.reshape(-1, 1)\n",
    "\n",
    "classifier.fit(train_data)\n",
    "predited = classifier.predict(test_data)\n",
    "\n",
    "np.count_nonzero(test_lbl == predited) / np.count_nonzero(test_lbl != -1) # No data for test_lbl == -1"
   ]
  },
  {
   "cell_type": "code",
   "execution_count": null,
   "metadata": {},
   "outputs": [],
   "source": []
  }
 ],
 "metadata": {
  "kernelspec": {
   "display_name": "Python 3",
   "language": "python",
   "name": "python3"
  },
  "language_info": {
   "codemirror_mode": {
    "name": "ipython",
    "version": 3
   },
   "file_extension": ".py",
   "mimetype": "text/x-python",
   "name": "python",
   "nbconvert_exporter": "python",
   "pygments_lexer": "ipython3",
   "version": "3.5.6"
  }
 },
 "nbformat": 4,
 "nbformat_minor": 4
}
