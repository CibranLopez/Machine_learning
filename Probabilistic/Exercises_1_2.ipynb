{
 "cells": [
  {
   "cell_type": "markdown",
   "metadata": {},
   "source": [
    "# Exercise 1"
   ]
  },
  {
   "cell_type": "markdown",
   "metadata": {},
   "source": [
    "## a)"
   ]
  },
  {
   "cell_type": "markdown",
   "metadata": {},
   "source": [
    "First of all, we import some usefull libraries."
   ]
  },
  {
   "cell_type": "code",
   "execution_count": 1,
   "metadata": {},
   "outputs": [],
   "source": [
    "import pandas as pd\n",
    "import matplotlib.pyplot as plt\n",
    "import numpy as np\n",
    "from sklearn.metrics import roc_curve, roc_auc_score"
   ]
  },
  {
   "cell_type": "markdown",
   "metadata": {},
   "source": [
    "From probabilistics we now that:\n",
    "\n",
    "\\begin{equation} P(A|B) = \\frac{P(A,B)}{P(B)} \\end{equation}\n",
    "\n",
    "So, we're using Bayer classifier in orther to calculate probability of survival taking into account two variables:\n",
    "\n",
    "\\begin{equation} P(survive|sex,class) = \\frac{P(survive,sex,class)}{P(sex,class)} \\end{equation}\n",
    "\n",
    "We're calculating it for each case."
   ]
  },
  {
   "cell_type": "code",
   "execution_count": 2,
   "metadata": {},
   "outputs": [],
   "source": [
    "data = pd.read_csv(\"titanic3.csv\") # We load the data\n",
    "\n",
    "data_pclass_sex = data[['pclass', 'sex', 'survived']] # We take only the columns we need\n",
    "\n",
    "grouped = data_pclass_sex.groupby(['survived','sex', 'pclass']) # We make a group with this data\n",
    "grouped_2 = data_pclass_sex.groupby(['survived', 'pclass', 'sex']) # We make a group with this data\n",
    "\n",
    "counts = grouped.size()\n",
    "counts_2 = grouped_2.size()"
   ]
  },
  {
   "cell_type": "markdown",
   "metadata": {},
   "source": [
    "We implement previous probability equation for each case by using 'counts' function for our group."
   ]
  },
  {
   "cell_type": "code",
   "execution_count": 3,
   "metadata": {},
   "outputs": [],
   "source": [
    "P_sex_class = np.zeros(6)\n",
    "\n",
    "pos = 0\n",
    "for sex in ['male','female']:\n",
    "    for i in np.arange(1,4):\n",
    "        P_sex_class[pos] = np.float(counts[(1, sex, i)]) / (counts[(1, sex, i)] + counts[(0, sex, i)])\n",
    "        pos += 1"
   ]
  },
  {
   "cell_type": "markdown",
   "metadata": {},
   "source": [
    "So we have next results of probability of survival, where it starts on male sex, and class grows from first to third."
   ]
  },
  {
   "cell_type": "code",
   "execution_count": 4,
   "metadata": {
    "scrolled": true
   },
   "outputs": [
    {
     "name": "stdout",
     "output_type": "stream",
     "text": [
      "Class: 1, 2, 3\n",
      "Male: [0.341 0.146 0.152]\n",
      "Female: [0.965 0.887 0.491]\n"
     ]
    }
   ],
   "source": [
    "print('Class: 1, 2, 3')\n",
    "print('Male:', np.round(P_sex_class[0:3], 3))\n",
    "print('Female:', np.round(P_sex_class[3:], 3))"
   ]
  },
  {
   "cell_type": "markdown",
   "metadata": {},
   "source": [
    "## b)"
   ]
  },
  {
   "cell_type": "markdown",
   "metadata": {},
   "source": [
    "We calculate the total number of predicted survivors, and the truly one (labels). We should use classes, but this way is simplier when we have not a lot of cases."
   ]
  },
  {
   "cell_type": "code",
   "execution_count": 5,
   "metadata": {},
   "outputs": [],
   "source": [
    "n = len(data_pclass_sex)\n",
    "\n",
    "labels = data_pclass_sex['survived'] # True values of survived people\n",
    "\n",
    "predicted = np.zeros(n)\n",
    "\n",
    "for i in range(n):\n",
    "    if data_pclass_sex['sex'][i] == 'male':\n",
    "        if data_pclass_sex['pclass'][i] == 1:\n",
    "            predicted[i] = P_sex_class[0]\n",
    "        elif data_pclass_sex['pclass'][i] == 2:\n",
    "            predicted[i] = P_sex_class[1]\n",
    "        else:\n",
    "            predicted[i] = P_sex_class[2]\n",
    "    else:\n",
    "        if data_pclass_sex['pclass'][i] == 1:\n",
    "            predicted[i] = P_sex_class[3]\n",
    "        elif data_pclass_sex['pclass'][i] == 2:\n",
    "            predicted[i] = P_sex_class[4]\n",
    "        else:\n",
    "            predicted[i] = P_sex_class[5]"
   ]
  },
  {
   "cell_type": "markdown",
   "metadata": {},
   "source": [
    "Now, we calculate TPR and FPR using sklearn.metrics, with roc_curve (a built in function)."
   ]
  },
  {
   "cell_type": "code",
   "execution_count": 6,
   "metadata": {},
   "outputs": [
    {
     "name": "stdout",
     "output_type": "stream",
     "text": [
      "TPR = [0.    0.278 0.466 0.678 0.8   0.95  1.   ]\n",
      "FPR = [0.    0.006 0.021 0.157 0.303 0.82  1.   ]\n"
     ]
    }
   ],
   "source": [
    "fpr, tpr, ths = roc_curve(labels, predicted)\n",
    "\n",
    "print('TPR =', np.round(tpr, 3))\n",
    "print('FPR =', np.round(fpr, 3))"
   ]
  },
  {
   "cell_type": "markdown",
   "metadata": {},
   "source": [
    "After that, we can plot it, so we see that it has a good behaviour: its higher than a stright line from [0,0] to [1,1], which is randomly classified. This would be the standart classifier with TPR, FPR = [0, 1], which we're ploting with a red line.\n",
    "\n",
    "We can study it numerically by using AUC score, calculated with a built-in function."
   ]
  },
  {
   "cell_type": "code",
   "execution_count": 7,
   "metadata": {},
   "outputs": [
    {
     "name": "stdout",
     "output_type": "stream",
     "text": [
      "AUC score: 0.8200012360939432\n"
     ]
    },
    {
     "data": {
      "text/plain": [
       "[<matplotlib.lines.Line2D at 0x116c8bcc0>]"
      ]
     },
     "execution_count": 7,
     "metadata": {},
     "output_type": "execute_result"
    },
    {
     "data": {
      "image/png": "[encoded data removed]",
      "text/plain": [
       "<Figure size 432x288 with 1 Axes>"
      ]
     },
     "metadata": {
      "needs_background": "light"
     },
     "output_type": "display_data"
    }
   ],
   "source": [
    "print('AUC score:', roc_auc_score(labels, predicted))\n",
    "plt.plot(fpr, tpr)\n",
    "plt.plot([0, 1], [0, 1], ':r')"
   ]
  },
  {
   "cell_type": "markdown",
   "metadata": {},
   "source": [
    "## c)"
   ]
  },
  {
   "cell_type": "markdown",
   "metadata": {},
   "source": [
    "We want to verify if class and sex features are or not independent.\n",
    "\n",
    "In order to do that, we firstly calculate propability $P(sex, class|survive)$, so we apply next equation:\n",
    "\n",
    "\\begin{equation} P(sex, class|survive) = \\frac{P(sex, class, survive)}{P(survive)} \\end{equation}\n",
    "\n",
    "If they are conditional independent, this probability should be equal to the product P(sex|survive)P(class|survive):\n",
    "\n",
    "\\begin{equation} P(sex|survive)P(class|survive) = \\frac{P(sex, survive)P(class, survive)}{P(survive)^2} \\end{equation}\n",
    "\n",
    "We're doing that for survivors or not."
   ]
  },
  {
   "cell_type": "code",
   "execution_count": 8,
   "metadata": {},
   "outputs": [],
   "source": [
    "N_passengers = len(data_pclass_sex['survived'])\n",
    "P_survival = np.count_nonzero(labels == 1) / N_passengers\n",
    "P_non_survival = np.count_nonzero(labels == 0) / N_passengers\n",
    "\n",
    "def P_survival_sex_class(sex, pclass, i):\n",
    "    return counts[i][sex][pclass] / N_passengers\n",
    "\n",
    "def P_survival_sex(sex, i):\n",
    "    return sum(counts[i][sex]) / N_passengers\n",
    "\n",
    "def P_survival_class(pclass, i):\n",
    "    return sum(counts_2[i][pclass]) / N_passengers"
   ]
  },
  {
   "cell_type": "markdown",
   "metadata": {},
   "source": [
    "So, we can proceed to calculate expected values for our passengers, and we'll see if they are or not independent."
   ]
  },
  {
   "cell_type": "code",
   "execution_count": 9,
   "metadata": {},
   "outputs": [],
   "source": [
    "predicted_1_s, predicted_2_s = 0, 0 # Survivals\n",
    "predicted_1_ns, predicted_2_ns = 0, 0 # Not survivals\n",
    "cases = 0\n",
    "\n",
    "for sex in ['male', 'female']:\n",
    "    for pclass in np.arange(1, 4):\n",
    "        predicted_1_s = np.append(predicted_1_s, P_survival_sex_class(sex, pclass, 1) / P_survival)\n",
    "        predicted_1_ns = np.append(predicted_1_ns, P_survival_sex_class(sex, pclass, 0) / P_non_survival)\n",
    "        \n",
    "        predicted_2_s = np.append(predicted_2_s, P_survival_sex(sex, 1) * P_survival_class(pclass, 1) / P_survival**2)\n",
    "        predicted_2_ns = np.append(predicted_2_ns, P_survival_sex(sex, 0) * P_survival_class(pclass, 0) / P_non_survival**2)\n",
    "        cases += 1\n",
    "\n",
    "predicted_1_s, predicted_2_s = np.delete(predicted_1_s, 0), np.delete(predicted_2_s, 0)\n",
    "predicted_1_ns, predicted_2_ns = np.delete(predicted_1_ns, 0), np.delete(predicted_2_ns, 0)"
   ]
  },
  {
   "cell_type": "markdown",
   "metadata": {},
   "source": [
    "We can plot our results, so we can see they're not really different. In fact, both curves move the same way, so we can assume that they are pretty independent."
   ]
  },
  {
   "cell_type": "code",
   "execution_count": 10,
   "metadata": {},
   "outputs": [
    {
     "data": {
      "image/png": "[encoded data removed]",
      "text/plain": [
       "<Figure size 432x288 with 1 Axes>"
      ]
     },
     "metadata": {
      "needs_background": "light"
     },
     "output_type": "display_data"
    }
   ],
   "source": [
    "plt.plot(range(cases), predicted_1_s, label = u'Predicted 1')\n",
    "plt.plot(range(cases), predicted_2_s, label = u'Predicted 2')\n",
    "plt.legend(loc = 'best')\n",
    "plt.title(u'Survivor')\n",
    "plt.show()"
   ]
  },
  {
   "cell_type": "code",
   "execution_count": 11,
   "metadata": {},
   "outputs": [
    {
     "data": {
      "image/png": "[encoded data removed]",
      "text/plain": [
       "<Figure size 432x288 with 1 Axes>"
      ]
     },
     "metadata": {
      "needs_background": "light"
     },
     "output_type": "display_data"
    }
   ],
   "source": [
    "plt.plot(range(cases), predicted_1_ns, label = u'Predicted 1')\n",
    "plt.plot(range(cases), predicted_2_ns, label = u'Predicted 2')\n",
    "plt.legend(loc = 'best')\n",
    "plt.title(u'Not survivor')\n",
    "plt.show()"
   ]
  },
  {
   "cell_type": "markdown",
   "metadata": {},
   "source": [
    "Now, we can study it numerically, so we're using Pearson correlation coefficient, which is the covariance of the two variables divided by the product of their standard deviations. Since this coefficients are very hight, we can conclude that they are highly independent."
   ]
  },
  {
   "cell_type": "code",
   "execution_count": 12,
   "metadata": {},
   "outputs": [
    {
     "name": "stdout",
     "output_type": "stream",
     "text": [
      "Pearson correlation coefficient (survival) = 0.9378679574725755\n",
      "Pearson correlation coefficient (non survival) = 0.992053580317471\n"
     ]
    }
   ],
   "source": [
    "print('Pearson correlation coefficient (survival) =', np.corrcoef(predicted_1_s, predicted_2_s)[1, 0])\n",
    "print('Pearson correlation coefficient (non survival) =', np.corrcoef(predicted_1_ns, predicted_2_ns)[1, 0])"
   ]
  },
  {
   "cell_type": "markdown",
   "metadata": {},
   "source": [
    "## d)"
   ]
  },
  {
   "cell_type": "markdown",
   "metadata": {},
   "source": [
    "Once we saw those features were highly independent, we're applying next relation, directly from Naive Bayes definition:\n",
    "\n",
    "\\begin{equation} P_{NB}(survive|sex, class) = \\frac{P(sex, survive)P(class, survive)}{P(survive)P_{NB}(sex, class)} \\end{equation}\n",
    "\n",
    "Where:\n",
    "\n",
    "\\begin{equation} P_{NB}(sex, class) = P_{NB}(sex, class|surv = 0)P(surv = 0) + P_{NB}(sex, class|surv = 1)P(surv = 1) \\end{equation}\n",
    "\n",
    "We first calculate probability of survive or not."
   ]
  },
  {
   "cell_type": "code",
   "execution_count": 13,
   "metadata": {},
   "outputs": [],
   "source": [
    "N_passengers = len(data_pclass_sex['survived'])\n",
    "P_survival = np.count_nonzero(labels == 1) / N_passengers\n",
    "P_non_survival = np.count_nonzero(labels == 0) / N_passengers"
   ]
  },
  {
   "cell_type": "markdown",
   "metadata": {},
   "source": [
    "Now, we calculate probability of each class and sex conditionated to survive or not, as well as probability of sex and class.\n",
    "\n",
    "At the beginning of the code we defined counts_2, which has same data of counts, but differently organized (we'll be able to count all passengers of a class, independently of their sex)."
   ]
  },
  {
   "cell_type": "code",
   "execution_count": 14,
   "metadata": {},
   "outputs": [],
   "source": [
    "def P_NB_sex_class(sex, pclass):\n",
    "    return P_non_survival * counts[0][sex][pclass] / N_passengers + P_survival * counts[1][sex][pclass] / N_passengers\n",
    "\n",
    "def P_survival_sex(sex, i):\n",
    "    return sum(counts[i][sex]) / N_passengers\n",
    "\n",
    "def P_survival_class(pclass, i):\n",
    "    return sum(counts_2[i][pclass]) / N_passengers"
   ]
  },
  {
   "cell_type": "markdown",
   "metadata": {},
   "source": [
    "After that, we can calculate probability of surviving for each class and sex using Naives Bayes method."
   ]
  },
  {
   "cell_type": "code",
   "execution_count": 15,
   "metadata": {},
   "outputs": [
    {
     "name": "stdout",
     "output_type": "stream",
     "text": [
      "A male : \n",
      "\n",
      "In class 1 will non survive\n",
      "In class 2 will non survive\n",
      "In class 3 will non survive\n",
      "\n",
      "\n",
      "A female : \n",
      "\n",
      "In class 1 will survive\n",
      "In class 2 will survive\n",
      "In class 3 will survive\n",
      "\n",
      "\n"
     ]
    }
   ],
   "source": [
    "def Naive_Bayes(sex, pclass):\n",
    "    predicted_survive = P_survival_sex(sex, 1) * P_survival_class(pclass, 1) / P_survival / P_NB_sex_class(sex, pclass)\n",
    "    predicted_non_survive = P_survival_sex(sex, 0) * P_survival_class(pclass, 0) / P_non_survival / P_NB_sex_class(sex, pclass)\n",
    "    \n",
    "    aux = 'survive'\n",
    "    if predicted_survive < predicted_non_survive:\n",
    "        aux = 'non survive'\n",
    "    \n",
    "    return predicted_survive, predicted_non_survive, aux\n",
    "\n",
    "for sex in ['male', 'female']:\n",
    "    print('A', sex, ': \\n')\n",
    "    for pclass in np.arange(1, 4):\n",
    "        predicted_survive_aux, predicted_non_survive_aux, result = Naive_Bayes(sex, pclass)\n",
    "        print('In class', pclass, 'will', result)\n",
    "    print('\\n')"
   ]
  },
  {
   "cell_type": "markdown",
   "metadata": {},
   "source": [
    "In order to validate the method we calculate all predicted cases. Since we're also calculating accuracy, it can take a bit more time to develop the loop."
   ]
  },
  {
   "cell_type": "code",
   "execution_count": 16,
   "metadata": {},
   "outputs": [
    {
     "name": "stdout",
     "output_type": "stream",
     "text": [
      "The classiffier has an accuracy of: 0.7799847211611918\n"
     ]
    }
   ],
   "source": [
    "predicted_2 = np.zeros(N_passengers)\n",
    "binary_predicted = np.zeros(N_passengers)\n",
    "\n",
    "for i in range(N_passengers):\n",
    "    predicted_2[i] = Naive_Bayes(data['sex'][i], data['pclass'][i])[0]\n",
    "    binary_predicted_aux = Naive_Bayes(data['sex'][i], data['pclass'][i])[2]\n",
    "    if binary_predicted_aux == 'survive':\n",
    "        binary_predicted[i] = 1\n",
    "\n",
    "print('The classiffier has an accuracy of:', np.count_nonzero(binary_predicted == labels) / N_passengers)"
   ]
  },
  {
   "cell_type": "markdown",
   "metadata": {},
   "source": [
    "Then, we calculate TPR and FPR using sklearn.metrics, with roc_curve (a built-in function)."
   ]
  },
  {
   "cell_type": "code",
   "execution_count": 17,
   "metadata": {},
   "outputs": [
    {
     "name": "stdout",
     "output_type": "stream",
     "text": [
      "TPR = [0.    0.278 0.466 0.678 0.8   0.85  1.   ]\n",
      "FPR = [0.    0.006 0.021 0.157 0.303 0.483 1.   ]\n"
     ]
    }
   ],
   "source": [
    "fpr, tpr, ths = roc_curve(labels, predicted_2)\n",
    "\n",
    "print('TPR =', np.round(tpr, 3))\n",
    "print('FPR =', np.round(fpr, 3))"
   ]
  },
  {
   "cell_type": "markdown",
   "metadata": {},
   "source": [
    "Now, we can plot it, so we see that it has a good behaviour: its higher than a stright line from [0,0] to [1,1], which is randomly classified. We can study it numerically by using AUC score, calculated with another built in-function.\n",
    "\n",
    "Nevertheless, we can see that AUC score is smaller that for Bayer classifier. It could be due to that those features were not independet at all."
   ]
  },
  {
   "cell_type": "code",
   "execution_count": 18,
   "metadata": {},
   "outputs": [
    {
     "name": "stdout",
     "output_type": "stream",
     "text": [
      "AUC score: 0.8187651421508035\n"
     ]
    },
    {
     "data": {
      "text/plain": [
       "[<matplotlib.lines.Line2D at 0x1a1ef891d0>]"
      ]
     },
     "execution_count": 18,
     "metadata": {},
     "output_type": "execute_result"
    },
    {
     "data": {
      "image/png": "[encoded data removed]",
      "text/plain": [
       "<Figure size 432x288 with 1 Axes>"
      ]
     },
     "metadata": {
      "needs_background": "light"
     },
     "output_type": "display_data"
    }
   ],
   "source": [
    "print('AUC score:', roc_auc_score(labels, predicted_2))\n",
    "plt.plot(fpr, tpr)\n",
    "plt.plot([0,1],[0,1], ':r')"
   ]
  },
  {
   "cell_type": "markdown",
   "metadata": {},
   "source": [
    "# Exercise 2"
   ]
  },
  {
   "cell_type": "markdown",
   "metadata": {},
   "source": [
    "Now, we're adding age feature, so we're extending previous classifier.\n",
    "\n",
    "\\begin{equation} P_{NB}(survive|sex, class, age) = \\frac{P(sex, survive)P(class, survive)P(age, survive)}{P(survive)P_{NB}(sex, class, age)} \\end{equation}\n",
    "\n",
    "Where:\n",
    "\n",
    "\\begin{equation} P_{NB}(sex, class, age) = P_{NB}(sex, class, age|surv = 0)P(surv = 0) + P_{NB}(sex, class, age|surv = 1)P(surv = 1) \\end{equation}\n",
    "\n",
    "We're using all probabilities calculated in previous section, but we're now calculating probabilities of each age conditionated to survive or not. First of all, we're diving people from ages into: child, adult and senior."
   ]
  },
  {
   "cell_type": "code",
   "execution_count": 19,
   "metadata": {},
   "outputs": [],
   "source": [
    "data_with_age = data_pclass_sex.copy()\n",
    "data_with_age['age'] = data['age']\n",
    "N_ages = np.count_nonzero(data['age'].fillna(0))\n",
    "\n",
    "limits, lbls = [18,65], ['child','adult','senior']\n",
    "\n",
    "def categorizer(age):\n",
    "        for i, l in enumerate(limits):\n",
    "            if age <= l:\n",
    "                return lbls[i]\n",
    "        return lbls[-1]   \n",
    "\n",
    "def make_age_categorizer(limits, lbls):  \n",
    "    return categorizer\n",
    "\n",
    "ctg = make_age_categorizer(limits, lbls)\n",
    "data_with_age['age_category'] = data_with_age.age.apply(ctg)\n",
    "counts_with_age = data_with_age.groupby(['survived', 'age_category', 'sex', 'pclass']).size()"
   ]
  },
  {
   "cell_type": "markdown",
   "metadata": {},
   "source": [
    "Now, as we did in previous exercise, we define usefull functions. We use N_ages because not all passengers has that information."
   ]
  },
  {
   "cell_type": "code",
   "execution_count": 20,
   "metadata": {},
   "outputs": [],
   "source": [
    "def P_NB_sex_class_age(sex, pclass, age_group):\n",
    "    return P_non_survival * counts_with_age[0][age_group][sex][pclass] / N_ages + P_survival * counts_with_age[1][age_group][sex][pclass] / N_ages\n",
    "\n",
    "def P_survival_age(age_group, i):\n",
    "    return sum(counts_with_age[i][age_group]) / N_ages"
   ]
  },
  {
   "cell_type": "markdown",
   "metadata": {},
   "source": [
    "Now, we define a function to calculate probability in each case, and another one to calculate Naive Bayes probability, because we have too many cases to represent all of them.\n",
    "\n",
    "We have some gaps in age data, so we're using previous Naive Bayes classifier when needed."
   ]
  },
  {
   "cell_type": "code",
   "execution_count": 21,
   "metadata": {},
   "outputs": [
    {
     "name": "stdout",
     "output_type": "stream",
     "text": [
      "A male : \n",
      "\n",
      "In class 1 : \n",
      "\n",
      "child will non survive\n",
      "adult will non survive\n",
      "senior will non survive\n",
      "\n",
      "\n",
      "In class 2 : \n",
      "\n",
      "child will non survive\n",
      "adult will non survive\n",
      "senior will non survive\n",
      "\n",
      "\n",
      "In class 3 : \n",
      "\n",
      "child will non survive\n",
      "adult will non survive\n",
      "senior will non survive\n",
      "\n",
      "\n",
      "A female : \n",
      "\n",
      "In class 1 : \n",
      "\n",
      "child will survive\n",
      "adult will survive\n",
      "senior will survive\n",
      "\n",
      "\n",
      "In class 2 : \n",
      "\n",
      "child will survive\n",
      "adult will survive\n",
      "senior will survive\n",
      "\n",
      "\n",
      "In class 3 : \n",
      "\n",
      "child will survive\n",
      "adult will non survive\n",
      "senior will non survive\n",
      "\n",
      "\n"
     ]
    }
   ],
   "source": [
    "def Naive_Bayes_2(sex, pclass, age):\n",
    "    try:\n",
    "        age_group = categorizer(age)\n",
    "        predicted_survive = P_survival_sex(sex, 1) * P_survival_class(pclass, 1) * P_survival_age(age_group, 1) / P_survival / P_NB_sex_class_age(sex, pclass, age_group)\n",
    "        predicted_non_survive = P_survival_sex(sex, 0) * P_survival_class(pclass, 0) * P_survival_age(age_group, 0) / P_non_survival / P_NB_sex_class_age(sex, pclass, age_group)\n",
    "\n",
    "        aux = 'survive'\n",
    "        if predicted_survive < predicted_non_survive:\n",
    "            aux = 'non survive'\n",
    "        return predicted_survive, predicted_non_survive, aux\n",
    "    except:\n",
    "        return Naive_Bayes(sex, pclass) # When we don't have information about ages\n",
    "\n",
    "for sex in ['male','female']:\n",
    "    print('A', sex, ': \\n')\n",
    "    for i in np.arange(1,4):\n",
    "        print('In class', i, ': \\n')\n",
    "        for j in range(3):\n",
    "            possible_ages = [5, 40, 70]\n",
    "            print(categorizer(possible_ages[j]), 'will', Naive_Bayes_2(sex, i, possible_ages[j])[2])\n",
    "        print('\\n')"
   ]
  },
  {
   "cell_type": "code",
   "execution_count": 22,
   "metadata": {},
   "outputs": [
    {
     "name": "stdout",
     "output_type": "stream",
     "text": [
      "The classiffier has an accuracy of: 0.786096256684492\n"
     ]
    }
   ],
   "source": [
    "predicted = np.zeros(N_passengers)\n",
    "binary_predicted = np.zeros(N_passengers)\n",
    "\n",
    "for i in range(N_passengers):\n",
    "    predicted[i] = Naive_Bayes_2(data['sex'][i], data['pclass'][i], data['age'][i])[0]\n",
    "    binary_predicted_aux = Naive_Bayes_2(data['sex'][i], data['pclass'][i], data['age'][i])[2]\n",
    "    if binary_predicted_aux == 'survive':\n",
    "        binary_predicted[i] = 1\n",
    "\n",
    "print('The classiffier has an accuracy of:', np.count_nonzero(binary_predicted == labels) / N_passengers)"
   ]
  },
  {
   "cell_type": "markdown",
   "metadata": {},
   "source": [
    "Now we calculate TPR and FPR using sklearn.metrics, with roc_curve (a built in function)."
   ]
  },
  {
   "cell_type": "code",
   "execution_count": 23,
   "metadata": {},
   "outputs": [
    {
     "name": "stdout",
     "output_type": "stream",
     "text": [
      "TPR = [0.    0.004 0.028 0.052 0.064 0.294 0.334 0.416 0.56  0.622 0.644 0.648\n",
      " 0.716 0.808 0.826 0.85  0.88  0.968 1.   ]\n",
      "FPR = [0.    0.001 0.001 0.002 0.005 0.01  0.011 0.077 0.089 0.122 0.135 0.151\n",
      " 0.188 0.302 0.331 0.483 0.554 0.839 1.   ]\n"
     ]
    }
   ],
   "source": [
    "fpr, tpr, ths = roc_curve(labels, predicted)\n",
    "\n",
    "print('TPR =', np.round(tpr, 3))\n",
    "print('FPR =', np.round(fpr, 3))"
   ]
  },
  {
   "cell_type": "markdown",
   "metadata": {},
   "source": [
    "Finally, we can plot it, so we see that it has a good behaviour: its higher than a stright line from [0,0] to [1,1], which is randomly classified. We can study it numerically by using AUC score, calculated with a built in function.\n",
    "\n",
    "We get very similar values to the previous classiffier, which didn't take age group into account. What's more, now, AUC score is a bit smaller, instead accuracy is bigger."
   ]
  },
  {
   "cell_type": "code",
   "execution_count": 24,
   "metadata": {},
   "outputs": [
    {
     "name": "stdout",
     "output_type": "stream",
     "text": [
      "AUC score: 0.8164932014833127\n"
     ]
    },
    {
     "data": {
      "text/plain": [
       "[<matplotlib.lines.Line2D at 0x1a1f118b70>]"
      ]
     },
     "execution_count": 24,
     "metadata": {},
     "output_type": "execute_result"
    },
    {
     "data": {
      "image/png": "[encoded data removed]",
      "text/plain": [
       "<Figure size 432x288 with 1 Axes>"
      ]
     },
     "metadata": {
      "needs_background": "light"
     },
     "output_type": "display_data"
    }
   ],
   "source": [
    "print('AUC score:', roc_auc_score(labels, predicted))\n",
    "plt.plot(fpr, tpr)\n",
    "plt.plot([0, 1], [0, 1], ':r')"
   ]
  },
  {
   "cell_type": "code",
   "execution_count": null,
   "metadata": {},
   "outputs": [],
   "source": []
  }
 ],
 "metadata": {
  "kernelspec": {
   "display_name": "Python 3",
   "language": "python",
   "name": "python3"
  },
  "language_info": {
   "codemirror_mode": {
    "name": "ipython",
    "version": 3
   },
   "file_extension": ".py",
   "mimetype": "text/x-python",
   "name": "python",
   "nbconvert_exporter": "python",
   "pygments_lexer": "ipython3",
   "version": "3.5.6"
  }
 },
 "nbformat": 4,
 "nbformat_minor": 2
}
