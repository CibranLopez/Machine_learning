{
 "cells": [
  {
   "cell_type": "markdown",
   "metadata": {},
   "source": [
    "# Exercise 2.4"
   ]
  },
  {
   "cell_type": "markdown",
   "metadata": {},
   "source": [
    "First of all, we import usefull libraries. In this case, it's only needed numpy library."
   ]
  },
  {
   "cell_type": "code",
   "execution_count": 1,
   "metadata": {},
   "outputs": [],
   "source": [
    "import numpy as np"
   ]
  },
  {
   "cell_type": "markdown",
   "metadata": {},
   "source": [
    "Now, we import our stored data from hard c-means with 2 and 3 centers. Since we did our own program to get 3 centroids, we're using our own data and taking 2-centroids data from given material."
   ]
  },
  {
   "cell_type": "code",
   "execution_count": 2,
   "metadata": {},
   "outputs": [],
   "source": [
    "%store -r new_centers_hcm\n",
    "new_centers_hcm3 = np.array(new_centers_hcm)\n",
    "\n",
    "new_centers_hcm2 = np.array([[0.127701, 0.207853], [0.829077, 0.970594]])"
   ]
  },
  {
   "cell_type": "markdown",
   "metadata": {},
   "source": [
    "We define a function to determine euclidean distance between two points, based in norm of a vector which is de difference between those points (we're using $numpy.linanlg.norm$ module).\n",
    "\n",
    "Then, we define $s_2$ metric function, which is about distance between two centers. "
   ]
  },
  {
   "cell_type": "code",
   "execution_count": 3,
   "metadata": {},
   "outputs": [],
   "source": [
    "def calculate_distance(x, v):\n",
    "    return np.linalg.norm(x - v)\n",
    "\n",
    "def calculate_s_2(centers):\n",
    "    n = len(centers)\n",
    "    s2 = []\n",
    "    for center_1 in range(n):\n",
    "        for center_2 in range(n):\n",
    "            if center_1 == center_2:\n",
    "                break\n",
    "            s2.append(calculate_distance(centers[center_1], centers[center_2]))\n",
    "    return s2"
   ]
  },
  {
   "cell_type": "markdown",
   "metadata": {},
   "source": [
    "Finally, we build it for our data, where higher values mean a better cluster."
   ]
  },
  {
   "cell_type": "code",
   "execution_count": 4,
   "metadata": {},
   "outputs": [
    {
     "name": "stdout",
     "output_type": "stream",
     "text": [
      "[1.036195988438963]\n",
      "[0.21555532325588664, 1.0988483241906624, 0.960156085310813]\n"
     ]
    }
   ],
   "source": [
    "s2_2 = calculate_s_2(new_centers_hcm2)\n",
    "s2_3 = calculate_s_2(new_centers_hcm3)\n",
    "\n",
    "print(s2_2)\n",
    "print(s2_3)"
   ]
  },
  {
   "cell_type": "markdown",
   "metadata": {},
   "source": [
    "We can see that results for $new\\_centers\\_hcm3$ are slightly different that the ones we can find on class material. It can be due to the fact that I used smaller error margin than in class, so centroids are a bit displaced."
   ]
  },
  {
   "cell_type": "code",
   "execution_count": null,
   "metadata": {},
   "outputs": [],
   "source": []
  }
 ],
 "metadata": {
  "kernelspec": {
   "display_name": "Python 3",
   "language": "python",
   "name": "python3"
  },
  "language_info": {
   "codemirror_mode": {
    "name": "ipython",
    "version": 3
   },
   "file_extension": ".py",
   "mimetype": "text/x-python",
   "name": "python",
   "nbconvert_exporter": "python",
   "pygments_lexer": "ipython3",
   "version": "3.5.6"
  }
 },
 "nbformat": 4,
 "nbformat_minor": 4
}
