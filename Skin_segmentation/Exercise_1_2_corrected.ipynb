{
 "cells": [
  {
   "cell_type": "markdown",
   "metadata": {},
   "source": [
    "# Exercise 1"
   ]
  },
  {
   "cell_type": "markdown",
   "metadata": {},
   "source": [
    "First of all, we import some usefull libraries."
   ]
  },
  {
   "cell_type": "code",
   "execution_count": 1,
   "metadata": {},
   "outputs": [],
   "source": [
    "import numpy as np\n",
    "import matplotlib.pyplot as plt\n",
    "import pandas as pd\n",
    "from colorsys import rgb_to_hsv\n",
    "from sklearn.model_selection import train_test_split\n",
    "\n",
    "from sklearn.discriminant_analysis import QuadraticDiscriminantAnalysis\n",
    "from sklearn.discriminant_analysis import LinearDiscriminantAnalysis\n",
    "from sklearn.naive_bayes import GaussianNB\n",
    "\n",
    "from sklearn.metrics import accuracy_score, f1_score, precision_score, recall_score\n",
    "from sklearn.metrics import confusion_matrix, roc_curve, roc_auc_score"
   ]
  },
  {
   "cell_type": "markdown",
   "metadata": {},
   "source": [
    "Then, we import our data, which is in txt format. We also define train/test sets with a $80-20$ proportion.\n",
    "\n",
    "We remark that we're considering $2$ values in labels (non-skin) as negative."
   ]
  },
  {
   "cell_type": "code",
   "execution_count": 2,
   "metadata": {},
   "outputs": [],
   "source": [
    "data = np.loadtxt('data/Skin_NonSkin.txt')\n",
    "\n",
    "rgb  = data[:,:3]\n",
    "lbl = data[:,3].astype('int32')\n",
    "\n",
    "# Non-skin is negative\n",
    "lbl[lbl == 2] = -1\n",
    "\n",
    "train_rgb, test_rgb, train_lbl, test_lbl = train_test_split(rgb, lbl, test_size=0.2)"
   ]
  },
  {
   "cell_type": "markdown",
   "metadata": {},
   "source": [
    "Then, we define our ${\\it analize}$ function, which obtain all requested elements and prepare the plot of ROC curves."
   ]
  },
  {
   "cell_type": "code",
   "execution_count": 3,
   "metadata": {},
   "outputs": [],
   "source": [
    "def analize(classifier, name, train_X, train_Y, test_X, test_Y):\n",
    "    # We do the fitting and obtain predicted labels\n",
    "    classifier.fit(train_X, train_Y)\n",
    "    predicted = classifier.predict(test_X)\n",
    "    \n",
    "    # Then, we calculate confusion matrix with sklearn library, and we calculate rates from it\n",
    "    confusion_matrix_ = confusion_matrix(test_Y, predicted)\n",
    "    [[TN, FP], [FN, TP]] = confusion_matrix_\n",
    "    \n",
    "    TPR = TP / (TP + FN)\n",
    "    TNR = TN / (TN + FP)\n",
    "    FNR = FN / (FN + TP)\n",
    "    FPR = FP / (FP+ TN)\n",
    "    \n",
    "    # We calculate precision and f1 scores of our classifier\n",
    "    precision = precision_score(test_Y, predicted)\n",
    "    f1 = f1_score(test_Y, predicted)\n",
    "    \n",
    "    # We calculate probabilities of each result, so we can calcualte AUC score an ROC curve\n",
    "    base_proba = classifier.predict_proba(test_X)\n",
    "\n",
    "    fprs, tprs, thds = roc_curve(test_Y, base_proba[:, 1])\n",
    "    auc = roc_auc_score(test_Y, base_proba[:, 1])\n",
    "    plt.plot(fprs, tprs, label = name)\n",
    "    \n",
    "    return  pd.DataFrame({'tnr': TNR,\n",
    "                          'fnr': FNR,\n",
    "                          'fpr': FPR,\n",
    "                          'tpr': TPR,\n",
    "                          'precision' : precision,\n",
    "                          'f1' : f1,\n",
    "                          'auc' : auc\n",
    "                           }, index=[name]), fprs, tprs, thds"
   ]
  },
  {
   "cell_type": "markdown",
   "metadata": {},
   "source": [
    "Finally, we do a loop over all compared classifiers, so we load data in a data frame and plot all ROC curves in the same graph.\n",
    "\n",
    "We obtain higher ROC curves than a stright line from [0,0] to [1,1], which is randomly classified. This would be the standart classifier with TPR, FPR = [0, 1], which we're ploting with a red line."
   ]
  },
  {
   "cell_type": "code",
   "execution_count": 4,
   "metadata": {},
   "outputs": [
    {
     "data": {
      "image/png": "[encoded data removed]",
      "text/plain": [
       "<Figure size 432x288 with 1 Axes>"
      ]
     },
     "metadata": {
      "needs_background": "light"
     },
     "output_type": "display_data"
    }
   ],
   "source": [
    "data_frame_RGB = pd.DataFrame()\n",
    "\n",
    "cls = [QuadraticDiscriminantAnalysis(), LinearDiscriminantAnalysis(), GaussianNB()]\n",
    "names = ['qda', 'lda', 'gnb']\n",
    "\n",
    "for i in range(len(names)):\n",
    "    row, fprs, tprs, thds = analize(cls[i], names[i], train_rgb, train_lbl, test_rgb, test_lbl)\n",
    "    data_frame_RGB = pd.concat([data_frame_RGB, row])\n",
    "\n",
    "plt.plot([0, 1], [0, 1], ':r')\n",
    "plt.xlabel(u'fprs')\n",
    "plt.ylabel(u'tprs')\n",
    "plt.title(u'ROC curve (RGB)')\n",
    "plt.legend(loc = 'best')\n",
    "plt.show()"
   ]
  },
  {
   "cell_type": "markdown",
   "metadata": {},
   "source": [
    "We can consult here all stored data, in data frame format. We can clearly see that, with this data, ${\\it qda}$ is the best classifier."
   ]
  },
  {
   "cell_type": "code",
   "execution_count": 5,
   "metadata": {},
   "outputs": [
    {
     "data": {
      "text/html": [
       "<div>\n",
       "<style scoped>\n",
       "    .dataframe tbody tr th:only-of-type {\n",
       "        vertical-align: middle;\n",
       "    }\n",
       "\n",
       "    .dataframe tbody tr th {\n",
       "        vertical-align: top;\n",
       "    }\n",
       "\n",
       "    .dataframe thead th {\n",
       "        text-align: right;\n",
       "    }\n",
       "</style>\n",
       "<table border=\"1\" class=\"dataframe\">\n",
       "  <thead>\n",
       "    <tr style=\"text-align: right;\">\n",
       "      <th></th>\n",
       "      <th>auc</th>\n",
       "      <th>f1</th>\n",
       "      <th>fnr</th>\n",
       "      <th>fpr</th>\n",
       "      <th>precision</th>\n",
       "      <th>tnr</th>\n",
       "      <th>tpr</th>\n",
       "    </tr>\n",
       "  </thead>\n",
       "  <tbody>\n",
       "    <tr>\n",
       "      <th>qda</th>\n",
       "      <td>0.999581</td>\n",
       "      <td>0.959154</td>\n",
       "      <td>0.072937</td>\n",
       "      <td>0.001569</td>\n",
       "      <td>0.993548</td>\n",
       "      <td>0.998431</td>\n",
       "      <td>0.927063</td>\n",
       "    </tr>\n",
       "    <tr>\n",
       "      <th>lda</th>\n",
       "      <td>0.947352</td>\n",
       "      <td>0.845919</td>\n",
       "      <td>0.095638</td>\n",
       "      <td>0.060931</td>\n",
       "      <td>0.794572</td>\n",
       "      <td>0.939069</td>\n",
       "      <td>0.904362</td>\n",
       "    </tr>\n",
       "    <tr>\n",
       "      <th>gnb</th>\n",
       "      <td>0.940648</td>\n",
       "      <td>0.798665</td>\n",
       "      <td>0.267864</td>\n",
       "      <td>0.026389</td>\n",
       "      <td>0.878494</td>\n",
       "      <td>0.973611</td>\n",
       "      <td>0.732136</td>\n",
       "    </tr>\n",
       "  </tbody>\n",
       "</table>\n",
       "</div>"
      ],
      "text/plain": [
       "          auc        f1       fnr       fpr  precision       tnr       tpr\n",
       "qda  0.999581  0.959154  0.072937  0.001569   0.993548  0.998431  0.927063\n",
       "lda  0.947352  0.845919  0.095638  0.060931   0.794572  0.939069  0.904362\n",
       "gnb  0.940648  0.798665  0.267864  0.026389   0.878494  0.973611  0.732136"
      ]
     },
     "execution_count": 5,
     "metadata": {},
     "output_type": "execute_result"
    }
   ],
   "source": [
    "data_frame_RGB"
   ]
  },
  {
   "cell_type": "markdown",
   "metadata": {},
   "source": [
    "# Exercise 2"
   ]
  },
  {
   "cell_type": "markdown",
   "metadata": {},
   "source": [
    "In this part, we repeat same calculations, but with HSV format (instead of RGB).\n",
    "\n",
    "RGB uses primary colors, instead HSV has three components (hue, saturation, and value). This way, it gives a closer way of how humans perceive color.\n",
    "\n",
    "Since both ways represent same data in different ways, we're seeing that we can obtain different results in both cases."
   ]
  },
  {
   "cell_type": "code",
   "execution_count": 6,
   "metadata": {},
   "outputs": [],
   "source": [
    "rgb  = data[:,:3]\n",
    "hsv = np.asarray([rgb_to_hsv(*row) for row in rgb]) # RGB into HSV format (inneficient, but it does not matter)\n",
    "\n",
    "train_hsv, test_hsv, train_lbl, test_lbl = train_test_split(hsv, lbl, test_size=0.2)"
   ]
  },
  {
   "cell_type": "markdown",
   "metadata": {},
   "source": [
    "Finally, we do a loop over all compared classifiers by using same function defined above, so we load data in a data frame and plot all ROC curves in the same graph."
   ]
  },
  {
   "cell_type": "code",
   "execution_count": 7,
   "metadata": {},
   "outputs": [
    {
     "data": {
      "image/png": "[encoded data removed]",
      "text/plain": [
       "<Figure size 432x288 with 1 Axes>"
      ]
     },
     "metadata": {
      "needs_background": "light"
     },
     "output_type": "display_data"
    }
   ],
   "source": [
    "data_frame_HSV = pd.DataFrame()\n",
    "\n",
    "for i in range(len(names)):\n",
    "    row, fprs, tprs, thds = analize(cls[i], names[i], train_hsv, train_lbl, test_hsv, test_lbl)\n",
    "    data_frame_HSV = pd.concat([data_frame_HSV, row])\n",
    "\n",
    "plt.plot([0, 1], [0, 1], ':r')\n",
    "plt.xlabel(u'fprs')\n",
    "plt.ylabel(u'tprs')\n",
    "plt.title(u'ROC curve (HSV)')\n",
    "plt.legend(loc = 'best')\n",
    "plt.show()"
   ]
  },
  {
   "cell_type": "markdown",
   "metadata": {},
   "source": [
    "We can consult here all stored data, in data frame format. We can clearly see that, with this data, ${\\it qda}$ is the best classifier again.\n",
    "\n",
    "Nevertheless, we can see that classifiers get different results with HSV format (${\\it gnb}$ has a huge improvement)."
   ]
  },
  {
   "cell_type": "code",
   "execution_count": 8,
   "metadata": {},
   "outputs": [
    {
     "data": {
      "text/html": [
       "<div>\n",
       "<style scoped>\n",
       "    .dataframe tbody tr th:only-of-type {\n",
       "        vertical-align: middle;\n",
       "    }\n",
       "\n",
       "    .dataframe tbody tr th {\n",
       "        vertical-align: top;\n",
       "    }\n",
       "\n",
       "    .dataframe thead th {\n",
       "        text-align: right;\n",
       "    }\n",
       "</style>\n",
       "<table border=\"1\" class=\"dataframe\">\n",
       "  <thead>\n",
       "    <tr style=\"text-align: right;\">\n",
       "      <th></th>\n",
       "      <th>auc</th>\n",
       "      <th>f1</th>\n",
       "      <th>fnr</th>\n",
       "      <th>fpr</th>\n",
       "      <th>precision</th>\n",
       "      <th>tnr</th>\n",
       "      <th>tpr</th>\n",
       "    </tr>\n",
       "  </thead>\n",
       "  <tbody>\n",
       "    <tr>\n",
       "      <th>qda</th>\n",
       "      <td>0.999492</td>\n",
       "      <td>0.983423</td>\n",
       "      <td>0.013618</td>\n",
       "      <td>0.005119</td>\n",
       "      <td>0.980481</td>\n",
       "      <td>0.994881</td>\n",
       "      <td>0.986382</td>\n",
       "    </tr>\n",
       "    <tr>\n",
       "      <th>lda</th>\n",
       "      <td>0.930436</td>\n",
       "      <td>0.834589</td>\n",
       "      <td>0.000000</td>\n",
       "      <td>0.103323</td>\n",
       "      <td>0.716133</td>\n",
       "      <td>0.896677</td>\n",
       "      <td>1.000000</td>\n",
       "    </tr>\n",
       "    <tr>\n",
       "      <th>gnb</th>\n",
       "      <td>0.997392</td>\n",
       "      <td>0.971296</td>\n",
       "      <td>0.004934</td>\n",
       "      <td>0.014044</td>\n",
       "      <td>0.948636</td>\n",
       "      <td>0.985956</td>\n",
       "      <td>0.995066</td>\n",
       "    </tr>\n",
       "  </tbody>\n",
       "</table>\n",
       "</div>"
      ],
      "text/plain": [
       "          auc        f1       fnr       fpr  precision       tnr       tpr\n",
       "qda  0.999492  0.983423  0.013618  0.005119   0.980481  0.994881  0.986382\n",
       "lda  0.930436  0.834589  0.000000  0.103323   0.716133  0.896677  1.000000\n",
       "gnb  0.997392  0.971296  0.004934  0.014044   0.948636  0.985956  0.995066"
      ]
     },
     "execution_count": 8,
     "metadata": {},
     "output_type": "execute_result"
    }
   ],
   "source": [
    "data_frame_HSV"
   ]
  }
 ],
 "metadata": {
  "kernelspec": {
   "display_name": "Python 3",
   "language": "python",
   "name": "python3"
  },
  "language_info": {
   "codemirror_mode": {
    "name": "ipython",
    "version": 3
   },
   "file_extension": ".py",
   "mimetype": "text/x-python",
   "name": "python",
   "nbconvert_exporter": "python",
   "pygments_lexer": "ipython3",
   "version": "3.5.6"
  }
 },
 "nbformat": 4,
 "nbformat_minor": 4
}
