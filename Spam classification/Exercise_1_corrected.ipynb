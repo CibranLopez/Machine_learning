{
 "cells": [
  {
   "cell_type": "markdown",
   "metadata": {},
   "source": [
    "### Exercise 1"
   ]
  },
  {
   "cell_type": "markdown",
   "metadata": {},
   "source": [
    "First of all, we import some usefull libraries."
   ]
  },
  {
   "cell_type": "code",
   "execution_count": 1,
   "metadata": {},
   "outputs": [],
   "source": [
    "import numpy as np\n",
    "import pandas as pd\n",
    "import matplotlib.pyplot as plt\n",
    "import os as os\n",
    "import shutil as shutil\n",
    "\n",
    "from sklearn.datasets import load_files\n",
    "from sklearn.datasets.base import Bunch\n",
    "from sklearn.model_selection import train_test_split\n",
    "from sklearn.feature_extraction.text import CountVectorizer\n",
    "from sklearn.naive_bayes import MultinomialNB\n",
    "from sklearn.metrics import accuracy_score, f1_score, precision_score, recall_score\n",
    "from sklearn.metrics import confusion_matrix\n",
    "from sklearn.metrics import roc_curve, roc_auc_score"
   ]
  },
  {
   "cell_type": "markdown",
   "metadata": {},
   "source": [
    "We load our data and display target names."
   ]
  },
  {
   "cell_type": "code",
   "execution_count": 2,
   "metadata": {},
   "outputs": [
    {
     "data": {
      "text/plain": [
       "['ham', 'spam']"
      ]
     },
     "execution_count": 2,
     "metadata": {},
     "output_type": "execute_result"
    }
   ],
   "source": [
    "data1 = load_files('data/Enron_1/', encoding='latin-1', shuffle=True, categories=['ham', 'spam'] )\n",
    "data1['target_names']"
   ]
  },
  {
   "cell_type": "markdown",
   "metadata": {},
   "source": [
    "# A"
   ]
  },
  {
   "cell_type": "markdown",
   "metadata": {},
   "source": [
    "We want to split our data into train-test set with proportion of 80-20. In order to do that, we're using ${\\it train\\_test\\_split}$ method, from sklearn.\n",
    "\n",
    "First of all, we convert our data to pandas dataframe, so this way it's easier to manage it."
   ]
  },
  {
   "cell_type": "code",
   "execution_count": 3,
   "metadata": {},
   "outputs": [
    {
     "name": "stdout",
     "output_type": "stream",
     "text": [
      "0    2937\n",
      "1    1200\n",
      "Name: spam, dtype: int64\n"
     ]
    }
   ],
   "source": [
    "df1 = pd.DataFrame({'text': data1['data'], 'spam': data1['target']})\n",
    "\n",
    "N_data = len(df1)\n",
    "N_train_data = int(0.8 * N_data); N_test_data = N_data - N_train_data\n",
    "\n",
    "train_data, test_data = train_test_split(df1, train_size=N_train_data, test_size=N_test_data)\n",
    "\n",
    "print(df1.spam.value_counts())"
   ]
  },
  {
   "cell_type": "markdown",
   "metadata": {},
   "source": [
    "As an example, we take first 5 rows of train data."
   ]
  },
  {
   "cell_type": "code",
   "execution_count": 4,
   "metadata": {},
   "outputs": [
    {
     "data": {
      "text/html": [
       "<div>\n",
       "<style scoped>\n",
       "    .dataframe tbody tr th:only-of-type {\n",
       "        vertical-align: middle;\n",
       "    }\n",
       "\n",
       "    .dataframe tbody tr th {\n",
       "        vertical-align: top;\n",
       "    }\n",
       "\n",
       "    .dataframe thead th {\n",
       "        text-align: right;\n",
       "    }\n",
       "</style>\n",
       "<table border=\"1\" class=\"dataframe\">\n",
       "  <thead>\n",
       "    <tr style=\"text-align: right;\">\n",
       "      <th></th>\n",
       "      <th>spam</th>\n",
       "      <th>text</th>\n",
       "    </tr>\n",
       "  </thead>\n",
       "  <tbody>\n",
       "    <tr>\n",
       "      <th>1750</th>\n",
       "      <td>1</td>\n",
       "      <td>Subject: how to confidently attract , meet and...</td>\n",
       "    </tr>\n",
       "    <tr>\n",
       "      <th>949</th>\n",
       "      <td>0</td>\n",
       "      <td>Subject: re : cilco storage\\r\\nyes , they are ...</td>\n",
       "    </tr>\n",
       "    <tr>\n",
       "      <th>1404</th>\n",
       "      <td>1</td>\n",
       "      <td>Subject: stockalert : investors need to know\\r...</td>\n",
       "    </tr>\n",
       "    <tr>\n",
       "      <th>3888</th>\n",
       "      <td>0</td>\n",
       "      <td>Subject: alternative work schedule status\\r\\na...</td>\n",
       "    </tr>\n",
       "    <tr>\n",
       "      <th>1101</th>\n",
       "      <td>1</td>\n",
       "      <td>Subject: guaranteed satisfaction , cheapest pr...</td>\n",
       "    </tr>\n",
       "  </tbody>\n",
       "</table>\n",
       "</div>"
      ],
      "text/plain": [
       "      spam                                               text\n",
       "1750     1  Subject: how to confidently attract , meet and...\n",
       "949      0  Subject: re : cilco storage\\r\\nyes , they are ...\n",
       "1404     1  Subject: stockalert : investors need to know\\r...\n",
       "3888     0  Subject: alternative work schedule status\\r\\na...\n",
       "1101     1  Subject: guaranteed satisfaction , cheapest pr..."
      ]
     },
     "execution_count": 4,
     "metadata": {},
     "output_type": "execute_result"
    }
   ],
   "source": [
    "train_data.head(5)"
   ]
  },
  {
   "cell_type": "markdown",
   "metadata": {},
   "source": [
    "Then, we use ${\\it CountVectorizer}$ method from sklearn in order to convert the collection of text documents to a matrix of token counts."
   ]
  },
  {
   "cell_type": "code",
   "execution_count": 5,
   "metadata": {},
   "outputs": [
    {
     "name": "stdout",
     "output_type": "stream",
     "text": [
      "[[0 0 0 ... 0 0 0]\n",
      " [0 3 0 ... 0 0 0]\n",
      " [0 1 0 ... 0 0 0]\n",
      " ...\n",
      " [0 1 0 ... 0 0 0]\n",
      " [0 0 0 ... 0 0 0]\n",
      " [0 0 0 ... 0 0 0]]\n"
     ]
    }
   ],
   "source": [
    "vectorizer = CountVectorizer()\n",
    "spam_features = vectorizer.fit_transform(train_data.text)\n",
    "\n",
    "print(spam_features.toarray())"
   ]
  },
  {
   "cell_type": "code",
   "execution_count": 6,
   "metadata": {},
   "outputs": [
    {
     "name": "stdout",
     "output_type": "stream",
     "text": [
      "The resulting vocabulary has a shape of: (3309, 38225) and its lenght is: 38225\n"
     ]
    }
   ],
   "source": [
    "shape = spam_features.shape\n",
    "print('The resulting vocabulary has a shape of:', shape, 'and its lenght is:', shape[1])"
   ]
  },
  {
   "cell_type": "markdown",
   "metadata": {},
   "source": [
    "As an example of methods of vectorizer function, we can see how many times does ${\\it please}$ appear in the mails."
   ]
  },
  {
   "cell_type": "code",
   "execution_count": 7,
   "metadata": {},
   "outputs": [
    {
     "data": {
      "text/plain": [
       "27430"
      ]
     },
     "execution_count": 7,
     "metadata": {},
     "output_type": "execute_result"
    }
   ],
   "source": [
    "vectorizer.vocabulary_['please']"
   ]
  },
  {
   "cell_type": "markdown",
   "metadata": {},
   "source": [
    "Then, we apply multinomial Naive Bayes in order to classify our dataset. We're using ${\\it MultinomialNB}$ method from sklearn. Finally, we fit it with our train dataset and our features."
   ]
  },
  {
   "cell_type": "code",
   "execution_count": 8,
   "metadata": {},
   "outputs": [
    {
     "data": {
      "text/plain": [
       "MultinomialNB(alpha=1.0, class_prior=None, fit_prior=True)"
      ]
     },
     "execution_count": 8,
     "metadata": {},
     "output_type": "execute_result"
    }
   ],
   "source": [
    "base_spam_classifier = MultinomialNB()\n",
    "base_spam_classifier.fit(spam_features, train_data.spam)"
   ]
  },
  {
   "cell_type": "markdown",
   "metadata": {},
   "source": [
    "# B"
   ]
  },
  {
   "cell_type": "markdown",
   "metadata": {},
   "source": [
    "## 1"
   ]
  },
  {
   "cell_type": "markdown",
   "metadata": {},
   "source": [
    "Using the test set, we calculate the confusion matrix (know as an error matrix) using ${\\it confusion\\_matrix}$ method from sklearn using the test set, and then we plot it.\n",
    "\n",
    "Since ${\\it plot\\_confusion\\_matrix}$ method is not working, we calculate matrix coefficients and them plot it with ${\\it imshow}$ method, from matplotlib. Nevertheless, ${\\it plot\\_confusion\\_matrix}$ method should work."
   ]
  },
  {
   "cell_type": "code",
   "execution_count": 9,
   "metadata": {},
   "outputs": [
    {
     "data": {
      "text/plain": [
       "array([[587,   9],\n",
       "       [  8, 224]])"
      ]
     },
     "execution_count": 9,
     "metadata": {},
     "output_type": "execute_result"
    }
   ],
   "source": [
    "test_features = vectorizer.transform(test_data.text)\n",
    "base_predicted =  base_spam_classifier.predict(test_features)\n",
    "confusion_matrix(test_data.spam, base_predicted)\n",
    "#plot_confusion_matrix(base_spam_classifier, test_data.text, test_data.spam)"
   ]
  },
  {
   "cell_type": "markdown",
   "metadata": {},
   "source": [
    "And we plot it."
   ]
  },
  {
   "cell_type": "code",
   "execution_count": 10,
   "metadata": {},
   "outputs": [
    {
     "data": {
      "text/plain": [
       "<matplotlib.image.AxesImage at 0x1a12f326a0>"
      ]
     },
     "execution_count": 10,
     "metadata": {},
     "output_type": "execute_result"
    },
    {
     "data": {
      "image/png": "[encoded data removed]",
      "text/plain": [
       "<Figure size 432x288 with 1 Axes>"
      ]
     },
     "metadata": {
      "needs_background": "light"
     },
     "output_type": "display_data"
    }
   ],
   "source": [
    "plt.imshow(confusion_matrix(test_data.spam, base_predicted))"
   ]
  },
  {
   "cell_type": "markdown",
   "metadata": {},
   "source": [
    "## 2"
   ]
  },
  {
   "cell_type": "markdown",
   "metadata": {},
   "source": [
    "Now, we calculate ${\\it recall}$ and ${\\it precison}$ scores with sklearn library, as well as the accuracy. We can see that we obtain high values, so it's fine."
   ]
  },
  {
   "cell_type": "code",
   "execution_count": 11,
   "metadata": {},
   "outputs": [
    {
     "name": "stdout",
     "output_type": "stream",
     "text": [
      "The accuracy is: 0.9794685990338164\n",
      "The recall score is: 0.9655172413793104\n",
      "The precision score is: 0.9613733905579399\n"
     ]
    }
   ],
   "source": [
    "print('The accuracy is:' ,accuracy_score(test_data.spam, base_predicted))\n",
    "print('The recall score is:', recall_score(test_data.spam, base_predicted))\n",
    "print('The precision score is:', precision_score(test_data.spam, base_predicted))"
   ]
  },
  {
   "cell_type": "markdown",
   "metadata": {},
   "source": [
    "## 3"
   ]
  },
  {
   "cell_type": "markdown",
   "metadata": {},
   "source": [
    "Then, we proceed to calculate ROC curve and AUC score with sklearn library. In order to do that, we calculate estimated probabilities with ${\\it preditc\\_proba}$ method. First of all, we calculate TPR and FPR scores."
   ]
  },
  {
   "cell_type": "code",
   "execution_count": 12,
   "metadata": {},
   "outputs": [
    {
     "name": "stdout",
     "output_type": "stream",
     "text": [
      "TPR = [0.    0.591 0.616 0.616 0.862 0.862 0.866 0.866 0.905 0.905 0.935 0.935\n",
      " 0.991 0.991 0.996 0.996 1.    1.    1.    1.    1.    1.    1.    1.\n",
      " 1.    1.    1.    1.    1.    1.    1.    1.    1.    1.    1.    1.\n",
      " 1.    1.    1.    1.    1.    1.    1.    1.    1.   ]\n",
      "FPR = [0.    0.007 0.007 0.008 0.008 0.01  0.01  0.012 0.012 0.013 0.013 0.015\n",
      " 0.015 0.018 0.018 0.022 0.022 0.06  0.064 0.102 0.106 0.107 0.111 0.159\n",
      " 0.163 0.195 0.198 0.227 0.23  0.27  0.277 0.393 0.401 0.565 0.569 0.574\n",
      " 0.577 0.671 0.674 0.706 0.71  0.772 0.775 0.948 1.   ]\n"
     ]
    }
   ],
   "source": [
    "base_proba = base_spam_classifier.predict_proba(test_features)\n",
    "\n",
    "fpr, tpr, ths = roc_curve(test_data.spam, base_proba[:,1])\n",
    "\n",
    "print('TPR =', np.round(tpr, 3))\n",
    "print('FPR =', np.round(fpr, 3))"
   ]
  },
  {
   "cell_type": "markdown",
   "metadata": {},
   "source": [
    "Finally, we calculate that AUC score and prot ROC curve. We remark that red line, with between points $[0, 0]$ and $[1, 1]$ is randomly classified (this would be the standart classifier with $TPR, FPR = [0, 1]$)."
   ]
  },
  {
   "cell_type": "code",
   "execution_count": 13,
   "metadata": {},
   "outputs": [
    {
     "name": "stdout",
     "output_type": "stream",
     "text": [
      "AUC score: 0.9938599282573478\n"
     ]
    },
    {
     "data": {
      "text/plain": [
       "[<matplotlib.lines.Line2D at 0x1a12f36a58>]"
      ]
     },
     "execution_count": 13,
     "metadata": {},
     "output_type": "execute_result"
    },
    {
     "data": {
      "image/png": "[encoded data removed]",
      "text/plain": [
       "<Figure size 432x288 with 1 Axes>"
      ]
     },
     "metadata": {
      "needs_background": "light"
     },
     "output_type": "display_data"
    }
   ],
   "source": [
    "print('AUC score:', roc_auc_score(test_data.spam, base_proba[:,1]))\n",
    "\n",
    "plt.plot(fpr, tpr)\n",
    "plt.plot([0, 1], [0, 1], ':r')"
   ]
  },
  {
   "cell_type": "markdown",
   "metadata": {},
   "source": [
    "## 4"
   ]
  },
  {
   "cell_type": "markdown",
   "metadata": {},
   "source": [
    "To get percentage of valid mails classified as spam we have to substract test data to predicted labels ($prediction - data$), so we get $+1$ where it is valid mail classified as spam, and $-1$ where it is spam classified as valid mail."
   ]
  },
  {
   "cell_type": "code",
   "execution_count": 14,
   "metadata": {},
   "outputs": [
    {
     "data": {
      "text/plain": [
       "1.5100671140939597"
      ]
     },
     "execution_count": 14,
     "metadata": {},
     "output_type": "execute_result"
    }
   ],
   "source": [
    "N_valid_mails = np.count_nonzero(np.array(test_data.spam) == 0)\n",
    "np.count_nonzero((base_predicted - np.array(test_data.spam)) == 1) * 100 / N_valid_mails"
   ]
  },
  {
   "cell_type": "markdown",
   "metadata": {},
   "source": [
    "As we can see, we have about $1.5\\%$ misclassified valid mails over all valid mails."
   ]
  },
  {
   "cell_type": "markdown",
   "metadata": {},
   "source": [
    "## 5"
   ]
  },
  {
   "cell_type": "markdown",
   "metadata": {},
   "source": [
    "Now, we have to count number of $-1$ values using previous method, where it is spam classified as valild mail (ham)."
   ]
  },
  {
   "cell_type": "code",
   "execution_count": 15,
   "metadata": {},
   "outputs": [
    {
     "data": {
      "text/plain": [
       "1.3445378151260505"
      ]
     },
     "execution_count": 15,
     "metadata": {},
     "output_type": "execute_result"
    }
   ],
   "source": [
    "N_classified_valid_mails = np.count_nonzero(np.array(base_predicted) == 0)\n",
    "np.count_nonzero((base_predicted - np.array(test_data.spam)) == -1) * 100 / N_classified_valid_mails"
   ]
  },
  {
   "cell_type": "markdown",
   "metadata": {},
   "source": [
    "As we can see, we have about $3\\%$ misclassified spam over all predicted as valid mails."
   ]
  },
  {
   "cell_type": "markdown",
   "metadata": {},
   "source": [
    "### C"
   ]
  },
  {
   "cell_type": "markdown",
   "metadata": {},
   "source": [
    "First of all, we calculate position of ten most and least probable words using ${\\it argsort}$ method from numpy."
   ]
  },
  {
   "cell_type": "code",
   "execution_count": 16,
   "metadata": {},
   "outputs": [],
   "source": [
    "n = 10\n",
    "\n",
    "most_probable = np.argsort(base_spam_classifier.feature_log_prob_, axis=1)[:,-n-1:-1]\n",
    "least_probable = np.argsort(base_spam_classifier.feature_log_prob_, axis=1)[:,0:n]"
   ]
  },
  {
   "cell_type": "markdown",
   "metadata": {},
   "source": [
    "Then, we define ${\\it word}$ function in order to get words in the vocabulary from those indices."
   ]
  },
  {
   "cell_type": "code",
   "execution_count": 17,
   "metadata": {},
   "outputs": [],
   "source": [
    "def word(i):\n",
    "    return vectorizer.get_feature_names()[i]\n",
    "\n",
    "word = np.vectorize(word)"
   ]
  },
  {
   "cell_type": "markdown",
   "metadata": {},
   "source": [
    "So, we calculate the most and least probable words associate with these indices."
   ]
  },
  {
   "cell_type": "code",
   "execution_count": 18,
   "metadata": {},
   "outputs": [],
   "source": [
    "most_words = word(most_probable)\n",
    "\n",
    "least_words = word(least_probable)"
   ]
  },
  {
   "cell_type": "markdown",
   "metadata": {},
   "source": [
    "We can display it as dataframes. This is for most probable words. Each time we run the program we obtain nearly the same words, because this words are common instead we have different test data."
   ]
  },
  {
   "cell_type": "code",
   "execution_count": 19,
   "metadata": {},
   "outputs": [
    {
     "data": {
      "text/html": [
       "<div>\n",
       "<style scoped>\n",
       "    .dataframe tbody tr th:only-of-type {\n",
       "        vertical-align: middle;\n",
       "    }\n",
       "\n",
       "    .dataframe tbody tr th {\n",
       "        vertical-align: top;\n",
       "    }\n",
       "\n",
       "    .dataframe thead th {\n",
       "        text-align: right;\n",
       "    }\n",
       "</style>\n",
       "<table border=\"1\" class=\"dataframe\">\n",
       "  <thead>\n",
       "    <tr style=\"text-align: right;\">\n",
       "      <th></th>\n",
       "      <th>1</th>\n",
       "      <th>2</th>\n",
       "      <th>3</th>\n",
       "      <th>4</th>\n",
       "      <th>5</th>\n",
       "      <th>6</th>\n",
       "      <th>7</th>\n",
       "      <th>8</th>\n",
       "      <th>9</th>\n",
       "      <th>10</th>\n",
       "    </tr>\n",
       "  </thead>\n",
       "  <tbody>\n",
       "    <tr>\n",
       "      <th>ham</th>\n",
       "      <td>you</td>\n",
       "      <td>of</td>\n",
       "      <td>on</td>\n",
       "      <td>enron</td>\n",
       "      <td>subject</td>\n",
       "      <td>hou</td>\n",
       "      <td>for</td>\n",
       "      <td>and</td>\n",
       "      <td>ect</td>\n",
       "      <td>to</td>\n",
       "    </tr>\n",
       "    <tr>\n",
       "      <th>spam</th>\n",
       "      <td>subject</td>\n",
       "      <td>your</td>\n",
       "      <td>this</td>\n",
       "      <td>is</td>\n",
       "      <td>for</td>\n",
       "      <td>you</td>\n",
       "      <td>in</td>\n",
       "      <td>of</td>\n",
       "      <td>and</td>\n",
       "      <td>to</td>\n",
       "    </tr>\n",
       "  </tbody>\n",
       "</table>\n",
       "</div>"
      ],
      "text/plain": [
       "            1     2     3      4        5    6    7    8    9  10\n",
       "ham       you    of    on  enron  subject  hou  for  and  ect  to\n",
       "spam  subject  your  this     is      for  you   in   of  and  to"
      ]
     },
     "execution_count": 19,
     "metadata": {},
     "output_type": "execute_result"
    }
   ],
   "source": [
    "pd.DataFrame(most_words, index=['ham', 'spam'], columns=range(1, n+1))"
   ]
  },
  {
   "cell_type": "markdown",
   "metadata": {},
   "source": [
    "Finally, we display least probable words. Each time we run the program we obtain different words, because we have different test data and this words are not common."
   ]
  },
  {
   "cell_type": "code",
   "execution_count": 20,
   "metadata": {},
   "outputs": [
    {
     "data": {
      "text/html": [
       "<div>\n",
       "<style scoped>\n",
       "    .dataframe tbody tr th:only-of-type {\n",
       "        vertical-align: middle;\n",
       "    }\n",
       "\n",
       "    .dataframe tbody tr th {\n",
       "        vertical-align: top;\n",
       "    }\n",
       "\n",
       "    .dataframe thead th {\n",
       "        text-align: right;\n",
       "    }\n",
       "</style>\n",
       "<table border=\"1\" class=\"dataframe\">\n",
       "  <thead>\n",
       "    <tr style=\"text-align: right;\">\n",
       "      <th></th>\n",
       "      <th>1</th>\n",
       "      <th>2</th>\n",
       "      <th>3</th>\n",
       "      <th>4</th>\n",
       "      <th>5</th>\n",
       "      <th>6</th>\n",
       "      <th>7</th>\n",
       "      <th>8</th>\n",
       "      <th>9</th>\n",
       "      <th>10</th>\n",
       "    </tr>\n",
       "  </thead>\n",
       "  <tbody>\n",
       "    <tr>\n",
       "      <th>ham</th>\n",
       "      <td>iezgm</td>\n",
       "      <td>loaders</td>\n",
       "      <td>loa</td>\n",
       "      <td>lnz</td>\n",
       "      <td>lnventory</td>\n",
       "      <td>lnterest</td>\n",
       "      <td>lnter</td>\n",
       "      <td>lnstant</td>\n",
       "      <td>lnsr</td>\n",
       "      <td>lnpefo</td>\n",
       "    </tr>\n",
       "    <tr>\n",
       "      <th>spam</th>\n",
       "      <td>wst</td>\n",
       "      <td>loses</td>\n",
       "      <td>yeverino</td>\n",
       "      <td>fossesca</td>\n",
       "      <td>seemyw</td>\n",
       "      <td>seelig</td>\n",
       "      <td>fosdick</td>\n",
       "      <td>buckets</td>\n",
       "      <td>buckley</td>\n",
       "      <td>seeger</td>\n",
       "    </tr>\n",
       "  </tbody>\n",
       "</table>\n",
       "</div>"
      ],
      "text/plain": [
       "          1        2         3         4          5         6        7  \\\n",
       "ham   iezgm  loaders       loa       lnz  lnventory  lnterest    lnter   \n",
       "spam    wst    loses  yeverino  fossesca     seemyw    seelig  fosdick   \n",
       "\n",
       "            8        9      10  \n",
       "ham   lnstant     lnsr  lnpefo  \n",
       "spam  buckets  buckley  seeger  "
      ]
     },
     "execution_count": 20,
     "metadata": {},
     "output_type": "execute_result"
    }
   ],
   "source": [
    "pd.DataFrame(least_words, index=['ham', 'spam'], columns=range(1, n+1))"
   ]
  },
  {
   "cell_type": "markdown",
   "metadata": {},
   "source": [
    "# D"
   ]
  },
  {
   "cell_type": "markdown",
   "metadata": {},
   "source": [
    "With os module we obtain all Enron files in data. Then, with a loop, we iterate all this files and calculate their recall and precision scores.\n",
    "\n",
    "With Enron_1 we obtain slightly different values than before because now we're using all data as test data."
   ]
  },
  {
   "cell_type": "code",
   "execution_count": 21,
   "metadata": {},
   "outputs": [
    {
     "name": "stdout",
     "output_type": "stream",
     "text": [
      "File Enron_5 has recall: 0.96625 and precision: 0.9408387924630242\n",
      "File Enron_2 has recall: 0.9491545904133423 and precision: 0.9154253405533388\n",
      "File Enron_3 has recall: 0.9700560922405734 and precision: 0.9470555110992561\n",
      "File Enron_4 has recall: 0.9413830230619618 and precision: 0.9270554836420238\n",
      "File Enron_1 has recall: 0.9792475314947224 and precision: 0.9830920914141368\n",
      "File Enron_6 has recall: 0.9530555555555555 and precision: 0.9457197513151602\n"
     ]
    }
   ],
   "source": [
    "files = os.listdir('data')\n",
    "\n",
    "for i in files:\n",
    "    data = load_files('data/' + i, encoding='latin-1', shuffle=True, categories=['ham', 'spam'] )\n",
    "    \n",
    "    df = pd.DataFrame({'text': data['data'], 'spam': data['target']})\n",
    "        \n",
    "    test_features_files = vectorizer.transform(df.text)\n",
    "    base_predicted_files =  base_spam_classifier.predict(test_features_files)\n",
    "    \n",
    "    recall = recall_score(df.spam, base_predicted_files, average='macro')\n",
    "    precision =  precision_score(df.spam, base_predicted_files, average='macro')\n",
    "    \n",
    "    print('File', i, 'has recall:', recall , 'and precision:', precision)"
   ]
  },
  {
   "cell_type": "markdown",
   "metadata": {},
   "source": [
    "# E"
   ]
  },
  {
   "cell_type": "markdown",
   "metadata": {},
   "source": [
    "We create a new folder with ${\\it ham}$ and ${\\it spam}$ subfolders, so we copy there all our data. We have to run it only once.\n",
    "\n",
    "We use a new function to avoid some problems of ${\\it copytree}$ method, from shutil module.\n",
    "\n",
    "We could just store data in previous loop, but this way we have all data toghether, to use it in further calculations."
   ]
  },
  {
   "cell_type": "code",
   "execution_count": 22,
   "metadata": {},
   "outputs": [],
   "source": [
    "os.mkdir('all_data')\n",
    "os.mkdir('ham')\n",
    "os.mkdir('spam')\n",
    "\n",
    "source = os.path.abspath(os.getcwd())\n",
    "  \n",
    "dest1 = shutil.move(source + '/ham', source + '/all_data')\n",
    "dest2 = shutil.move(source + '/spam', source + '/all_data') \n",
    "\n",
    "files = os.listdir('data')\n",
    "\n",
    "def copytree(src, dst, symlinks=False, ignore=None):\n",
    "    for item in os.listdir(src):\n",
    "        s = os.path.join(src, item)\n",
    "        d = os.path.join(dst, item)\n",
    "        if os.path.isdir(s):\n",
    "            shutil.copytree(s, d, symlinks, ignore)\n",
    "        else:\n",
    "            shutil.copy2(s, d)\n",
    "\n",
    "for i in files:\n",
    "    copytree('data/' + i + '/ham', 'all_data/ham')\n",
    "    copytree('data/' + i + '/spam', 'all_data/spam')"
   ]
  },
  {
   "cell_type": "markdown",
   "metadata": {},
   "source": [
    "Once we do that, we can define a new data set and train the classifier."
   ]
  },
  {
   "cell_type": "code",
   "execution_count": 23,
   "metadata": {},
   "outputs": [
    {
     "name": "stdout",
     "output_type": "stream",
     "text": [
      "1    13736\n",
      "0    13234\n",
      "Name: spam, dtype: int64\n"
     ]
    }
   ],
   "source": [
    "all_data = load_files('all_data', encoding='latin-1', shuffle=True, categories=['ham', 'spam'] )\n",
    "\n",
    "df = pd.DataFrame({'text': all_data['data'], 'spam': all_data['target']})\n",
    "\n",
    "N_all_data = len(df)\n",
    "N_train_all_data = int(0.8 * N_all_data); N_test_all_data = N_all_data - N_train_all_data\n",
    "\n",
    "train_all_data, test_all_data = train_test_split(df, train_size=N_train_all_data, test_size=N_test_all_data)\n",
    "\n",
    "print(df.spam.value_counts())"
   ]
  },
  {
   "cell_type": "code",
   "execution_count": 24,
   "metadata": {},
   "outputs": [
    {
     "data": {
      "text/plain": [
       "MultinomialNB(alpha=1.0, class_prior=None, fit_prior=True)"
      ]
     },
     "execution_count": 24,
     "metadata": {},
     "output_type": "execute_result"
    }
   ],
   "source": [
    "spam_features = vectorizer.fit_transform(train_all_data.text)\n",
    "base_spam_classifier.fit(spam_features, train_all_data.spam)"
   ]
  },
  {
   "cell_type": "markdown",
   "metadata": {},
   "source": [
    "## $B_1$"
   ]
  },
  {
   "cell_type": "markdown",
   "metadata": {},
   "source": [
    "Using the test set, we draw the confusion matrix using  plot_confusion_matrix  method from sklearn using the test set."
   ]
  },
  {
   "cell_type": "code",
   "execution_count": 25,
   "metadata": {},
   "outputs": [
    {
     "data": {
      "text/plain": [
       "array([[2614,   41],\n",
       "       [  36, 2703]])"
      ]
     },
     "execution_count": 25,
     "metadata": {},
     "output_type": "execute_result"
    }
   ],
   "source": [
    "test_features = vectorizer.transform(test_all_data.text)\n",
    "base_predicted =  base_spam_classifier.predict(test_features)\n",
    "confusion_matrix(test_all_data.spam, base_predicted)"
   ]
  },
  {
   "cell_type": "markdown",
   "metadata": {},
   "source": [
    "And we plot it."
   ]
  },
  {
   "cell_type": "code",
   "execution_count": 26,
   "metadata": {},
   "outputs": [
    {
     "data": {
      "text/plain": [
       "<matplotlib.image.AxesImage at 0x1a12f46710>"
      ]
     },
     "execution_count": 26,
     "metadata": {},
     "output_type": "execute_result"
    },
    {
     "data": {
      "image/png": "[encoded data removed]",
      "text/plain": [
       "<Figure size 432x288 with 1 Axes>"
      ]
     },
     "metadata": {
      "needs_background": "light"
     },
     "output_type": "display_data"
    }
   ],
   "source": [
    "plt.imshow(confusion_matrix(test_all_data.spam, base_predicted))"
   ]
  },
  {
   "cell_type": "markdown",
   "metadata": {},
   "source": [
    "## $B_2$"
   ]
  },
  {
   "cell_type": "markdown",
   "metadata": {},
   "source": [
    "Now, we calculate  recall  and  precison  scores with sklearn library, as well as the accuracy. We can see that we obtain high values, so it's fine."
   ]
  },
  {
   "cell_type": "code",
   "execution_count": 27,
   "metadata": {},
   "outputs": [
    {
     "name": "stdout",
     "output_type": "stream",
     "text": [
      "The accuracy is: 0.985724879495736\n",
      "The recall score is: 0.9868565169769989\n",
      "The precision score is: 0.9850583090379009\n"
     ]
    }
   ],
   "source": [
    "print('The accuracy is:' ,accuracy_score(test_all_data.spam, base_predicted))\n",
    "print('The recall score is:', recall_score(test_all_data.spam, base_predicted))\n",
    "print('The precision score is:', precision_score(test_all_data.spam, base_predicted))"
   ]
  },
  {
   "cell_type": "markdown",
   "metadata": {},
   "source": [
    "## $B_3$"
   ]
  },
  {
   "cell_type": "markdown",
   "metadata": {},
   "source": [
    "Then, we proceed to calculate ROC curve and AUC score with sklearn library. In order to do that, we calculate estimated probabilities with  preditc_proba  method. First of all, we calculate TPR and FPR scores."
   ]
  },
  {
   "cell_type": "code",
   "execution_count": 28,
   "metadata": {},
   "outputs": [
    {
     "name": "stdout",
     "output_type": "stream",
     "text": [
      "TPR = [0.    0.735 0.736 0.741 0.742 0.746 0.747 0.751 0.752 0.756 0.756 0.758\n",
      " 0.759 0.76  0.761 0.762 0.763 0.764 0.765 0.767 0.768 0.769 0.769 0.77\n",
      " 0.771 0.772 0.773 0.774 0.775 0.777 0.777 0.778 0.781 0.782 0.786 0.787\n",
      " 0.793 0.793 0.794 0.795 0.797 0.798 0.801 0.802 0.803 0.804 0.813 0.814\n",
      " 0.835 0.835 0.857 0.858 0.859 0.86  0.864 0.865 0.875 0.876 0.889 0.889\n",
      " 0.894 0.895 0.9   0.9   0.903 0.905 0.908 0.909 0.913 0.914 0.919 0.92\n",
      " 0.921 0.921 0.93  0.931 0.936 0.936 0.939 0.939 0.942 0.942 0.948 0.948\n",
      " 0.951 0.951 0.954 0.954 0.959 0.96  0.961 0.961 0.964 0.964 0.965 0.965\n",
      " 0.965 0.968 0.968 0.97  0.97  0.97  0.97  0.973 0.974 0.974 0.978 0.978\n",
      " 0.981 0.981 0.982 0.982 0.983 0.983 0.984 0.984 0.985 0.985 0.985 0.985\n",
      " 0.985 0.985 0.987 0.987 0.988 0.99  0.991 0.992 0.993 0.993 0.994 0.994\n",
      " 0.994 0.994 0.995 0.995 0.995 0.995 0.996 0.996 0.996 0.996 0.997 0.997\n",
      " 0.997 0.997 0.997 0.997 0.998 0.998 0.998 0.998 0.998 0.998 0.998 0.998\n",
      " 0.998 0.998 0.999 0.999 0.999 0.999 0.999 0.999 1.    1.    1.    1.\n",
      " 1.    1.    1.    1.    1.    1.    1.    1.    1.    1.    1.    1.\n",
      " 1.    1.    1.    1.    1.    1.    1.    1.    1.    1.    1.    1.\n",
      " 1.    1.    1.    1.    1.    1.    1.    1.    1.    1.    1.    1.\n",
      " 1.    1.    1.    1.    1.    1.    1.    1.    1.    1.    1.    1.\n",
      " 1.    1.    1.    1.    1.    1.    1.    1.    1.    1.    1.    1.\n",
      " 1.   ]\n",
      "FPR = [0.      0.00452 0.00452 0.00452 0.00452 0.00452 0.00452 0.00452 0.00452\n",
      " 0.00452 0.00452 0.00452 0.00452 0.00452 0.00452 0.00452 0.00452 0.00452\n",
      " 0.00452 0.00452 0.00452 0.00452 0.00452 0.00452 0.00452 0.00452 0.00452\n",
      " 0.00452 0.00452 0.00452 0.0049  0.0049  0.0049  0.0049  0.0049  0.0049\n",
      " 0.0049  0.0049  0.0049  0.0049  0.0049  0.0049  0.0049  0.0049  0.0049\n",
      " 0.0049  0.0049  0.0049  0.0049  0.00527 0.00527 0.00527 0.00527 0.00527\n",
      " 0.00527 0.00527 0.00527 0.00527 0.00527 0.00565 0.00565 0.00565 0.00565\n",
      " 0.00603 0.00603 0.00603 0.00603 0.00603 0.00603 0.00603 0.00603 0.00603\n",
      " 0.00603 0.0064  0.0064  0.0064  0.0064  0.00716 0.00716 0.00716 0.00716\n",
      " 0.00716 0.00716 0.00753 0.00753 0.00791 0.00791 0.00829 0.00829 0.00829\n",
      " 0.00829 0.00866 0.00866 0.00904 0.00904 0.00904 0.00942 0.00942 0.00979\n",
      " 0.00979 0.01017 0.01017 0.01055 0.01055 0.01055 0.01092 0.01092 0.0113\n",
      " 0.0113  0.01168 0.01168 0.01205 0.01205 0.01318 0.01318 0.01356 0.01356\n",
      " 0.01469 0.01469 0.01507 0.01507 0.01544 0.01544 0.01582 0.01582 0.01582\n",
      " 0.01582 0.01582 0.01582 0.01695 0.01695 0.01733 0.01733 0.01808 0.01808\n",
      " 0.01846 0.01846 0.01921 0.01921 0.01996 0.01996 0.02034 0.02034 0.02298\n",
      " 0.02298 0.02486 0.02486 0.02674 0.02674 0.03729 0.03729 0.0403  0.04105\n",
      " 0.04256 0.04331 0.05047 0.05122 0.06215 0.06215 0.08286 0.08286 0.09002\n",
      " 0.09002 0.14878 0.14878 0.17627 0.17702 0.17853 0.17853 0.19586 0.19661\n",
      " 0.20038 0.20151 0.22072 0.22147 0.23352 0.23427 0.28964 0.2904  0.33107\n",
      " 0.33183 0.33936 0.34049 0.35932 0.36008 0.40188 0.40264 0.41168 0.41318\n",
      " 0.41959 0.42072 0.42599 0.42674 0.42825 0.42976 0.43126 0.43277 0.46817\n",
      " 0.46893 0.52015 0.5209  0.53974 0.54049 0.54802 0.54878 0.59096 0.59171\n",
      " 0.62561 0.62637 0.6806  0.68136 0.68927 0.69002 0.75367 0.75443 0.7774\n",
      " 0.77815 0.87269 0.87382 0.88023 0.88098 0.92429 0.92505 0.93333 0.93409\n",
      " 0.94689 0.94765 0.9548  1.     ]\n"
     ]
    }
   ],
   "source": [
    "base_proba = base_spam_classifier.predict_proba(test_features)\n",
    "\n",
    "fpr, tpr, ths = roc_curve(test_all_data.spam, base_proba[:,1])\n",
    "\n",
    "print('TPR =', np.round(tpr, 3))\n",
    "print('FPR =', np.round(fpr, 5))"
   ]
  },
  {
   "cell_type": "markdown",
   "metadata": {},
   "source": [
    "Finally, we calculate that AUC score and plot ROC curve. We remark that red line, between points [0,0] and [1,1], is randomly classified (this would be the standart classifier with $TPR,FPR=[0,1]$).\n",
    "\n",
    "We obtain a similar than before AUC score (maybe a bit lower sometimes, it depends on train-test sets)."
   ]
  },
  {
   "cell_type": "code",
   "execution_count": 29,
   "metadata": {},
   "outputs": [
    {
     "name": "stdout",
     "output_type": "stream",
     "text": [
      "AUC score: 0.9964118758891068\n"
     ]
    },
    {
     "data": {
      "text/plain": [
       "[<matplotlib.lines.Line2D at 0x1a1649d2e8>]"
      ]
     },
     "execution_count": 29,
     "metadata": {},
     "output_type": "execute_result"
    },
    {
     "data": {
      "image/png": "[encoded data removed]",
      "text/plain": [
       "<Figure size 432x288 with 1 Axes>"
      ]
     },
     "metadata": {
      "needs_background": "light"
     },
     "output_type": "display_data"
    }
   ],
   "source": [
    "print('AUC score:', roc_auc_score(test_all_data.spam, base_proba[:,1]))\n",
    "\n",
    "plt.plot(fpr, tpr)\n",
    "plt.plot([0, 1], [0, 1], ':r')"
   ]
  },
  {
   "cell_type": "markdown",
   "metadata": {},
   "source": [
    "## $B_4$"
   ]
  },
  {
   "cell_type": "markdown",
   "metadata": {},
   "source": [
    "To get percentage of valid mails classified as spam we have to substract test data to predicted labels ($predictio−data$), so we get  +1  where it is valid mail classified as spam, and  −1  where it is spam classified as valid mail."
   ]
  },
  {
   "cell_type": "code",
   "execution_count": 30,
   "metadata": {},
   "outputs": [
    {
     "data": {
      "text/plain": [
       "1.5442561205273069"
      ]
     },
     "execution_count": 30,
     "metadata": {},
     "output_type": "execute_result"
    }
   ],
   "source": [
    "N_valid_mails =  np.count_nonzero(np.array(test_all_data.spam) == 0)\n",
    "np.count_nonzero((base_predicted - np.array(test_all_data.spam)) == 1) * 100 / N_valid_mails"
   ]
  },
  {
   "cell_type": "markdown",
   "metadata": {},
   "source": [
    "As we can see, we have about  1.5%  misclassified valid mails over all valid mails."
   ]
  },
  {
   "cell_type": "markdown",
   "metadata": {},
   "source": [
    "## $B_5$"
   ]
  },
  {
   "cell_type": "markdown",
   "metadata": {},
   "source": [
    "Now, we have to count number of  −1  values using previous method, where it is spam classified as valild mail (ham)."
   ]
  },
  {
   "cell_type": "code",
   "execution_count": 31,
   "metadata": {},
   "outputs": [
    {
     "data": {
      "text/plain": [
       "1.3584905660377358"
      ]
     },
     "execution_count": 31,
     "metadata": {},
     "output_type": "execute_result"
    }
   ],
   "source": [
    "N_classified_valid_mails = np.count_nonzero(np.array(base_predicted) == 0)\n",
    "np.count_nonzero((base_predicted - np.array(test_all_data.spam)) == -1) * 100 / N_classified_valid_mails"
   ]
  },
  {
   "cell_type": "markdown",
   "metadata": {},
   "source": [
    "As we can see, we have about  1%  misclassified spam over all classified as valid mails."
   ]
  },
  {
   "cell_type": "markdown",
   "metadata": {},
   "source": [
    "# F"
   ]
  },
  {
   "cell_type": "markdown",
   "metadata": {},
   "source": [
    "Frequency of misclassified ham mails is equal to $FPR$, where: \n",
    "\n",
    "\\begin{equation}\n",
    "    FPR = \\frac{FP}{FP + TN}\n",
    "\\end{equation}\n",
    "\n",
    "Then, we use $ROC$ curve to calculate value of threeshold ($THS$) at this $FPR$ value. Then, we calculate confusion matrix at this threeshold, so we can calculate false omission rate ($FOR$), which is the percentage of spam (classified as ham) in our inbox, and where:\n",
    "\n",
    "\\begin{equation}\n",
    "    FOR = \\frac{FN}{FN + TN}\n",
    "\\end{equation}\n",
    "\n",
    "We want $FPR = 0.5\\%$, so we look to our values in $ROC$ curve and we do the average between firs and last value of $THS$ rounded equal to $0.005$ (we're doing an interpolation, wich should be really accurate)."
   ]
  },
  {
   "cell_type": "code",
   "execution_count": 32,
   "metadata": {},
   "outputs": [
    {
     "name": "stdout",
     "output_type": "stream",
     "text": [
      "THS = 0.9999999240867994\n"
     ]
    }
   ],
   "source": [
    "THS = (ths[np.where(np.round(fpr, 3) == 0.005)][0] + ths[np.where(np.round(fpr, 3) == 0.005)][-1]) / 2\n",
    "print('THS =', THS)"
   ]
  },
  {
   "cell_type": "markdown",
   "metadata": {},
   "source": [
    "Finally, we obtain our $FOR$."
   ]
  },
  {
   "cell_type": "code",
   "execution_count": 33,
   "metadata": {},
   "outputs": [
    {
     "name": "stdout",
     "output_type": "stream",
     "text": [
      "FOR = 0.10746873943899966\n"
     ]
    }
   ],
   "source": [
    "[[TN, FP], [FN, TP]] = confusion_matrix(test_all_data.spam, base_proba[:, 1]>THS)\n",
    "print('FOR =', FN / (FN + TN))"
   ]
  },
  {
   "cell_type": "markdown",
   "metadata": {},
   "source": [
    "So, the percetage of spam in our inbox is around $10\\%$.\n",
    "\n",
    "We could use widgets form matplotlib library to get this value in ROC curve. But, since we're obtaning different values in the curve each time we iterate it, it's not usefull.\n",
    "\n",
    "What's more, around $FPR = 0.5\\%$ the curve behaves as a linear function, so interpolation should be a good option."
   ]
  },
  {
   "cell_type": "code",
   "execution_count": null,
   "metadata": {},
   "outputs": [],
   "source": []
  }
 ],
 "metadata": {
  "kernelspec": {
   "display_name": "Python 3",
   "language": "python",
   "name": "python3"
  },
  "language_info": {
   "codemirror_mode": {
    "name": "ipython",
    "version": 3
   },
   "file_extension": ".py",
   "mimetype": "text/x-python",
   "name": "python",
   "nbconvert_exporter": "python",
   "pygments_lexer": "ipython3",
   "version": "3.5.6"
  }
 },
 "nbformat": 4,
 "nbformat_minor": 4
}
