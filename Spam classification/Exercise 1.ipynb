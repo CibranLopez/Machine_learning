{
 "cells": [
  {
   "cell_type": "markdown",
   "metadata": {},
   "source": [
    "### Exercise 1"
   ]
  },
  {
   "cell_type": "markdown",
   "metadata": {},
   "source": [
    "First of all, we import some usefull libraries."
   ]
  },
  {
   "cell_type": "code",
   "execution_count": 1,
   "metadata": {},
   "outputs": [],
   "source": [
    "import numpy as np\n",
    "import pandas as pd\n",
    "import matplotlib.pyplot as plt\n",
    "import os as os\n",
    "import shutil as shutil\n",
    "\n",
    "from sklearn.datasets import load_files\n",
    "from sklearn.datasets.base import Bunch\n",
    "from sklearn.model_selection import train_test_split\n",
    "from sklearn.feature_extraction.text import CountVectorizer\n",
    "from sklearn.naive_bayes import MultinomialNB\n",
    "from sklearn.metrics import accuracy_score, f1_score, precision_score, recall_score\n",
    "from sklearn.metrics import confusion_matrix\n",
    "from sklearn.metrics import roc_curve, roc_auc_score"
   ]
  },
  {
   "cell_type": "markdown",
   "metadata": {},
   "source": [
    "We load our data and display target names."
   ]
  },
  {
   "cell_type": "code",
   "execution_count": 2,
   "metadata": {},
   "outputs": [
    {
     "data": {
      "text/plain": [
       "['ham', 'spam']"
      ]
     },
     "execution_count": 2,
     "metadata": {},
     "output_type": "execute_result"
    }
   ],
   "source": [
    "data1 = load_files('data/Enron_1/', encoding='latin-1', shuffle=True, categories=['ham', 'spam'] )\n",
    "data1['target_names']"
   ]
  },
  {
   "cell_type": "markdown",
   "metadata": {},
   "source": [
    "# A"
   ]
  },
  {
   "cell_type": "markdown",
   "metadata": {},
   "source": [
    "We want to split our data into train-test set with proportion of 80-20. In order to do that, we're using ${\\it train\\_test\\_split}$ method, from sklearn.\n",
    "\n",
    "First of all, we convert our data to pandas dataframe, so this way it's easier to manage it."
   ]
  },
  {
   "cell_type": "code",
   "execution_count": 3,
   "metadata": {},
   "outputs": [
    {
     "name": "stdout",
     "output_type": "stream",
     "text": [
      "0    2937\n",
      "1    1200\n",
      "Name: spam, dtype: int64\n"
     ]
    }
   ],
   "source": [
    "df1 = pd.DataFrame({'text': data1['data'], 'spam': data1['target']})\n",
    "\n",
    "N_data = len(df1)\n",
    "N_train_data = int(0.8 * N_data); N_test_data = N_data - N_train_data\n",
    "\n",
    "train_data, test_data = train_test_split(df1, train_size=N_train_data, test_size=N_test_data)\n",
    "\n",
    "print(df1.spam.value_counts())"
   ]
  },
  {
   "cell_type": "markdown",
   "metadata": {},
   "source": [
    "As an example, we take first 5 rows of train data."
   ]
  },
  {
   "cell_type": "code",
   "execution_count": 4,
   "metadata": {},
   "outputs": [
    {
     "data": {
      "text/html": [
       "<div>\n",
       "<style scoped>\n",
       "    .dataframe tbody tr th:only-of-type {\n",
       "        vertical-align: middle;\n",
       "    }\n",
       "\n",
       "    .dataframe tbody tr th {\n",
       "        vertical-align: top;\n",
       "    }\n",
       "\n",
       "    .dataframe thead th {\n",
       "        text-align: right;\n",
       "    }\n",
       "</style>\n",
       "<table border=\"1\" class=\"dataframe\">\n",
       "  <thead>\n",
       "    <tr style=\"text-align: right;\">\n",
       "      <th></th>\n",
       "      <th>spam</th>\n",
       "      <th>text</th>\n",
       "    </tr>\n",
       "  </thead>\n",
       "  <tbody>\n",
       "    <tr>\n",
       "      <th>1913</th>\n",
       "      <td>1</td>\n",
       "      <td>Subject: local wifes in your area\\r\\nclick her...</td>\n",
       "    </tr>\n",
       "    <tr>\n",
       "      <th>3994</th>\n",
       "      <td>1</td>\n",
       "      <td>Subject: welcome to toronto pharmac euticals ,...</td>\n",
       "    </tr>\n",
       "    <tr>\n",
       "      <th>2974</th>\n",
       "      <td>0</td>\n",
       "      <td>Subject: accomplishments\\r\\nsorry for the dela...</td>\n",
       "    </tr>\n",
       "    <tr>\n",
       "      <th>1608</th>\n",
       "      <td>0</td>\n",
       "      <td>Subject: enron / hpl actuals for july 17 , 200...</td>\n",
       "    </tr>\n",
       "    <tr>\n",
       "      <th>1514</th>\n",
       "      <td>0</td>\n",
       "      <td>Subject: re : big cow breakout\\r\\nd\\r\\nattache...</td>\n",
       "    </tr>\n",
       "  </tbody>\n",
       "</table>\n",
       "</div>"
      ],
      "text/plain": [
       "      spam                                               text\n",
       "1913     1  Subject: local wifes in your area\\r\\nclick her...\n",
       "3994     1  Subject: welcome to toronto pharmac euticals ,...\n",
       "2974     0  Subject: accomplishments\\r\\nsorry for the dela...\n",
       "1608     0  Subject: enron / hpl actuals for july 17 , 200...\n",
       "1514     0  Subject: re : big cow breakout\\r\\nd\\r\\nattache..."
      ]
     },
     "execution_count": 4,
     "metadata": {},
     "output_type": "execute_result"
    }
   ],
   "source": [
    "train_data.head(5)"
   ]
  },
  {
   "cell_type": "markdown",
   "metadata": {},
   "source": [
    "Then, we use ${\\it CountVectorizer}$ method from sklearn in order to convert the collection of text documents to a matrix of token counts."
   ]
  },
  {
   "cell_type": "code",
   "execution_count": 5,
   "metadata": {},
   "outputs": [
    {
     "name": "stdout",
     "output_type": "stream",
     "text": [
      "[[0 0 0 ... 0 0 0]\n",
      " [0 0 0 ... 0 0 0]\n",
      " [0 1 0 ... 0 0 0]\n",
      " ...\n",
      " [0 0 0 ... 0 0 0]\n",
      " [0 0 0 ... 0 0 0]\n",
      " [0 1 0 ... 0 0 0]]\n"
     ]
    }
   ],
   "source": [
    "vectorizer = CountVectorizer()\n",
    "spam_features = vectorizer.fit_transform(train_data.text)\n",
    "\n",
    "print(spam_features.toarray())"
   ]
  },
  {
   "cell_type": "code",
   "execution_count": 6,
   "metadata": {},
   "outputs": [
    {
     "name": "stdout",
     "output_type": "stream",
     "text": [
      "The resulting vocabulary has a shape of: (3309, 38950) and its lenght is: 38950\n"
     ]
    }
   ],
   "source": [
    "shape = spam_features.shape\n",
    "print('The resulting vocabulary has a shape of:', shape, 'and its lenght is:', shape[1])"
   ]
  },
  {
   "cell_type": "markdown",
   "metadata": {},
   "source": [
    "As an example of methods of vectorizer function, we can see how many times does ${\\it please}$ appear in the mails."
   ]
  },
  {
   "cell_type": "code",
   "execution_count": 7,
   "metadata": {},
   "outputs": [
    {
     "data": {
      "text/plain": [
       "28060"
      ]
     },
     "execution_count": 7,
     "metadata": {},
     "output_type": "execute_result"
    }
   ],
   "source": [
    "vectorizer.vocabulary_['please']"
   ]
  },
  {
   "cell_type": "markdown",
   "metadata": {},
   "source": [
    "Then, we apply multinomial Naive Bayes in order to classify our dataset. We're using ${\\it MultinomialNB}$ method from sklearn. Finally, we fit it with our train dataset and our features."
   ]
  },
  {
   "cell_type": "code",
   "execution_count": 8,
   "metadata": {},
   "outputs": [
    {
     "data": {
      "text/plain": [
       "MultinomialNB(alpha=1.0, class_prior=None, fit_prior=True)"
      ]
     },
     "execution_count": 8,
     "metadata": {},
     "output_type": "execute_result"
    }
   ],
   "source": [
    "base_spam_classifier = MultinomialNB()\n",
    "base_spam_classifier.fit(spam_features, train_data.spam)"
   ]
  },
  {
   "cell_type": "markdown",
   "metadata": {},
   "source": [
    "# B"
   ]
  },
  {
   "cell_type": "markdown",
   "metadata": {},
   "source": [
    "## 1"
   ]
  },
  {
   "cell_type": "markdown",
   "metadata": {},
   "source": [
    "Using the test set, we calculate the confusion matrix (know as an error matrix) using ${\\it confusion\\_matrix}$ method from sklearn using the test set, and then we plot it.\n",
    "\n",
    "Since ${\\it plot\\_confusion\\_matrix}$ method is not working, we calculate matrix coefficients and them plot it with ${\\it imshow}$ method, from matplotlib. Nevertheless, ${\\it plot\\_confusion\\_matrix}$ method should work."
   ]
  },
  {
   "cell_type": "code",
   "execution_count": 9,
   "metadata": {},
   "outputs": [
    {
     "data": {
      "text/plain": [
       "array([[586,   8],\n",
       "       [ 13, 221]])"
      ]
     },
     "execution_count": 9,
     "metadata": {},
     "output_type": "execute_result"
    }
   ],
   "source": [
    "test_features = vectorizer.transform(test_data.text)\n",
    "base_predicted =  base_spam_classifier.predict(test_features)\n",
    "confusion_matrix(test_data.spam, base_predicted)\n",
    "#plot_confusion_matrix(test_data.spam, base_predicted)"
   ]
  },
  {
   "cell_type": "markdown",
   "metadata": {},
   "source": [
    "And we plot it."
   ]
  },
  {
   "cell_type": "code",
   "execution_count": 10,
   "metadata": {},
   "outputs": [
    {
     "data": {
      "text/plain": [
       "<matplotlib.image.AxesImage at 0x1a1d7e93c8>"
      ]
     },
     "execution_count": 10,
     "metadata": {},
     "output_type": "execute_result"
    },
    {
     "data": {
      "image/png": "[encoded data removed]",
      "text/plain": [
       "<Figure size 432x288 with 1 Axes>"
      ]
     },
     "metadata": {
      "needs_background": "light"
     },
     "output_type": "display_data"
    }
   ],
   "source": [
    "plt.imshow(confusion_matrix(test_data.spam, base_predicted))"
   ]
  },
  {
   "cell_type": "markdown",
   "metadata": {},
   "source": [
    "## 2"
   ]
  },
  {
   "cell_type": "markdown",
   "metadata": {},
   "source": [
    "Now, we calculate ${\\it recall}$ and ${\\it precison}$ scores with sklearn library, as well as the accuracy. We can see that we obtain high values, so it's fine."
   ]
  },
  {
   "cell_type": "code",
   "execution_count": 11,
   "metadata": {},
   "outputs": [
    {
     "name": "stdout",
     "output_type": "stream",
     "text": [
      "The accuracy is: 0.9746376811594203\n",
      "The recall score is: 0.9654882154882154\n",
      "The precision score is: 0.9716813320599835\n"
     ]
    }
   ],
   "source": [
    "print('The accuracy is:' ,accuracy_score(test_data.spam, base_predicted))\n",
    "print('The recall score is:', recall_score(test_data.spam, base_predicted, average='macro'))\n",
    "print('The precision score is:', precision_score(test_data.spam, base_predicted, average='macro'))"
   ]
  },
  {
   "cell_type": "markdown",
   "metadata": {},
   "source": [
    "## 3"
   ]
  },
  {
   "cell_type": "markdown",
   "metadata": {},
   "source": [
    "Then, we proceed to calculate ROC curve and AUC score with sklearn library. In order to do that, we calculate estimated probabilities with ${\\it preditc\\_proba}$ method. First of all, we calculate TPR and FPR scores."
   ]
  },
  {
   "cell_type": "code",
   "execution_count": 12,
   "metadata": {},
   "outputs": [
    {
     "name": "stdout",
     "output_type": "stream",
     "text": [
      "TPR = [0.    0.581 0.594 0.603 0.611 0.679 0.679 0.769 0.769 0.799 0.799 0.872\n",
      " 0.872 0.923 0.923 0.944 0.944 0.949 0.949 0.957 0.957 0.962 0.979 0.979\n",
      " 0.983 0.983 0.996 0.996 1.    1.    1.    1.    1.    1.    1.    1.\n",
      " 1.    1.    1.    1.    1.   ]\n",
      "FPR = [0.    0.005 0.005 0.005 0.005 0.005 0.007 0.007 0.008 0.008 0.01  0.01\n",
      " 0.012 0.012 0.013 0.013 0.015 0.015 0.017 0.017 0.019 0.019 0.019 0.02\n",
      " 0.02  0.022 0.022 0.057 0.057 0.12  0.123 0.231 0.234 0.249 0.253 0.545\n",
      " 0.549 0.678 0.682 0.944 1.   ]\n"
     ]
    }
   ],
   "source": [
    "base_proba = base_spam_classifier.predict_proba(test_features)\n",
    "\n",
    "fpr, tpr, ths = roc_curve(test_data.spam, base_proba[:,1])\n",
    "\n",
    "print('TPR =', np.round(tpr, 3))\n",
    "print('FPR =', np.round(fpr, 3))"
   ]
  },
  {
   "cell_type": "markdown",
   "metadata": {},
   "source": [
    "Finally, we calculate that AUC score and prot ROC curve. We remark that red line, with between points $[0, 0]$ and $[1, 1]$ is randomly classified (this would be the standart classifier with $TPR, FPR = [0, 1]$)."
   ]
  },
  {
   "cell_type": "code",
   "execution_count": 13,
   "metadata": {},
   "outputs": [
    {
     "name": "stdout",
     "output_type": "stream",
     "text": [
      "AUC score: 0.9943379665601887\n"
     ]
    },
    {
     "data": {
      "text/plain": [
       "[<matplotlib.lines.Line2D at 0x1a1d7ec128>]"
      ]
     },
     "execution_count": 13,
     "metadata": {},
     "output_type": "execute_result"
    },
    {
     "data": {
      "image/png": "[encoded data removed]",
      "text/plain": [
       "<Figure size 432x288 with 1 Axes>"
      ]
     },
     "metadata": {
      "needs_background": "light"
     },
     "output_type": "display_data"
    }
   ],
   "source": [
    "print('AUC score:', roc_auc_score(test_data.spam, base_proba[:,1]))\n",
    "\n",
    "plt.plot(fpr, tpr)\n",
    "plt.plot([0, 1], [0, 1], ':r')"
   ]
  },
  {
   "cell_type": "markdown",
   "metadata": {},
   "source": [
    "## 4"
   ]
  },
  {
   "cell_type": "markdown",
   "metadata": {},
   "source": [
    "To get percentage of valid mails classified as spam we have to substract test data to predicted labels ($prediction - data$), so we get $+1$ where it is valid mail classified as spam, and $-1$ where it is spam classified as valid mail."
   ]
  },
  {
   "cell_type": "code",
   "execution_count": 14,
   "metadata": {},
   "outputs": [
    {
     "data": {
      "text/plain": [
       "1.3468013468013469"
      ]
     },
     "execution_count": 14,
     "metadata": {},
     "output_type": "execute_result"
    }
   ],
   "source": [
    "N_valid_mails = np.count_nonzero(np.array(test_data.spam) == 0)\n",
    "np.count_nonzero((base_predicted - np.array(test_data.spam)) == 1) * 100 / N_valid_mails"
   ]
  },
  {
   "cell_type": "markdown",
   "metadata": {},
   "source": [
    "As we can see, we have about $1.5\\%$ misclassified valid mails over all valid mails."
   ]
  },
  {
   "cell_type": "markdown",
   "metadata": {},
   "source": [
    "## 5"
   ]
  },
  {
   "cell_type": "markdown",
   "metadata": {},
   "source": [
    "Now, we have to count number of $-1$ values using previous method, where it is spam classified as valild mail (ham)."
   ]
  },
  {
   "cell_type": "code",
   "execution_count": 15,
   "metadata": {},
   "outputs": [
    {
     "data": {
      "text/plain": [
       "2.1885521885521886"
      ]
     },
     "execution_count": 15,
     "metadata": {},
     "output_type": "execute_result"
    }
   ],
   "source": [
    "np.count_nonzero((base_predicted - np.array(test_data.spam)) == -1) * 100 / N_valid_mails"
   ]
  },
  {
   "cell_type": "markdown",
   "metadata": {},
   "source": [
    "As we can see, we have about $2.25\\%$ misclassified spam over all valid mails."
   ]
  },
  {
   "cell_type": "markdown",
   "metadata": {},
   "source": [
    "# C"
   ]
  },
  {
   "cell_type": "markdown",
   "metadata": {},
   "source": [
    "First of all, we calculate position of ten most and least probable words using ${\\it argsort}$ method from numpy."
   ]
  },
  {
   "cell_type": "code",
   "execution_count": 16,
   "metadata": {},
   "outputs": [],
   "source": [
    "n = 10\n",
    "\n",
    "most_probable = np.argsort(base_spam_classifier.feature_log_prob_, axis=1)[:,-n-1:-1]\n",
    "least_probable = np.argsort(base_spam_classifier.feature_log_prob_, axis=1)[:,0:n]"
   ]
  },
  {
   "cell_type": "markdown",
   "metadata": {},
   "source": [
    "Then, we define ${\\it word}$ function in order to get words in the vocabulary from those indices."
   ]
  },
  {
   "cell_type": "code",
   "execution_count": 17,
   "metadata": {},
   "outputs": [],
   "source": [
    "def word(i):\n",
    "    return vectorizer.get_feature_names()[i]\n",
    "\n",
    "word = np.vectorize(word)"
   ]
  },
  {
   "cell_type": "markdown",
   "metadata": {},
   "source": [
    "So, we calculate the most and least probable words associate with these indices."
   ]
  },
  {
   "cell_type": "code",
   "execution_count": 18,
   "metadata": {},
   "outputs": [],
   "source": [
    "most_words = word(most_probable)\n",
    "\n",
    "least_words = word(least_probable)"
   ]
  },
  {
   "cell_type": "markdown",
   "metadata": {},
   "source": [
    "We can display it as dataframes. This is for most probable words. Each time we run the program we obtain nearly the same words, because this words are common instead we have different test data."
   ]
  },
  {
   "cell_type": "code",
   "execution_count": 19,
   "metadata": {},
   "outputs": [
    {
     "data": {
      "text/html": [
       "<div>\n",
       "<style scoped>\n",
       "    .dataframe tbody tr th:only-of-type {\n",
       "        vertical-align: middle;\n",
       "    }\n",
       "\n",
       "    .dataframe tbody tr th {\n",
       "        vertical-align: top;\n",
       "    }\n",
       "\n",
       "    .dataframe thead th {\n",
       "        text-align: right;\n",
       "    }\n",
       "</style>\n",
       "<table border=\"1\" class=\"dataframe\">\n",
       "  <thead>\n",
       "    <tr style=\"text-align: right;\">\n",
       "      <th></th>\n",
       "      <th>1</th>\n",
       "      <th>2</th>\n",
       "      <th>3</th>\n",
       "      <th>4</th>\n",
       "      <th>5</th>\n",
       "      <th>6</th>\n",
       "      <th>7</th>\n",
       "      <th>8</th>\n",
       "      <th>9</th>\n",
       "      <th>10</th>\n",
       "    </tr>\n",
       "  </thead>\n",
       "  <tbody>\n",
       "    <tr>\n",
       "      <th>ham</th>\n",
       "      <td>you</td>\n",
       "      <td>of</td>\n",
       "      <td>enron</td>\n",
       "      <td>on</td>\n",
       "      <td>subject</td>\n",
       "      <td>hou</td>\n",
       "      <td>and</td>\n",
       "      <td>for</td>\n",
       "      <td>ect</td>\n",
       "      <td>to</td>\n",
       "    </tr>\n",
       "    <tr>\n",
       "      <th>spam</th>\n",
       "      <td>subject</td>\n",
       "      <td>your</td>\n",
       "      <td>is</td>\n",
       "      <td>this</td>\n",
       "      <td>for</td>\n",
       "      <td>you</td>\n",
       "      <td>in</td>\n",
       "      <td>of</td>\n",
       "      <td>and</td>\n",
       "      <td>to</td>\n",
       "    </tr>\n",
       "  </tbody>\n",
       "</table>\n",
       "</div>"
      ],
      "text/plain": [
       "            1     2      3     4        5    6    7    8    9  10\n",
       "ham       you    of  enron    on  subject  hou  and  for  ect  to\n",
       "spam  subject  your     is  this      for  you   in   of  and  to"
      ]
     },
     "execution_count": 19,
     "metadata": {},
     "output_type": "execute_result"
    }
   ],
   "source": [
    "pd.DataFrame(most_words, index=['ham', 'spam'], columns=range(1, n+1))"
   ]
  },
  {
   "cell_type": "markdown",
   "metadata": {},
   "source": [
    "Finally, we display least probable words. Each time we run the program we obtain different words, because we have different test data and this words are not common."
   ]
  },
  {
   "cell_type": "code",
   "execution_count": 20,
   "metadata": {},
   "outputs": [
    {
     "data": {
      "text/html": [
       "<div>\n",
       "<style scoped>\n",
       "    .dataframe tbody tr th:only-of-type {\n",
       "        vertical-align: middle;\n",
       "    }\n",
       "\n",
       "    .dataframe tbody tr th {\n",
       "        vertical-align: top;\n",
       "    }\n",
       "\n",
       "    .dataframe thead th {\n",
       "        text-align: right;\n",
       "    }\n",
       "</style>\n",
       "<table border=\"1\" class=\"dataframe\">\n",
       "  <thead>\n",
       "    <tr style=\"text-align: right;\">\n",
       "      <th></th>\n",
       "      <th>1</th>\n",
       "      <th>2</th>\n",
       "      <th>3</th>\n",
       "      <th>4</th>\n",
       "      <th>5</th>\n",
       "      <th>6</th>\n",
       "      <th>7</th>\n",
       "      <th>8</th>\n",
       "      <th>9</th>\n",
       "      <th>10</th>\n",
       "    </tr>\n",
       "  </thead>\n",
       "  <tbody>\n",
       "    <tr>\n",
       "      <th>ham</th>\n",
       "      <td>hydrate</td>\n",
       "      <td>lni</td>\n",
       "      <td>lnbcer</td>\n",
       "      <td>lna</td>\n",
       "      <td>lmxfg</td>\n",
       "      <td>lmrtos</td>\n",
       "      <td>lmrheiu</td>\n",
       "      <td>lmoz</td>\n",
       "      <td>lmfuiwr</td>\n",
       "      <td>lmffhmll</td>\n",
       "    </tr>\n",
       "    <tr>\n",
       "      <th>spam</th>\n",
       "      <td>housewares</td>\n",
       "      <td>sethu</td>\n",
       "      <td>setch</td>\n",
       "      <td>ferries</td>\n",
       "      <td>sessions</td>\n",
       "      <td>locke</td>\n",
       "      <td>locker</td>\n",
       "      <td>bramlett</td>\n",
       "      <td>settelement</td>\n",
       "      <td>servlet</td>\n",
       "    </tr>\n",
       "  </tbody>\n",
       "</table>\n",
       "</div>"
      ],
      "text/plain": [
       "               1      2       3        4         5       6        7         8  \\\n",
       "ham      hydrate    lni  lnbcer      lna     lmxfg  lmrtos  lmrheiu      lmoz   \n",
       "spam  housewares  sethu   setch  ferries  sessions   locke   locker  bramlett   \n",
       "\n",
       "                9        10  \n",
       "ham       lmfuiwr  lmffhmll  \n",
       "spam  settelement   servlet  "
      ]
     },
     "execution_count": 20,
     "metadata": {},
     "output_type": "execute_result"
    }
   ],
   "source": [
    "pd.DataFrame(least_words, index=['ham', 'spam'], columns=range(1, n+1))"
   ]
  },
  {
   "cell_type": "markdown",
   "metadata": {},
   "source": [
    "# D"
   ]
  },
  {
   "cell_type": "markdown",
   "metadata": {},
   "source": [
    "With os module we obtain all Enron files in data. Then, with a loop, we iterate all this files and calculate their recall and precision scores.\n",
    "\n",
    "With Enron_1 we obtain slightly different values than before because now we're using all data as test data."
   ]
  },
  {
   "cell_type": "code",
   "execution_count": 21,
   "metadata": {},
   "outputs": [
    {
     "name": "stdout",
     "output_type": "stream",
     "text": [
      "File Enron_5 has recall: 0.9600595238095238 and precision: 0.9358576857213368\n",
      "File Enron_2 has recall: 0.9435316598070098 and precision: 0.9095101724900487\n",
      "File Enron_3 has recall: 0.9735382258232056 and precision: 0.9534177259254839\n",
      "File Enron_4 has recall: 0.9394381541168844 and precision: 0.9230271909599442\n",
      "File Enron_1 has recall: 0.9785844399046646 and precision: 0.9831582945578332\n",
      "File Enron_6 has recall: 0.9547222222222222 and precision: 0.9464094986778606\n"
     ]
    }
   ],
   "source": [
    "files = os.listdir('data')\n",
    "\n",
    "for i in files:\n",
    "    data = load_files('data/' + i, encoding='latin-1', shuffle=True, categories=['ham', 'spam'] )\n",
    "    \n",
    "    df = pd.DataFrame({'text': data['data'], 'spam': data['target']})\n",
    "        \n",
    "    test_features_files = vectorizer.transform(df.text)\n",
    "    base_predicted_files =  base_spam_classifier.predict(test_features_files)\n",
    "    \n",
    "    recall = recall_score(df.spam, base_predicted_files, average='macro')\n",
    "    precision =  precision_score(df.spam, base_predicted_files, average='macro')\n",
    "    \n",
    "    print('File', i, 'has recall:', recall , 'and precision:', precision)"
   ]
  },
  {
   "cell_type": "markdown",
   "metadata": {},
   "source": [
    "# E"
   ]
  },
  {
   "cell_type": "markdown",
   "metadata": {},
   "source": [
    "We create a new folder with ${\\it ham}$ and ${\\it spam}$ subfolders, so we copy there all our data. We have to run it only once.\n",
    "\n",
    "We use a new function to avoid some problems of ${\\it copytree}$ method, from shutil module."
   ]
  },
  {
   "cell_type": "code",
   "execution_count": 22,
   "metadata": {},
   "outputs": [],
   "source": [
    "os.mkdir('all_data')\n",
    "os.mkdir('ham')\n",
    "os.mkdir('spam')\n",
    "\n",
    "source = os.path.abspath(os.getcwd())\n",
    "  \n",
    "dest1 = shutil.move(source + '/ham', source + '/all_data')\n",
    "dest2 = shutil.move(source + '/spam', source + '/all_data') \n",
    "\n",
    "files = os.listdir('data')\n",
    "\n",
    "def copytree(src, dst, symlinks=False, ignore=None):\n",
    "    for item in os.listdir(src):\n",
    "        s = os.path.join(src, item)\n",
    "        d = os.path.join(dst, item)\n",
    "        if os.path.isdir(s):\n",
    "            shutil.copytree(s, d, symlinks, ignore)\n",
    "        else:\n",
    "            shutil.copy2(s, d)\n",
    "\n",
    "for i in files:\n",
    "    copytree('data/' + i + '/ham', 'all_data/ham')\n",
    "    copytree('data/' + i + '/spam', 'all_data/spam')"
   ]
  },
  {
   "cell_type": "markdown",
   "metadata": {},
   "source": [
    "Once we do that, we can define a new data set and train the classifier."
   ]
  },
  {
   "cell_type": "code",
   "execution_count": 23,
   "metadata": {},
   "outputs": [
    {
     "name": "stdout",
     "output_type": "stream",
     "text": [
      "1    13736\n",
      "0    13234\n",
      "Name: spam, dtype: int64\n"
     ]
    }
   ],
   "source": [
    "all_data = load_files('all_data', encoding='latin-1', shuffle=True, categories=['ham', 'spam'] )\n",
    "\n",
    "df = pd.DataFrame({'text': all_data['data'], 'spam': all_data['target']})\n",
    "\n",
    "N_all_data = len(df)\n",
    "N_train_all_data = int(0.8 * N_all_data); N_test_all_data = N_all_data - N_train_all_data\n",
    "\n",
    "train_all_data, test_all_data = train_test_split(df, train_size=N_train_all_data, test_size=N_test_all_data)\n",
    "\n",
    "print(df.spam.value_counts())"
   ]
  },
  {
   "cell_type": "code",
   "execution_count": 24,
   "metadata": {},
   "outputs": [
    {
     "data": {
      "text/plain": [
       "MultinomialNB(alpha=1.0, class_prior=None, fit_prior=True)"
      ]
     },
     "execution_count": 24,
     "metadata": {},
     "output_type": "execute_result"
    }
   ],
   "source": [
    "spam_features = vectorizer.fit_transform(train_all_data.text)\n",
    "base_spam_classifier.fit(spam_features, train_all_data.spam)"
   ]
  },
  {
   "cell_type": "markdown",
   "metadata": {},
   "source": [
    "## $B_1$"
   ]
  },
  {
   "cell_type": "markdown",
   "metadata": {},
   "source": [
    "Using the test set, we draw the confusion matrix using  plot_confusion_matrix  method from sklearn using the test set."
   ]
  },
  {
   "cell_type": "code",
   "execution_count": 25,
   "metadata": {},
   "outputs": [
    {
     "data": {
      "text/plain": [
       "array([[2579,   39],\n",
       "       [  38, 2738]])"
      ]
     },
     "execution_count": 25,
     "metadata": {},
     "output_type": "execute_result"
    }
   ],
   "source": [
    "test_features = vectorizer.transform(test_all_data.text)\n",
    "base_predicted =  base_spam_classifier.predict(test_features)\n",
    "confusion_matrix(test_all_data.spam, base_predicted)"
   ]
  },
  {
   "cell_type": "markdown",
   "metadata": {},
   "source": [
    "And we plot it."
   ]
  },
  {
   "cell_type": "code",
   "execution_count": 26,
   "metadata": {},
   "outputs": [
    {
     "data": {
      "text/plain": [
       "<matplotlib.image.AxesImage at 0x1a21f3c6a0>"
      ]
     },
     "execution_count": 26,
     "metadata": {},
     "output_type": "execute_result"
    },
    {
     "data": {
      "image/png": "[encoded data removed]",
      "text/plain": [
       "<Figure size 432x288 with 1 Axes>"
      ]
     },
     "metadata": {
      "needs_background": "light"
     },
     "output_type": "display_data"
    }
   ],
   "source": [
    "plt.imshow(confusion_matrix(test_all_data.spam, base_predicted))"
   ]
  },
  {
   "cell_type": "markdown",
   "metadata": {},
   "source": [
    "## $B_2$"
   ]
  },
  {
   "cell_type": "markdown",
   "metadata": {},
   "source": [
    "Now, we calculate  recall  and  precison  scores with sklearn library, as well as the accuracy. We can see that we obtain high values, so it's fine."
   ]
  },
  {
   "cell_type": "code",
   "execution_count": 27,
   "metadata": {},
   "outputs": [
    {
     "name": "stdout",
     "output_type": "stream",
     "text": [
      "The accuracy is: 0.985724879495736\n",
      "The recall score is: 0.9857071856775197\n",
      "The precision score is: 0.9857178122216598\n"
     ]
    }
   ],
   "source": [
    "print('The accuracy is:' ,accuracy_score(test_all_data.spam, base_predicted))\n",
    "print('The recall score is:', recall_score(test_all_data.spam, base_predicted, average='macro'))\n",
    "print('The precision score is:', precision_score(test_all_data.spam, base_predicted, average='macro'))"
   ]
  },
  {
   "cell_type": "markdown",
   "metadata": {},
   "source": [
    "## $B_3$"
   ]
  },
  {
   "cell_type": "markdown",
   "metadata": {},
   "source": [
    "Then, we proceed to calculate ROC curve and AUC score with sklearn library. In order to do that, we calculate estimated probabilities with  preditc_proba  method. First of all, we calculate TPR and FPR scores."
   ]
  },
  {
   "cell_type": "code",
   "execution_count": 28,
   "metadata": {},
   "outputs": [
    {
     "name": "stdout",
     "output_type": "stream",
     "text": [
      "TPR = [0.    0.748 0.75  0.755 0.756 0.762 0.764 0.767 0.768 0.77  0.77  0.773\n",
      " 0.773 0.775 0.777 0.777 0.778 0.779 0.78  0.782 0.782 0.783 0.784 0.785\n",
      " 0.787 0.787 0.788 0.789 0.79  0.793 0.793 0.794 0.794 0.797 0.798 0.798\n",
      " 0.799 0.802 0.803 0.81  0.811 0.811 0.812 0.839 0.84  0.843 0.843 0.843\n",
      " 0.843 0.848 0.849 0.851 0.851 0.853 0.853 0.853 0.854 0.857 0.858 0.863\n",
      " 0.863 0.868 0.869 0.878 0.879 0.879 0.88  0.892 0.893 0.893 0.902 0.902\n",
      " 0.903 0.904 0.906 0.906 0.916 0.916 0.925 0.925 0.929 0.929 0.933 0.934\n",
      " 0.934 0.934 0.936 0.937 0.939 0.939 0.948 0.948 0.949 0.95  0.954 0.955\n",
      " 0.961 0.961 0.963 0.963 0.964 0.965 0.969 0.97  0.97  0.97  0.971 0.971\n",
      " 0.976 0.976 0.979 0.979 0.98  0.98  0.981 0.981 0.981 0.981 0.982 0.982\n",
      " 0.983 0.983 0.985 0.985 0.987 0.989 0.991 0.991 0.991 0.991 0.992 0.992\n",
      " 0.993 0.993 0.993 0.994 0.994 0.994 0.994 0.995 0.995 0.995 0.995 0.996\n",
      " 0.996 0.996 0.996 0.996 0.996 0.997 0.997 0.997 0.997 0.997 0.997 0.998\n",
      " 0.998 0.998 0.998 0.998 0.998 0.998 0.998 0.998 0.998 0.999 0.999 0.999\n",
      " 0.999 0.999 0.999 0.999 0.999 0.999 0.999 0.999 0.999 0.999 0.999 0.999\n",
      " 0.999 1.    1.    1.    1.    1.    1.    1.    1.    1.    1.    1.\n",
      " 1.    1.    1.    1.    1.    1.    1.    1.    1.    1.    1.    1.\n",
      " 1.    1.    1.    1.    1.    1.    1.    1.    1.    1.    1.    1.\n",
      " 1.    1.    1.    1.    1.    1.    1.    1.    1.    1.    1.    1.\n",
      " 1.    1.    1.    1.    1.    1.    1.    1.    1.    1.    1.    1.\n",
      " 1.    1.    1.    1.    1.    1.    1.    1.    1.    1.    1.    1.\n",
      " 1.    1.    1.    1.    1.    1.    1.    1.    1.    1.   ]\n",
      "FPR = [0.      0.00382 0.00382 0.00382 0.00382 0.00382 0.00382 0.00382 0.00382\n",
      " 0.00382 0.00382 0.00382 0.00382 0.00382 0.00382 0.00382 0.00382 0.00382\n",
      " 0.00382 0.00382 0.00382 0.00382 0.00382 0.00382 0.00382 0.00382 0.00382\n",
      " 0.00382 0.00382 0.00382 0.00382 0.00382 0.00382 0.00382 0.00382 0.00382\n",
      " 0.00382 0.00382 0.00382 0.00382 0.00382 0.00382 0.00382 0.00382 0.00382\n",
      " 0.00382 0.0042  0.0042  0.00458 0.00458 0.00458 0.00458 0.00497 0.00497\n",
      " 0.00535 0.00535 0.00535 0.00535 0.00535 0.00535 0.00573 0.00573 0.00573\n",
      " 0.00573 0.00573 0.00573 0.00573 0.00573 0.00573 0.00611 0.00611 0.00649\n",
      " 0.00649 0.00649 0.00649 0.00688 0.00688 0.00726 0.00726 0.00764 0.00764\n",
      " 0.00802 0.00802 0.00802 0.00802 0.0084  0.0084  0.0084  0.0084  0.00879\n",
      " 0.00879 0.00917 0.00917 0.00917 0.00917 0.00917 0.00917 0.00955 0.00955\n",
      " 0.00993 0.00993 0.00993 0.00993 0.00993 0.00993 0.01031 0.01031 0.0107\n",
      " 0.0107  0.01108 0.01108 0.01146 0.01146 0.01261 0.01261 0.01299 0.01299\n",
      " 0.01337 0.01337 0.01375 0.01375 0.01413 0.01413 0.0149  0.0149  0.0149\n",
      " 0.0149  0.01566 0.01566 0.01604 0.01604 0.01681 0.01681 0.01681 0.01719\n",
      " 0.01719 0.01795 0.01795 0.02101 0.02101 0.02139 0.02139 0.02215 0.02215\n",
      " 0.0233  0.0233  0.02445 0.02445 0.04163 0.04163 0.04813 0.04813 0.05348\n",
      " 0.05348 0.05577 0.05577 0.05844 0.05921 0.0615  0.06226 0.09091 0.09091\n",
      " 0.11765 0.11841 0.12834 0.12834 0.13598 0.13598 0.15241 0.15317 0.15737\n",
      " 0.15814 0.21161 0.21238 0.22307 0.22383 0.24026 0.24026 0.24523 0.24599\n",
      " 0.27502 0.27502 0.27655 0.27731 0.33881 0.33957 0.34874 0.3495  0.39725\n",
      " 0.39801 0.4068  0.4068  0.41864 0.4194  0.41979 0.42055 0.42361 0.42437\n",
      " 0.42475 0.42628 0.42743 0.42819 0.42972 0.43048 0.43163 0.43277 0.43316\n",
      " 0.43468 0.43621 0.43774 0.44461 0.44538 0.44843 0.4492  0.45569 0.45646\n",
      " 0.47364 0.47441 0.53018 0.53094 0.54316 0.54393 0.54545 0.54622 0.58098\n",
      " 0.58174 0.64744 0.6482  0.71314 0.7139  0.73377 0.73453 0.73797 0.73873\n",
      " 0.78113 0.78189 0.78648 0.78724 0.79603 0.79679 0.80099 0.80176 0.81016\n",
      " 0.81092 0.82315 0.82391 0.85714 0.85791 0.87662 0.87815 0.89305 0.89381\n",
      " 0.91253 0.91329 0.91788 0.91864 0.93125 0.93201 0.94156 0.94232 0.95989\n",
      " 1.     ]\n"
     ]
    }
   ],
   "source": [
    "base_proba = base_spam_classifier.predict_proba(test_features)\n",
    "\n",
    "fpr, tpr, ths = roc_curve(test_all_data.spam, base_proba[:,1])\n",
    "\n",
    "print('TPR =', np.round(tpr, 3))\n",
    "print('FPR =', np.round(fpr, 5))"
   ]
  },
  {
   "cell_type": "markdown",
   "metadata": {},
   "source": [
    "Finally, we calculate that AUC score and plot ROC curve. We remark that red line, between points [0,0] and [1,1], is randomly classified (this would be the standart classifier with $TPR,FPR=[0,1]$).\n",
    "\n",
    "We obtain a similar than before AUC score (maybe a bit lower sometimes, it depends on train-test sets)."
   ]
  },
  {
   "cell_type": "code",
   "execution_count": 29,
   "metadata": {},
   "outputs": [
    {
     "name": "stdout",
     "output_type": "stream",
     "text": [
      "AUC score: 0.9964219117041629\n"
     ]
    },
    {
     "data": {
      "text/plain": [
       "[<matplotlib.lines.Line2D at 0x1a1d7d4240>]"
      ]
     },
     "execution_count": 29,
     "metadata": {},
     "output_type": "execute_result"
    },
    {
     "data": {
      "image/png": "[encoded data removed]",
      "text/plain": [
       "<Figure size 432x288 with 1 Axes>"
      ]
     },
     "metadata": {
      "needs_background": "light"
     },
     "output_type": "display_data"
    }
   ],
   "source": [
    "print('AUC score:', roc_auc_score(test_all_data.spam, base_proba[:,1]))\n",
    "\n",
    "plt.plot(fpr, tpr)\n",
    "plt.plot([0, 1], [0, 1], ':r')"
   ]
  },
  {
   "cell_type": "markdown",
   "metadata": {},
   "source": [
    "## $B_4$"
   ]
  },
  {
   "cell_type": "markdown",
   "metadata": {},
   "source": [
    "To get percentage of valid mails classified as spam we have to substract test data to predicted labels ($predictio−data$), so we get  +1  where it is valid mail classified as spam, and  −1  where it is spam classified as valid mail."
   ]
  },
  {
   "cell_type": "code",
   "execution_count": 30,
   "metadata": {},
   "outputs": [
    {
     "data": {
      "text/plain": [
       "1.4896867838044308"
      ]
     },
     "execution_count": 30,
     "metadata": {},
     "output_type": "execute_result"
    }
   ],
   "source": [
    "N_valid_mails =  np.count_nonzero(np.array(test_all_data.spam) == 0)\n",
    "np.count_nonzero((base_predicted - np.array(test_all_data.spam)) == 1) * 100 / N_valid_mails"
   ]
  },
  {
   "cell_type": "markdown",
   "metadata": {},
   "source": [
    "As we can see, we have about  1.5%  misclassified valid mails over all valid mails."
   ]
  },
  {
   "cell_type": "markdown",
   "metadata": {},
   "source": [
    "## $B_5$"
   ]
  },
  {
   "cell_type": "markdown",
   "metadata": {},
   "source": [
    "Now, we have to count number of  −1  values using previous method, where it is spam classified as valild mail (ham)."
   ]
  },
  {
   "cell_type": "code",
   "execution_count": 31,
   "metadata": {},
   "outputs": [
    {
     "data": {
      "text/plain": [
       "1.4514896867838045"
      ]
     },
     "execution_count": 31,
     "metadata": {},
     "output_type": "execute_result"
    }
   ],
   "source": [
    "np.count_nonzero((base_predicted - np.array(test_all_data.spam)) == -1) * 100 / N_valid_mails"
   ]
  },
  {
   "cell_type": "markdown",
   "metadata": {},
   "source": [
    "As we can see, we have about  1.25%  misclassified spam over all valid mails."
   ]
  },
  {
   "cell_type": "markdown",
   "metadata": {},
   "source": [
    "# F"
   ]
  },
  {
   "cell_type": "markdown",
   "metadata": {},
   "source": [
    "Frequency of misclassified ham mails is equal to $FPR$, where: \n",
    "\n",
    "\\begin{equation}\n",
    "    FPR = \\frac{FP}{FP + TN}\n",
    "\\end{equation}\n",
    "\n",
    "Then, we use $ROC$ curve to calculate value of $TPR$, and we now relation: $TPR = 1 - FNR$, where $FNR$ is the percentage of spam (classified as ham) in our inbox.\n",
    "\n",
    "We want $FPR = 0.5\\%$, so we look to our values in $ROC$ curve and we do the average between firs and last value of $TPR$ rounded equal to $0.005$ (we're doing an interpolation, wich should be really accurate)."
   ]
  },
  {
   "cell_type": "code",
   "execution_count": 32,
   "metadata": {},
   "outputs": [
    {
     "name": "stdout",
     "output_type": "stream",
     "text": [
      "TPR = 0.853386167146974\n"
     ]
    }
   ],
   "source": [
    "TPR = (tpr[np.where(np.round(fpr, 3) == 0.005)][0] + tpr[np.where(np.round(fpr, 3) == 0.005)][-1]) / 2\n",
    "print('TPR =', TPR)"
   ]
  },
  {
   "cell_type": "markdown",
   "metadata": {},
   "source": [
    "Finally, we obtain our $FNR$."
   ]
  },
  {
   "cell_type": "code",
   "execution_count": 33,
   "metadata": {},
   "outputs": [
    {
     "name": "stdout",
     "output_type": "stream",
     "text": [
      "FNR = 0.14661383285302598\n"
     ]
    }
   ],
   "source": [
    "print('FNR =', 1 - TPR)"
   ]
  },
  {
   "cell_type": "markdown",
   "metadata": {},
   "source": [
    "So, the percetage of spam in our inbox is around $15\\%$.\n",
    "\n",
    "We could use widgets form matplotlib library to get this value in ROC curve. But, since we're obtaning different values in the curve each time we iterate it, it's not usefull.\n",
    "\n",
    "What's more, around $FPR = 0.5\\%$ the curve behaves as a linear function, so interpolation should be a good option."
   ]
  }
 ],
 "metadata": {
  "kernelspec": {
   "display_name": "Python 3",
   "language": "python",
   "name": "python3"
  },
  "language_info": {
   "codemirror_mode": {
    "name": "ipython",
    "version": 3
   },
   "file_extension": ".py",
   "mimetype": "text/x-python",
   "name": "python",
   "nbconvert_exporter": "python",
   "pygments_lexer": "ipython3",
   "version": "3.5.6"
  }
 },
 "nbformat": 4,
 "nbformat_minor": 4
}
