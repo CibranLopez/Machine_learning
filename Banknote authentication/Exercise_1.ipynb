{
 "cells": [
  {
   "cell_type": "markdown",
   "metadata": {},
   "source": [
    "# Exercise 1"
   ]
  },
  {
   "cell_type": "markdown",
   "metadata": {},
   "source": [
    "First of all, we import some usefull libraries."
   ]
  },
  {
   "cell_type": "code",
   "execution_count": 1,
   "metadata": {},
   "outputs": [],
   "source": [
    "import pandas as pd\n",
    "import numpy as np\n",
    "import matplotlib.pyplot as plt\n",
    "import scipy.stats as st\n",
    "import sys\n",
    "\n",
    "from sklearn.model_selection import train_test_split, StratifiedKFold, cross_validate\n",
    "from sklearn.metrics import confusion_matrix, roc_curve, roc_auc_score, f1_score\n",
    "from sklearn.discriminant_analysis import QuadraticDiscriminantAnalysis\n",
    "from sklearn.mixture import GaussianMixture\n",
    "sys.path.append(\"../../\")"
   ]
  },
  {
   "cell_type": "markdown",
   "metadata": {},
   "source": [
    "Then, we import our banknote data. We can show first 3 rows too."
   ]
  },
  {
   "cell_type": "code",
   "execution_count": 2,
   "metadata": {},
   "outputs": [
    {
     "data": {
      "text/html": [
       "<div>\n",
       "<style scoped>\n",
       "    .dataframe tbody tr th:only-of-type {\n",
       "        vertical-align: middle;\n",
       "    }\n",
       "\n",
       "    .dataframe tbody tr th {\n",
       "        vertical-align: top;\n",
       "    }\n",
       "\n",
       "    .dataframe thead th {\n",
       "        text-align: right;\n",
       "    }\n",
       "</style>\n",
       "<table border=\"1\" class=\"dataframe\">\n",
       "  <thead>\n",
       "    <tr style=\"text-align: right;\">\n",
       "      <th></th>\n",
       "      <th>a1</th>\n",
       "      <th>a2</th>\n",
       "      <th>a3</th>\n",
       "      <th>counterfeit</th>\n",
       "    </tr>\n",
       "  </thead>\n",
       "  <tbody>\n",
       "    <tr>\n",
       "      <th>0</th>\n",
       "      <td>12.3784</td>\n",
       "      <td>0.70403</td>\n",
       "      <td>-7.5836</td>\n",
       "      <td>0</td>\n",
       "    </tr>\n",
       "    <tr>\n",
       "      <th>1</th>\n",
       "      <td>8.1881</td>\n",
       "      <td>-3.13380</td>\n",
       "      <td>-2.5276</td>\n",
       "      <td>0</td>\n",
       "    </tr>\n",
       "    <tr>\n",
       "      <th>2</th>\n",
       "      <td>-10.8679</td>\n",
       "      <td>9.49260</td>\n",
       "      <td>-1.4116</td>\n",
       "      <td>1</td>\n",
       "    </tr>\n",
       "  </tbody>\n",
       "</table>\n",
       "</div>"
      ],
      "text/plain": [
       "        a1       a2      a3  counterfeit\n",
       "0  12.3784  0.70403 -7.5836            0\n",
       "1   8.1881 -3.13380 -2.5276            0\n",
       "2 -10.8679  9.49260 -1.4116            1"
      ]
     },
     "execution_count": 2,
     "metadata": {},
     "output_type": "execute_result"
    }
   ],
   "source": [
    "data = pd.read_csv('data/banknote_authentication.csv')\n",
    "data.head(3)"
   ]
  },
  {
   "cell_type": "markdown",
   "metadata": {},
   "source": [
    "# A"
   ]
  },
  {
   "cell_type": "markdown",
   "metadata": {},
   "source": [
    "We perform a quadraic discriminant analysis, so we divide our data in train-test sets."
   ]
  },
  {
   "cell_type": "code",
   "execution_count": 3,
   "metadata": {},
   "outputs": [],
   "source": [
    "atributes  = data.iloc[:, :3]\n",
    "lbl = data.iloc[:, 3].astype('int32')\n",
    "\n",
    "train_atributes, test_atributes, train_lbl, test_lbl = train_test_split(atributes, lbl, test_size=0.2)"
   ]
  },
  {
   "cell_type": "markdown",
   "metadata": {},
   "source": [
    "Then, we train the classifier and obtain predictedd labels."
   ]
  },
  {
   "cell_type": "code",
   "execution_count": 4,
   "metadata": {},
   "outputs": [],
   "source": [
    "qda_classifier = QuadraticDiscriminantAnalysis()\n",
    "\n",
    "qda_classifier.fit(train_atributes, train_lbl)\n",
    "predicted = qda_classifier.predict(test_atributes)"
   ]
  },
  {
   "cell_type": "markdown",
   "metadata": {},
   "source": [
    "Now, we calculate confusion matrix."
   ]
  },
  {
   "cell_type": "code",
   "execution_count": 5,
   "metadata": {},
   "outputs": [
    {
     "name": "stdout",
     "output_type": "stream",
     "text": [
      "The confusion matrix is: \n",
      " [[102  22]\n",
      " [ 25  71]]\n"
     ]
    }
   ],
   "source": [
    "confusion_matrix_ = confusion_matrix(test_lbl, predicted)\n",
    "print('The confusion matrix is: \\n', confusion_matrix_)\n",
    "#plt.imshow(confusion_matrix_)"
   ]
  },
  {
   "cell_type": "markdown",
   "metadata": {},
   "source": [
    "Then, we proceed to calculate ROC curve and AUC score with sklearn library. In order to do that, we calculate estimated probabilities with ${\\it preditc\\_proba}$ method. First of all, we calculate TPR and FPR scores."
   ]
  },
  {
   "cell_type": "code",
   "execution_count": 6,
   "metadata": {},
   "outputs": [
    {
     "name": "stdout",
     "output_type": "stream",
     "text": [
      "TPR = [0.    0.01  0.042 0.042 0.156 0.156 0.167 0.167 0.177 0.177 0.25  0.25\n",
      " 0.281 0.281 0.281 0.281 0.302 0.302 0.333 0.333 0.344 0.344 0.385 0.385\n",
      " 0.458 0.458 0.531 0.531 0.562 0.562 0.583 0.583 0.604 0.604 0.729 0.729\n",
      " 0.74  0.74  0.76  0.76  0.792 0.792 0.812 0.812 0.823 0.823 0.833 0.833\n",
      " 0.844 0.844 0.854 0.854 0.885 0.885 0.906 0.906 0.917 0.917 0.917 0.927\n",
      " 0.927 0.938 0.938 0.948 0.948 0.958 0.958 1.    1.   ]\n",
      "FPR = [0.    0.    0.    0.008 0.008 0.016 0.016 0.024 0.024 0.04  0.04  0.048\n",
      " 0.048 0.056 0.073 0.081 0.081 0.089 0.089 0.097 0.097 0.105 0.105 0.121\n",
      " 0.121 0.129 0.129 0.137 0.137 0.145 0.145 0.153 0.153 0.161 0.161 0.169\n",
      " 0.169 0.185 0.185 0.21  0.21  0.218 0.218 0.234 0.234 0.258 0.258 0.274\n",
      " 0.274 0.282 0.282 0.29  0.29  0.306 0.306 0.315 0.315 0.323 0.347 0.347\n",
      " 0.355 0.355 0.403 0.403 0.444 0.444 0.782 0.782 1.   ]\n"
     ]
    }
   ],
   "source": [
    "qda_proba = qda_classifier.predict_proba(test_atributes)\n",
    "\n",
    "fpr_qda, tpr_qda, ths_qda = roc_curve(test_lbl, qda_proba[:,1])\n",
    "\n",
    "print('TPR =', np.round(tpr_qda, 3))\n",
    "print('FPR =', np.round(fpr_qda, 3))"
   ]
  },
  {
   "cell_type": "markdown",
   "metadata": {},
   "source": [
    "Finally, we calculate that AUC score and plot ROC curve. We remark that red line, between points $[0, 0]$ and $[1, 1]$ is randomly classified (this would be the standart classifier with $TPR, FPR = [0, 1]$)."
   ]
  },
  {
   "cell_type": "code",
   "execution_count": 7,
   "metadata": {},
   "outputs": [
    {
     "name": "stdout",
     "output_type": "stream",
     "text": [
      "AUC score: 0.8403897849462365\n"
     ]
    },
    {
     "data": {
      "image/png": "[encoded data removed]",
      "text/plain": [
       "<Figure size 432x288 with 1 Axes>"
      ]
     },
     "metadata": {
      "needs_background": "light"
     },
     "output_type": "display_data"
    }
   ],
   "source": [
    "print('AUC score:', roc_auc_score(test_lbl, qda_proba[:,1]))\n",
    "\n",
    "plt.plot(fpr_qda, tpr_qda, label = 'qda')\n",
    "plt.plot([0, 1], [0, 1], ':r')\n",
    "\n",
    "plt.xlabel(u'fprs')\n",
    "plt.ylabel(u'tprs')\n",
    "plt.title(u'ROC curve (qda)')\n",
    "plt.legend(loc = 'best')\n",
    "plt.show()"
   ]
  },
  {
   "cell_type": "markdown",
   "metadata": {},
   "source": [
    "# B"
   ]
  },
  {
   "cell_type": "markdown",
   "metadata": {},
   "source": [
    "We're using an implementation from scikit-learn library provided by the ${\\it GaussianMixture}$ class.\n",
    "\n",
    "We fill fit each class separatelly to a two Gaussian mixture"
   ]
  },
  {
   "cell_type": "code",
   "execution_count": 8,
   "metadata": {},
   "outputs": [
    {
     "data": {
      "text/plain": [
       "GaussianMixture(covariance_type='full', init_params='kmeans', max_iter=100,\n",
       "        means_init=None, n_components=2, n_init=1, precisions_init=None,\n",
       "        random_state=None, reg_covar=1e-06, tol=0.0001, verbose=0,\n",
       "        verbose_interval=10, warm_start=False, weights_init=None)"
      ]
     },
     "execution_count": 8,
     "metadata": {},
     "output_type": "execute_result"
    }
   ],
   "source": [
    "bn0_cmp = GaussianMixture(n_components=2, max_iter=100, tol=0.0001) \n",
    "bn1_cmp = GaussianMixture(n_components=2, max_iter=100, tol=0.0001) \n",
    "\n",
    "bn0_atributes = train_atributes[train_lbl == 0]\n",
    "bn0_lbl = train_lbl[train_lbl == 0]\n",
    "\n",
    "bn1_atributes = train_atributes[train_lbl == 1]\n",
    "bn1_lbl = train_lbl[train_lbl == 1]\n",
    "\n",
    "bn0_cmp.fit(bn0_atributes, bn0_lbl)\n",
    "bn1_cmp.fit(bn1_atributes, bn1_lbl)"
   ]
  },
  {
   "cell_type": "markdown",
   "metadata": {},
   "source": [
    "The fitted parameters are accesible as attributes of the ${\\it GaussianMixture}$ object."
   ]
  },
  {
   "cell_type": "code",
   "execution_count": 9,
   "metadata": {},
   "outputs": [
    {
     "name": "stdout",
     "output_type": "stream",
     "text": [
      "[0.53088425 0.46911575]\n",
      "[[ 8.41347528 -1.26619943 -2.40976508]\n",
      " [-0.38432655  3.1608538   0.33773587]]\n",
      "[[[ 3.60693289 -0.40764358 -2.96739742]\n",
      "  [-0.40764358  4.27223537  0.19685739]\n",
      "  [-2.96739742  0.19685739  4.12489738]]\n",
      "\n",
      " [[ 9.11345237 -3.80469582  1.1777547 ]\n",
      "  [-3.80469582  6.42731618 -1.09552194]\n",
      "  [ 1.1777547  -1.09552194  0.78464826]]]\n"
     ]
    }
   ],
   "source": [
    "print(bn0_cmp.weights_)  #pi\n",
    "print(bn0_cmp.means_)    #mu\n",
    "print(bn0_cmp.covariances_) #Sigma (covariance) matrices"
   ]
  },
  {
   "cell_type": "markdown",
   "metadata": {},
   "source": [
    "Then, we difine next usefull functions in order to get mgd predicted probability."
   ]
  },
  {
   "cell_type": "code",
   "execution_count": 10,
   "metadata": {},
   "outputs": [],
   "source": [
    "def make_pdf(cmp):\n",
    "    \"\"\"\n",
    "    Takes a GaussianMixture object and returns corresponding\n",
    "    probability distribution function\n",
    "    \"\"\"\n",
    "    n_cmp = cmp.n_components\n",
    "    dists = [st.multivariate_normal(cmp.means_[i], cmp.covariances_[i]) for i in range(n_cmp)]\n",
    "    def pdf(x):\n",
    "        p = 0.0\n",
    "        for i in range(n_cmp):\n",
    "            p+= cmp.weights_[i]*dists[i].pdf(x)\n",
    "        return p\n",
    "    \n",
    "    return pdf\n",
    "    \n",
    "    \n",
    "def make_predict_proba(cmp0, cmp1, pi0=0.5, pi1=.5):\n",
    "    \"\"\"\n",
    "    Takes two GaussianMixture object and corresponding priors and returns \n",
    "    pdf for conditional probability P(c=1|x)\n",
    "    \"\"\"\n",
    "    pdf0 = make_pdf(cmp0)\n",
    "    pdf1 = make_pdf(cmp1)\n",
    "    def p(x):\n",
    "        p0=pi0*pdf0(x)\n",
    "        p1=pi1*pdf1(x)\n",
    "        return p1/(p1+p0)    \n",
    "        \n",
    "    return p"
   ]
  },
  {
   "cell_type": "markdown",
   "metadata": {},
   "source": [
    "We calculate these predicted probabilities and print de confusion matrix."
   ]
  },
  {
   "cell_type": "code",
   "execution_count": 11,
   "metadata": {},
   "outputs": [
    {
     "name": "stdout",
     "output_type": "stream",
     "text": [
      "The confusion matrix is: \n",
      " [[1.         0.16981132]\n",
      " [0.20754717 0.69811321]]\n"
     ]
    }
   ],
   "source": [
    "mgd_predict_proba = make_predict_proba(bn0_cmp, bn1_cmp, 0.5, 0.5)\n",
    "\n",
    "mgd_proba = mgd_predict_proba(test_atributes)\n",
    "\n",
    "_confusion_matrix_ = confusion_matrix(test_lbl, mgd_proba>0.5)\n",
    "print('The confusion matrix is: \\n', _confusion_matrix_ / np.max(_confusion_matrix_)) # We take threeshold equal to 0.5"
   ]
  },
  {
   "cell_type": "markdown",
   "metadata": {},
   "source": [
    "Then, we calculate AUC score and plot the ROC curve."
   ]
  },
  {
   "cell_type": "code",
   "execution_count": 12,
   "metadata": {},
   "outputs": [
    {
     "name": "stdout",
     "output_type": "stream",
     "text": [
      "AUC score: 0.9203629032258064\n"
     ]
    },
    {
     "data": {
      "image/png": "[encoded data removed]",
      "text/plain": [
       "<Figure size 432x288 with 1 Axes>"
      ]
     },
     "metadata": {
      "needs_background": "light"
     },
     "output_type": "display_data"
    }
   ],
   "source": [
    "print('AUC score:', roc_auc_score(test_lbl, mgd_proba))\n",
    "\n",
    "fpr_mgd, tpr_mgd, ths_mgd = roc_curve(test_lbl, mgd_proba)\n",
    "\n",
    "plt.plot(fpr_qda, tpr_qda, label = 'qda')\n",
    "plt.plot(fpr_mgd, tpr_mgd, label = 'mgd')\n",
    "plt.plot([0, 1], [0, 1], ':r')\n",
    "\n",
    "plt.xlabel(u'fprs')\n",
    "plt.ylabel(u'tprs')\n",
    "plt.title(u'ROC curve (qda, mgd)')\n",
    "plt.legend(loc = 'best')\n",
    "plt.show()"
   ]
  },
  {
   "cell_type": "markdown",
   "metadata": {},
   "source": [
    "We see an important improvement in the quality of the classifier (explainable by looking at the fitted components and the new decision boundary)."
   ]
  },
  {
   "cell_type": "markdown",
   "metadata": {},
   "source": [
    "# C"
   ]
  },
  {
   "cell_type": "markdown",
   "metadata": {},
   "source": [
    "Firstly, we iterate over all number of gaussians and calculate f1 score for each combination of gaussians. Then, each time the score improves, we update the best number of gaussians and their mean f1 score."
   ]
  },
  {
   "cell_type": "code",
   "execution_count": 13,
   "metadata": {},
   "outputs": [
    {
     "name": "stdout",
     "output_type": "stream",
     "text": [
      "Best number of gaussians for positive, negative elements is: ( 9 , 7 ) with f1 sore: 0.9575686433574088\n"
     ]
    }
   ],
   "source": [
    "n_splits = 5; N_gaussians = 10; best_f1_score = 0\n",
    "skf = StratifiedKFold(n_splits)\n",
    "\n",
    "for number_gaussians_1 in np.arange(1, N_gaussians+1):\n",
    "    for number_gaussians_2 in np.arange(1, N_gaussians+1):\n",
    "        actual_f1_score = 0\n",
    "        \n",
    "        for train_index, test_index in skf.split(atributes, lbl): # We go through different stratified folders\n",
    "            X_train, X_test = atributes.iloc[train_index], atributes.iloc[test_index]\n",
    "            y_train, y_test = lbl.iloc[train_index], lbl.iloc[test_index]\n",
    "            \n",
    "            bn0_cmp = GaussianMixture(n_components=number_gaussians_1, max_iter=100, tol=0.0001)\n",
    "            bn1_cmp = GaussianMixture(n_components=number_gaussians_2, max_iter=100, tol=0.0001)\n",
    "            \n",
    "            bn0_atributes = X_train[y_train == 0]\n",
    "            bn0_lbl = y_train[y_train == 0]\n",
    "            \n",
    "            bn1_atributes = X_train[y_train == 1]\n",
    "            bn1_lbl = y_train[y_train == 1]\n",
    "            \n",
    "            bn0_cmp.fit(bn0_atributes, bn0_lbl)\n",
    "            bn1_cmp.fit(bn1_atributes, bn1_lbl)\n",
    "            \n",
    "            mgd_predict_proba = make_predict_proba(bn0_cmp, bn1_cmp, 0.5, 0.5)\n",
    "            mgd_proba_out = mgd_predict_proba(X_test)\n",
    "            \n",
    "            actual_f1_score += f1_score(y_test, mgd_proba_out>0.5, average='macro')\n",
    "\n",
    "        if actual_f1_score > best_f1_score: # We could divide error by n_splits, but not necessary\n",
    "            best_number_gaussians_1 = number_gaussians_1\n",
    "            best_number_gaussians_2 = number_gaussians_2\n",
    "            best_f1_score = actual_f1_score\n",
    "\n",
    "print('Best number of gaussians for positive, negative elements is: (', best_number_gaussians_1, ',', best_number_gaussians_2, ') with f1 sore:', best_f1_score / n_splits)"
   ]
  },
  {
   "cell_type": "markdown",
   "metadata": {},
   "source": [
    "Now, we use previous data sets and calculate all requested elements."
   ]
  },
  {
   "cell_type": "code",
   "execution_count": 14,
   "metadata": {},
   "outputs": [
    {
     "data": {
      "text/plain": [
       "GaussianMixture(covariance_type='full', init_params='kmeans', max_iter=100,\n",
       "        means_init=None, n_components=7, n_init=1, precisions_init=None,\n",
       "        random_state=None, reg_covar=1e-06, tol=0.0001, verbose=0,\n",
       "        verbose_interval=10, warm_start=False, weights_init=None)"
      ]
     },
     "execution_count": 14,
     "metadata": {},
     "output_type": "execute_result"
    }
   ],
   "source": [
    "bn0_cmp_best = GaussianMixture(n_components=best_number_gaussians_1, max_iter=100, tol=0.0001) \n",
    "bn1_cmp_best = GaussianMixture(n_components=best_number_gaussians_2, max_iter=100, tol=0.0001) \n",
    "\n",
    "bn0_atributes_best = train_atributes[train_lbl == 0]\n",
    "bn0_lbl_best = train_lbl[train_lbl == 0]\n",
    "\n",
    "bn1_atributes_best = train_atributes[train_lbl == 1]\n",
    "bn1_lbl_best = train_lbl[train_lbl == 1]\n",
    "\n",
    "bn0_cmp_best.fit(bn0_atributes_best, bn0_lbl_best)\n",
    "bn1_cmp_best.fit(bn1_atributes_best, bn1_lbl_best)"
   ]
  },
  {
   "cell_type": "markdown",
   "metadata": {},
   "source": [
    "We calculate these predicted probabilities and print de confusion matrix."
   ]
  },
  {
   "cell_type": "code",
   "execution_count": 15,
   "metadata": {},
   "outputs": [
    {
     "name": "stdout",
     "output_type": "stream",
     "text": [
      "The confusion matrix is: \n",
      " [[1.         0.03333333]\n",
      " [0.075      0.725     ]]\n"
     ]
    }
   ],
   "source": [
    "mgd_predict_proba_best = make_predict_proba(bn0_cmp_best, bn1_cmp_best, 0.5, 0.5)\n",
    "\n",
    "mgd_proba_best = mgd_predict_proba_best(test_atributes)\n",
    "\n",
    "_confusion_matrix_best = confusion_matrix(test_lbl, mgd_proba_best>0.5)\n",
    "print('The confusion matrix is: \\n', _confusion_matrix_best / np.max(_confusion_matrix_best)) # We take threeshold equal to 0.5"
   ]
  },
  {
   "cell_type": "markdown",
   "metadata": {},
   "source": [
    "Then, we calculate AUC score and plot the ROC curve."
   ]
  },
  {
   "cell_type": "code",
   "execution_count": 16,
   "metadata": {},
   "outputs": [
    {
     "name": "stdout",
     "output_type": "stream",
     "text": [
      "AUC score: 0.9825268817204301\n"
     ]
    },
    {
     "data": {
      "image/png": "[encoded data removed]",
      "text/plain": [
       "<Figure size 432x288 with 1 Axes>"
      ]
     },
     "metadata": {
      "needs_background": "light"
     },
     "output_type": "display_data"
    }
   ],
   "source": [
    "print('AUC score:', roc_auc_score(test_lbl, mgd_proba_best))\n",
    "\n",
    "fpr_mgd_best, tpr_mgd_best, ths_mgd_best = roc_curve(test_lbl, mgd_proba_best)\n",
    "\n",
    "plt.plot(fpr_qda, tpr_qda, label = 'qda')\n",
    "plt.plot(fpr_mgd, tpr_mgd, label = 'mgd')\n",
    "plt.plot(fpr_mgd_best, tpr_mgd_best, label = 'best mgd')\n",
    "plt.plot([0, 1], [0, 1], ':r')\n",
    "\n",
    "plt.xlabel(u'fprs')\n",
    "plt.ylabel(u'tprs')\n",
    "plt.title(u'ROC curve (qda, mgd, best mgd)')\n",
    "plt.legend(loc = 'best')\n",
    "plt.show()"
   ]
  },
  {
   "cell_type": "markdown",
   "metadata": {},
   "source": [
    "We see again an important improvement in the quality of the classifier by changing number of gaussians in the mgd."
   ]
  },
  {
   "cell_type": "markdown",
   "metadata": {},
   "source": [
    "# D"
   ]
  },
  {
   "cell_type": "markdown",
   "metadata": {},
   "source": [
    "First of all, we define losses function. Where using FPR and TPR scores, which we calculated in previous cases.\n",
    "\n",
    "We know that:\n",
    "\n",
    "\\begin{equation}\n",
    "    TP + FN = 0.01; \\hspace{0.1cm} FN_{penalty} = 100; \\hspace{0.1cm} FP_{penalty} = 15\n",
    "\\end{equation}\n",
    "\n",
    "So, losses function is:\n",
    "\n",
    "\\begin{equation}\n",
    "    losses = FN_{penalty} \\hspace{0.1cm} FN + FP_{penalty} \\hspace{0.1cm} FP = FN_{penalty} \\hspace{0.1cm} FPR \\hspace{0.1cm} (TP + FN) + FP_{penalty} \\hspace{0.1cm} (1 - TPR) \\hspace{0.1cm} (1 - TP - FN)\n",
    "\\end{equation}\n",
    "\n",
    "And, finally:\n",
    "\n",
    "\\begin{equation}\n",
    "    losses = 100 \\hspace{0.1cm} FPR \\hspace{0.1cm} 0.01 + 15 \\hspace{0.1cm} (1 - TPR) \\hspace{0.1cm} 0.99\n",
    "\\end{equation}\n",
    "\n",
    "Then, we define another function in order to calculate all losses and find the minimum."
   ]
  },
  {
   "cell_type": "code",
   "execution_count": 17,
   "metadata": {},
   "outputs": [],
   "source": [
    "def losses(FPR, TPR):\n",
    "    return 100 * FPR * 0.01 + 15 * (1 - TPR) * 0.99\n",
    "\n",
    "def best_threeshold(TPR, FPR, THS):\n",
    "    cumulative_loss = []\n",
    "    len_THS = len(THS)\n",
    "    for i in range(len_THS):\n",
    "        cumulative_loss.append(losses(FPR[i], TPR[i]))\n",
    "    pos = len_THS - np.argmin(cumulative_loss)\n",
    "    return np.min(cumulative_loss), THS[pos], pos"
   ]
  },
  {
   "cell_type": "markdown",
   "metadata": {},
   "source": [
    "Now, we iterate over our three classifiers and find the best one with its threeshold."
   ]
  },
  {
   "cell_type": "code",
   "execution_count": 18,
   "metadata": {},
   "outputs": [
    {
     "name": "stdout",
     "output_type": "stream",
     "text": [
      "For qda classifier, minimum losses for each banknote is: 0.782258064516129 with threeshold: 0.9928805030682314\n",
      "For mgd classifier, minimum losses for each banknote is: 0.5887096774193549 with threeshold: 0.9498574720764777\n",
      "For mgd_best classifier, minimum losses for each banknote is: 0.28225806451612906 with threeshold: 0.826237313464124\n"
     ]
    }
   ],
   "source": [
    "classifiers = ['qda', 'mgd', 'mgd_best']\n",
    "TPRs = [tpr_qda, tpr_mgd, tpr_mgd_best]\n",
    "FPRs = [fpr_qda, fpr_mgd, fpr_mgd_best]\n",
    "THSs = [ths_qda, ths_mgd, ths_mgd_best]\n",
    "\n",
    "positions = []\n",
    "for i in range(len(classifiers)):\n",
    "    TPR = TPRs[i]; FPR = FPRs[i]; THS = THSs[i]\n",
    "    minimum_loss, threeshold, pos = best_threeshold(TPR, FPR, THS)\n",
    "    positions.append(pos)\n",
    "    print('For', classifiers[i], 'classifier, minimum losses for each banknote is:', minimum_loss, 'with threeshold:', threeshold)"
   ]
  },
  {
   "cell_type": "markdown",
   "metadata": {},
   "source": [
    "Finally, we can plot them and the point which minimize losses, so we can make a comparison. We can see that qda classifer is the worst one (it gives biggest losses with highest threeshold). What's more, mgd_best classifier is the best one, because it has the smallest losses and (somentimes) smaller threeshold, which allowd bigger benefits (we're accepting more banknotes)."
   ]
  },
  {
   "cell_type": "code",
   "execution_count": 19,
   "metadata": {},
   "outputs": [
    {
     "data": {
      "image/png": "[encoded data removed]",
      "text/plain": [
       "<Figure size 432x288 with 1 Axes>"
      ]
     },
     "metadata": {
      "needs_background": "light"
     },
     "output_type": "display_data"
    }
   ],
   "source": [
    "for i in range(3):\n",
    "    FPR = FPRs[i]\n",
    "    TPR = TPRs[i]\n",
    "    plt.plot(FPR, TPR, label = classifiers[i])\n",
    "    plt.plot(FPR[positions[i]], TPR[positions[i]], 'o')\n",
    "\n",
    "plt.plot([0, 1], [0, 1], ':r')\n",
    "\n",
    "plt.xlabel(u'fprs')\n",
    "plt.ylabel(u'tprs')\n",
    "plt.title(u'ROC curve (qda, mgd, best mgd)')\n",
    "plt.legend(loc = 'best')\n",
    "plt.show()"
   ]
  },
  {
   "cell_type": "markdown",
   "metadata": {},
   "source": [
    "It make sense that, the bigger the penalization is for FN than for FP, the worse is to accept a possible valid banknote than to refuse it. So, the benefits will be smaller, but the losses too. That's why we have higher than 0.5 threesholds: he have to make sure that the banknote will be valid."
   ]
  },
  {
   "cell_type": "code",
   "execution_count": null,
   "metadata": {},
   "outputs": [],
   "source": []
  }
 ],
 "metadata": {
  "kernelspec": {
   "display_name": "Python 3",
   "language": "python",
   "name": "python3"
  },
  "language_info": {
   "codemirror_mode": {
    "name": "ipython",
    "version": 3
   },
   "file_extension": ".py",
   "mimetype": "text/x-python",
   "name": "python",
   "nbconvert_exporter": "python",
   "pygments_lexer": "ipython3",
   "version": "3.5.6"
  }
 },
 "nbformat": 4,
 "nbformat_minor": 4
}
