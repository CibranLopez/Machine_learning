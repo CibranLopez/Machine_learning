{
 "cells": [
  {
   "cell_type": "markdown",
   "metadata": {},
   "source": [
    "# Exercise 1"
   ]
  },
  {
   "cell_type": "markdown",
   "metadata": {},
   "source": [
    "First of all, we import some usefull libraries."
   ]
  },
  {
   "cell_type": "code",
   "execution_count": 1,
   "metadata": {},
   "outputs": [],
   "source": [
    "from typing import List"
   ]
  },
  {
   "cell_type": "markdown",
   "metadata": {},
   "source": [
    "Now, we define our words/sentences tokenizers functions.\n",
    "\n",
    "We didn't need to use Regex module."
   ]
  },
  {
   "cell_type": "code",
   "execution_count": 2,
   "metadata": {},
   "outputs": [
    {
     "name": "stdout",
     "output_type": "stream",
     "text": [
      "Tokenized sentences:\n",
      "['Here we go again.', ' I was supposed to add this text later.', \"Well, it's 10.p.m. here, and I'm actually having fun making this course.\", ' :oI hope you are getting along fine with this presentation, I really did try.', 'And one last sentence, just so you can test you tokenizers better.']\n",
      "Tokenized words:\n",
      "['Here', 'we', 'go', 'again', ' I', 'was', 'supposed', 'to', 'add', 'this', 'text', 'later', 'Well', \" it's\", '10.p.m', ' here', ' and', \"I'm\", 'actually', 'having', 'fun', 'making', 'this', 'course', ' :oI', 'hope', 'you', 'are', 'getting', 'along', 'fine', 'with', 'this', 'presentation', ' I', 'really', 'did', 'try', 'And', 'one', 'last', 'sentence', ' just', 'so', 'you', 'can', 'test', 'you', 'tokenizers', 'better']\n"
     ]
    }
   ],
   "source": [
    "def tokenize_words(text: str) -> list:\n",
    "    list_words = []\n",
    "    aux = ''\n",
    "    for i in range(len(text)):\n",
    "        aux += str(text[i])\n",
    "        if i != len(text)-1:\n",
    "            if text[i] in ' ' and aux[:-1] != '':\n",
    "                aux = aux[:-1]\n",
    "                list_words.append(aux)\n",
    "                aux = ''\n",
    "            elif text[i] in '[.,!?]':\n",
    "                if text[i+1] != '.' and text[i+1].islower() == False:\n",
    "                    aux = aux[:-1]\n",
    "                    list_words.append(aux)\n",
    "                    aux = ''\n",
    "        else:\n",
    "            if text[i] in '[.,!?]':\n",
    "                aux = aux[:-1]\n",
    "            list_words.append(aux)\n",
    "    return list_words\n",
    "\n",
    "def tokenize_sentence(text: str) -> list:\n",
    "    list_sentences = []\n",
    "    aux = ''\n",
    "    for i in range(len(text)):\n",
    "        aux += str(text[i])\n",
    "        if text[i] in '[.!?]':\n",
    "            if i != len(text)-1:\n",
    "                for j in range(i+1, len(text)):\n",
    "                    if text[j] != ' ':\n",
    "                        if text[j].islower() == False:\n",
    "                            list_sentences.append(aux)\n",
    "                            aux = ''\n",
    "                        break\n",
    "            else:\n",
    "                list_sentences.append(aux)\n",
    "    return list_sentences\n",
    "\n",
    "text = \"Here we go again. I was supposed to add this text later.\\\n",
    "Well, it's 10.p.m. here, and I'm actually having fun making this course. :o\\\n",
    "I hope you are getting along fine with this presentation, I really did try.\\\n",
    "And one last sentence, just so you can test you tokenizers better.\"\n",
    "\n",
    "print(\"Tokenized sentences:\")\n",
    "print(tokenize_sentence(text))\n",
    "\n",
    "print(\"Tokenized words:\")\n",
    "print(tokenize_words(text))"
   ]
  }
 ],
 "metadata": {
  "kernelspec": {
   "display_name": "Python 3",
   "language": "python",
   "name": "python3"
  },
  "language_info": {
   "codemirror_mode": {
    "name": "ipython",
    "version": 3
   },
   "file_extension": ".py",
   "mimetype": "text/x-python",
   "name": "python",
   "nbconvert_exporter": "python",
   "pygments_lexer": "ipython3",
   "version": "3.5.6"
  }
 },
 "nbformat": 4,
 "nbformat_minor": 4
}
