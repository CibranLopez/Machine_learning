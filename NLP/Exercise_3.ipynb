{
 "cells": [
  {
   "cell_type": "markdown",
   "metadata": {},
   "source": [
    "# Exercise 3"
   ]
  },
  {
   "cell_type": "markdown",
   "metadata": {},
   "source": [
    "First of all, we import some usefull libraries."
   ]
  },
  {
   "cell_type": "code",
   "execution_count": 1,
   "metadata": {},
   "outputs": [],
   "source": [
    "import spacy\n",
    "import numpy as np"
   ]
  },
  {
   "cell_type": "markdown",
   "metadata": {},
   "source": [
    "We load Trump's speech."
   ]
  },
  {
   "cell_type": "code",
   "execution_count": 2,
   "metadata": {},
   "outputs": [],
   "source": [
    "file = open(\"./datasets/trump.txt\", \"r\",encoding=\"utf-8\") \n",
    "trump = file.read()"
   ]
  },
  {
   "cell_type": "markdown",
   "metadata": {},
   "source": [
    "Spacy allow as to get sentences from a text (Trump speech, in that case). We count number of sentences."
   ]
  },
  {
   "cell_type": "code",
   "execution_count": 3,
   "metadata": {},
   "outputs": [],
   "source": [
    "nlp = spacy.load(\"en_core_web_sm\")\n",
    "doc = nlp(trump)\n",
    "\n",
    "numbers_sents = 0\n",
    "\n",
    "for span in doc.sents:\n",
    "    numbers_sents += 1"
   ]
  },
  {
   "cell_type": "markdown",
   "metadata": {},
   "source": [
    "Then, we iterate over last ten sentences of the speech and print nouns. We're also recording it number an plot it at the end."
   ]
  },
  {
   "cell_type": "code",
   "execution_count": 4,
   "metadata": {},
   "outputs": [
    {
     "name": "stdout",
     "output_type": "stream",
     "text": [
      "\n",
      " New sentence:\n",
      "5665 time\n",
      "5668 thinking\n",
      "\n",
      " New sentence:\n",
      "5673 time\n",
      "5676 fights\n",
      "\n",
      " New sentence:\n",
      "5685 courage\n",
      "5689 dreams\n",
      "5693 hearts\n",
      "5696 bravery\n",
      "5700 hopes\n",
      "5704 souls\n",
      "5708 confidence\n",
      "5712 hopes\n",
      "5715 dreams\n",
      "5717 action\n",
      "\n",
      " New sentence:\n",
      "5730 aspirations\n",
      "5736 fears\n",
      "5741 future\n",
      "5746 failures\n",
      "5749 past\n",
      "5755 vision\n",
      "5761 doubts\n",
      "\n",
      " New sentence:\n",
      "5768 citizens\n",
      "5772 renewal\n",
      "5776 spirit\n",
      "\n",
      " New sentence:\n",
      "5782 Members\n",
      "5796 things\n",
      "5799 country\n",
      "\n",
      " New sentence:\n",
      "5804 everyone\n",
      "5806 tonight\n",
      "5810 moment\n",
      "\n",
      " New sentence:\n",
      "5814 yourselves\n",
      "5819 future\n",
      "\n",
      " New sentence:\n",
      "There are no nouns in that sentence\n",
      "\n",
      " New sentence:\n",
      "There are no nouns in that sentence\n",
      "\n",
      " And nouns in each sentece are:  [ 2.  2. 10.  7.  3.  3.  3.  2.  0.  0.]\n"
     ]
    }
   ],
   "source": [
    "counter = 10 - numbers_sents; nouns = np.zeros(10)\n",
    "\n",
    "for span in doc.sents:\n",
    "    if counter >= 0:\n",
    "        print('\\n New sentence:')\n",
    "        for i in range(span.start, span.end):\n",
    "                token = doc[i]\n",
    "                if token.pos_ == 'NOUN':\n",
    "                    nouns[counter] += 1\n",
    "                    print(i, token.text)\n",
    "                if i == span.end-1 and nouns[counter] == 0:\n",
    "                    print('There are no nouns in that sentence')\n",
    "    counter += 1\n",
    "\n",
    "print('\\n And nouns in each sentece are: ', nouns)"
   ]
  },
  {
   "cell_type": "code",
   "execution_count": null,
   "metadata": {},
   "outputs": [],
   "source": []
  }
 ],
 "metadata": {
  "kernelspec": {
   "display_name": "Python 3",
   "language": "python",
   "name": "python3"
  },
  "language_info": {
   "codemirror_mode": {
    "name": "ipython",
    "version": 3
   },
   "file_extension": ".py",
   "mimetype": "text/x-python",
   "name": "python",
   "nbconvert_exporter": "python",
   "pygments_lexer": "ipython3",
   "version": "3.5.6"
  }
 },
 "nbformat": 4,
 "nbformat_minor": 4
}
