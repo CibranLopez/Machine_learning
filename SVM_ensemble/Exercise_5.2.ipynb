{
 "cells": [
  {
   "cell_type": "markdown",
   "metadata": {},
   "source": [
    "# Exercise 5.2"
   ]
  },
  {
   "cell_type": "markdown",
   "metadata": {},
   "source": [
    "First of all, we import usefull libraries."
   ]
  },
  {
   "cell_type": "code",
   "execution_count": 1,
   "metadata": {},
   "outputs": [],
   "source": [
    "import numpy as np\n",
    "from sklearn.datasets import load_iris\n",
    "from sklearn.model_selection import train_test_split\n",
    "from sklearn.metrics import accuracy_score\n",
    "import cvxopt"
   ]
  },
  {
   "cell_type": "markdown",
   "metadata": {},
   "source": [
    "Now, we define a function to choose set of training or testing data for data_set and labels, as well as another one to obtain length of labels array."
   ]
  },
  {
   "cell_type": "code",
   "execution_count": 2,
   "metadata": {},
   "outputs": [],
   "source": [
    "def choose_set_for_label(data_set, labels, i):\n",
    "    data_set = data_set[labels!=i]\n",
    "    labels = labels[labels!=i]\n",
    "    \n",
    "    labels[labels == np.min(labels)] = -1\n",
    "    labels[labels == np.max(labels)] = 1\n",
    "    \n",
    "    positions_train = np.random.choice(range(len(labels)), int(len(labels) * alpha), replace = False)\n",
    "    positions_test = np.delete(range(len(labels)), positions_train)\n",
    "    # We're taking alpha fot train and (1-alpha) for test\n",
    "    \n",
    "    train_data_set = data_set[positions_train]\n",
    "    train_labels = labels[positions_train]\n",
    "    \n",
    "    test_data_set = data_set[positions_test]\n",
    "    test_labels = labels[positions_test]\n",
    "    return train_data_set, test_data_set, train_labels, test_labels\n",
    "\n",
    "def get_labels_count(data_set):\n",
    "    labels_count = len(data_set)\n",
    "    return labels_count"
   ]
  },
  {
   "cell_type": "markdown",
   "metadata": {},
   "source": [
    "Use the code that we have implemented earlier:"
   ]
  },
  {
   "cell_type": "code",
   "execution_count": 3,
   "metadata": {},
   "outputs": [],
   "source": [
    "def train(train_data_set, train_labels, kernel_type='linear', C=10, threshold=1e-5):\n",
    "    kernel = build_kernel(train_data_set, kernel_type=kernel_type)\n",
    "\n",
    "    P = train_labels * train_labels.transpose() * kernel\n",
    "    q = -np.ones((objects_count, 1))\n",
    "    G = np.concatenate((np.eye(objects_count), -np.eye(objects_count)))\n",
    "    h = np.concatenate((C * np.ones((objects_count, 1)), np.zeros((objects_count, 1))))\n",
    "\n",
    "    A = train_labels.reshape(1, objects_count)\n",
    "    A = A.astype(float)\n",
    "    b = 0.0\n",
    "\n",
    "    sol = cvxopt.solvers.qp(cvxopt.matrix(P), cvxopt.matrix(q), cvxopt.matrix(G), cvxopt.matrix(h), cvxopt.matrix(A), cvxopt.matrix(b))\n",
    "\n",
    "    lambdas = np.array(sol['x'])\n",
    "\n",
    "    support_vectors_id = np.where(lambdas > threshold)[0]\n",
    "    vector_number = len(support_vectors_id)\n",
    "    support_vectors = train_data_set[support_vectors_id, :]\n",
    "\n",
    "    lambdas = lambdas[support_vectors_id]\n",
    "    targets = train_labels[support_vectors_id]\n",
    "\n",
    "    b = np.sum(targets)\n",
    "    for n in range(vector_number):\n",
    "        b -= np.sum(lambdas * targets * np.reshape(kernel[support_vectors_id[n], support_vectors_id], (vector_number, 1)))\n",
    "    b /= len(lambdas)\n",
    "\n",
    "    return lambdas, support_vectors, support_vectors_id, b, targets, vector_number\n",
    "\n",
    "def build_kernel(data_set, kernel_type='linear'):\n",
    "    kernel = np.dot(data_set, data_set.T)\n",
    "    if kernel_type == 'rbf':\n",
    "        sigma = 1.0\n",
    "        objects_count = len(data_set)\n",
    "        b = np.ones((len(data_set), 1))\n",
    "        kernel -= 0.5 * (np.dot((np.diag(kernel)*np.ones((1, objects_count))).T, b.T)\n",
    "                         + np.dot(b, (np.diag(kernel) * np.ones((1, objects_count))).T.T))\n",
    "        kernel = np.exp(kernel / (2. * sigma ** 2))\n",
    "    return kernel\n",
    "\n",
    "def classify_rbf(test_data_set, train_data_set, lambdas, targets, b, vector_number, support_vectors, support_vectors_id):\n",
    "    kernel = np.dot(test_data_set, support_vectors.T)\n",
    "    sigma = 1.0\n",
    "    #K = np.dot(test_data_set, support_vectors.T)\n",
    "    #kernel = build_kernel(train_data_set, kernel_type='rbf')\n",
    "    c = (1. / sigma * np.sum(test_data_set ** 2, axis=1) * np.ones((1, np.shape(test_data_set)[0]))).T\n",
    "    c = np.dot(c, np.ones((1, np.shape(kernel)[1])))\n",
    "    #aa = np.dot((np.diag(K)*np.ones((1,len(test_data_set)))).T[support_vectors_id], np.ones((1, np.shape(K)[0]))).T\n",
    "    sv = (np.diag(np.dot(train_data_set, train_data_set.T))*np.ones((1,len(train_data_set)))).T[support_vectors_id]\n",
    "    aa = np.dot(sv,np.ones((1,np.shape(kernel)[0]))).T\n",
    "    kernel = kernel - 0.5 * c - 0.5 * aa\n",
    "    kernel = np.exp(kernel / (2. * sigma ** 2))\n",
    "\n",
    "    y = np.zeros((np.shape(test_data_set)[0], 1))\n",
    "    for j in range(np.shape(test_data_set)[0]):\n",
    "        for i in range(vector_number):\n",
    "            y[j] += lambdas[i] * targets[i] * kernel[j, i]\n",
    "        y[j] += b\n",
    "    return np.sign(y)"
   ]
  },
  {
   "cell_type": "markdown",
   "metadata": {},
   "source": [
    "We load the data and apply the functions we defined before. We run three times the code, so we obtain the predicted results from the three pairs. Then, we apply a voting method so decide the correct value from the three sets and, finally, obtain the accuracy.\n",
    "\n",
    "We're iterating everything, but we may have a problem when we compare it with tsta_labels."
   ]
  },
  {
   "cell_type": "code",
   "execution_count": 4,
   "metadata": {},
   "outputs": [
    {
     "name": "stdout",
     "output_type": "stream",
     "text": [
      "     pcost       dcost       gap    pres   dres\n",
      " 0:  8.3328e+01 -1.4131e+03  3e+03  2e-01  2e-15\n",
      " 1:  5.9010e+01 -1.3139e+02  2e+02  6e-03  3e-15\n",
      " 2:  7.9272e+00 -1.6941e+01  2e+01  6e-16  3e-15\n",
      " 3: -3.1518e-01 -3.7574e+00  3e+00  2e-16  8e-16\n",
      " 4: -1.0884e+00 -1.7738e+00  7e-01  2e-16  4e-16\n",
      " 5: -1.2320e+00 -1.4432e+00  2e-01  2e-16  2e-16\n",
      " 6: -1.3004e+00 -1.4231e+00  1e-01  2e-16  2e-16\n",
      " 7: -1.3297e+00 -1.3658e+00  4e-02  2e-16  3e-16\n",
      " 8: -1.3411e+00 -1.3436e+00  3e-03  2e-16  3e-16\n",
      " 9: -1.3421e+00 -1.3423e+00  1e-04  2e-16  3e-16\n",
      "10: -1.3422e+00 -1.3422e+00  1e-06  2e-16  2e-16\n",
      "Optimal solution found.\n",
      "     pcost       dcost       gap    pres   dres\n",
      " 0:  1.1187e+02 -1.3598e+03  3e+03  2e-01  2e-15\n",
      " 1:  6.6143e+01 -1.3711e+02  2e+02  5e-03  2e-15\n",
      " 2:  7.8219e+00 -1.8856e+01  3e+01  5e-16  2e-15\n",
      " 3: -7.2012e-01 -4.3668e+00  4e+00  2e-16  6e-16\n",
      " 4: -1.4423e+00 -2.3749e+00  9e-01  2e-16  3e-16\n",
      " 5: -1.7426e+00 -2.0671e+00  3e-01  4e-16  3e-16\n",
      " 6: -1.8095e+00 -1.9085e+00  1e-01  2e-16  2e-16\n",
      " 7: -1.8437e+00 -1.8726e+00  3e-02  7e-16  2e-16\n",
      " 8: -1.8526e+00 -1.8544e+00  2e-03  1e-16  3e-16\n",
      " 9: -1.8533e+00 -1.8534e+00  3e-05  4e-16  3e-16\n",
      "10: -1.8534e+00 -1.8534e+00  3e-07  4e-16  2e-16\n",
      "Optimal solution found.\n",
      "     pcost       dcost       gap    pres   dres\n",
      " 0:  9.6504e+01 -1.2723e+03  2e+03  1e-01  2e-15\n",
      " 1:  6.0400e+01 -1.2011e+02  2e+02  4e-03  2e-15\n",
      " 2:  7.2198e+00 -1.6662e+01  2e+01  3e-16  2e-15\n",
      " 3: -4.9780e-01 -3.7863e+00  3e+00  4e-16  8e-16\n",
      " 4: -1.1625e+00 -1.7833e+00  6e-01  2e-16  3e-16\n",
      " 5: -1.3593e+00 -1.6186e+00  3e-01  2e-16  2e-16\n",
      " 6: -1.4229e+00 -1.5030e+00  8e-02  2e-16  2e-16\n",
      " 7: -1.4545e+00 -1.4761e+00  2e-02  2e-16  2e-16\n",
      " 8: -1.4615e+00 -1.4629e+00  1e-03  2e-16  2e-16\n",
      " 9: -1.4620e+00 -1.4620e+00  4e-05  7e-16  3e-16\n",
      "10: -1.4620e+00 -1.4620e+00  8e-07  2e-16  3e-16\n",
      "Optimal solution found.\n",
      "The accuracy is: 0.6\n"
     ]
    }
   ],
   "source": [
    "iris = load_iris()\n",
    "data_set = iris.data\n",
    "labels = iris.target\n",
    "\n",
    "predictions = []\n",
    "\n",
    "alpha = 0.85\n",
    "\n",
    "\n",
    "for i in range(3):\n",
    "    train_data_set, test_data_set, train_labels, test_labels = choose_set_for_label(data_set, labels, i)\n",
    "    objects_count = get_labels_count(train_labels)\n",
    "    \n",
    "    lambdas, support_vectors, support_vectors_id, b, targets, vector_number = train(train_data_set, train_labels, kernel_type='rbf')\n",
    "    predicted = classify_rbf(test_data_set, train_data_set, lambdas, targets, b, vector_number, support_vectors, support_vectors_id)\n",
    "    predicted = list(predicted.astype(int))\n",
    "    predictions.append(predicted)\n",
    "\n",
    "nc, nf, o = np.shape(predictions)\n",
    "predictions = np.reshape(predictions, (nf, nc))\n",
    "\n",
    "min_value = np.min(predictions)\n",
    "predictions -= min_value\n",
    "final_predition = np.zeros(nf)\n",
    "\n",
    "for i in range(nf):\n",
    "    aux = [predictions[i, 0], predictions[i, 1], predictions[i, 2]]\n",
    "    final_predition[i] = np.argmax(np.bincount(aux))\n",
    "\n",
    "final_predition += min_value\n",
    "\n",
    "#print('Obtained predition is:', final_predition)\n",
    "print('The accuracy is:', accuracy_score(final_predition, test_labels))"
   ]
  }
 ],
 "metadata": {
  "kernelspec": {
   "display_name": "Python 3",
   "language": "python",
   "name": "python3"
  },
  "language_info": {
   "codemirror_mode": {
    "name": "ipython",
    "version": 3
   },
   "file_extension": ".py",
   "mimetype": "text/x-python",
   "name": "python",
   "nbconvert_exporter": "python",
   "pygments_lexer": "ipython3",
   "version": "3.5.6"
  }
 },
 "nbformat": 4,
 "nbformat_minor": 4
}
