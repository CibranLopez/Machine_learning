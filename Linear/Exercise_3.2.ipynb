{
 "cells": [
  {
   "cell_type": "markdown",
   "metadata": {},
   "source": [
    "# Exercise 3.2"
   ]
  },
  {
   "cell_type": "markdown",
   "metadata": {},
   "source": [
    "First of all, we import usefull libraries."
   ]
  },
  {
   "cell_type": "code",
   "execution_count": 1,
   "metadata": {},
   "outputs": [],
   "source": [
    "import numpy as np\n",
    "from sklearn.linear_model import Lasso\n",
    "import matplotlib.pyplot as plt"
   ]
  },
  {
   "cell_type": "markdown",
   "metadata": {},
   "source": [
    "Now, we import data we want to fit to a linear function."
   ]
  },
  {
   "cell_type": "code",
   "execution_count": 2,
   "metadata": {},
   "outputs": [],
   "source": [
    "x_old = np.array([188, 181, 197, 168, 167, 187, 178, 194, 140, 176, 168, 192, 173, 142, 176]).reshape(-1, 1).reshape(15,1)\n",
    "x = np.asmatrix(np.c_[np.ones((15,1)), x_old])\n",
    "\n",
    "y = np.array([141, 106, 149, 59, 79, 136, 65, 136, 52, 87, 115, 140, 82, 69, 121]).reshape(-1, 1).reshape(15,1)"
   ]
  },
  {
   "cell_type": "markdown",
   "metadata": {},
   "source": [
    "We're fitting our variables to a linear funtion as: $y = ax + b$\n",
    "\n",
    "Lasso shrinks the less important feature’s coefficient to zero thus, removing some feature altogether. So, this works well for feature selection in case we have a huge number of features."
   ]
  },
  {
   "cell_type": "code",
   "execution_count": 3,
   "metadata": {},
   "outputs": [
    {
     "name": "stdout",
     "output_type": "stream",
     "text": [
      "Lasso fitting coefficients are: [a, b] = [1.62, -180.86]\n"
     ]
    }
   ],
   "source": [
    "alpha = 0.1\n",
    "\n",
    "lasso_regression = Lasso(alpha = alpha)\n",
    "lasso_regression.fit(X = x, y = y)\n",
    "a = np.round(lasso_regression.coef_[1], 3)\n",
    "b = np.round(lasso_regression.intercept_[0], 3)\n",
    "\n",
    "print('Lasso fitting coefficients are: [a, b] =', [a, b])"
   ]
  },
  {
   "cell_type": "markdown",
   "metadata": {},
   "source": [
    "We can see that this results are slightly different than which we calculated in previous exercise.\n",
    "\n",
    "Now, we proceed to plot our results so we're comparing Lasso, Ridge and linear regressions. We see that Lasso and linear regressions are very similar, due to the small weight of $\\alpha$."
   ]
  },
  {
   "cell_type": "code",
   "execution_count": 4,
   "metadata": {},
   "outputs": [
    {
     "data": {
      "image/png": "[encoded data removed]",
      "text/plain": [
       "<Figure size 432x288 with 1 Axes>"
      ]
     },
     "metadata": {
      "needs_background": "light"
     },
     "output_type": "display_data"
    }
   ],
   "source": [
    "coef_Ridge = [-101.72, 1.17]\n",
    "coef_linear = [-180.92, 1.62]\n",
    "\n",
    "plt.plot(x_old, y, 'o')\n",
    "plt.plot(x_old, lasso_regression.predict(x), label = u'Lasso regresion')\n",
    "plt.plot(x_old, x_old * coef_Ridge[1]  + coef_Ridge[0], label = u'Ridge regresion')\n",
    "plt.plot(x_old, x_old * coef_linear[1]  + coef_linear[0], label = u'Linear regresion')\n",
    "    \n",
    "plt.legend(loc = 'best')\n",
    "plt.xlabel(u'x')\n",
    "plt.ylabel(u'y')\n",
    "plt.show()"
   ]
  },
  {
   "cell_type": "code",
   "execution_count": null,
   "metadata": {},
   "outputs": [],
   "source": []
  }
 ],
 "metadata": {
  "kernelspec": {
   "display_name": "Python 3",
   "language": "python",
   "name": "python3"
  },
  "language_info": {
   "codemirror_mode": {
    "name": "ipython",
    "version": 3
   },
   "file_extension": ".py",
   "mimetype": "text/x-python",
   "name": "python",
   "nbconvert_exporter": "python",
   "pygments_lexer": "ipython3",
   "version": "3.5.6"
  }
 },
 "nbformat": 4,
 "nbformat_minor": 4
}
