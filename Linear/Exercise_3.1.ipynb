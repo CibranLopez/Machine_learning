{
 "cells": [
  {
   "cell_type": "markdown",
   "metadata": {},
   "source": [
    "# Exercise 3.1"
   ]
  },
  {
   "cell_type": "markdown",
   "metadata": {},
   "source": [
    "First of all, we import usefull libraries."
   ]
  },
  {
   "cell_type": "code",
   "execution_count": 1,
   "metadata": {},
   "outputs": [],
   "source": [
    "import numpy as np\n",
    "import matplotlib.pyplot as plt\n",
    "from sklearn.linear_model import RidgeCV"
   ]
  },
  {
   "cell_type": "markdown",
   "metadata": {},
   "source": [
    "Now, we import data we want to fit to a linear function."
   ]
  },
  {
   "cell_type": "code",
   "execution_count": 2,
   "metadata": {},
   "outputs": [],
   "source": [
    "x = np.array([188, 181, 197, 168, 167, 187, 178, 194, 140, 176, 168, 192, 173, 142, 176])\n",
    "\n",
    "y = np.array([141, 106, 149, 59, 79, 136, 65, 136, 52, 87, 115, 140, 82, 69, 121])"
   ]
  },
  {
   "cell_type": "markdown",
   "metadata": {},
   "source": [
    "We're fitting our variables to a linear funtion as: $y = ax + b$\n",
    "\n",
    "So, we're solving next system of equations, where $\\alpha$ is an additinal parameter: $w = (X^TX + \\alpha \\dot W)^{-1} X^T y$.\n",
    "\n",
    "We define a function in order to calculate N-folds cross validation, so we use only one element as test dataset in each iteration. For simplicity, we define Fit function."
   ]
  },
  {
   "cell_type": "code",
   "execution_count": 3,
   "metadata": {},
   "outputs": [],
   "source": [
    "def Fit(x_old, y_old, alpha):\n",
    "    N = len(x_old)\n",
    "    x_old = x_old.reshape(N, 1)\n",
    "    x = np.asmatrix(np.c_[np.ones((N, 1)), x_old])\n",
    "    y = y_old.reshape(N,1)\n",
    "    return np.linalg.inv(x.T * x + alpha * I) * x.T * y\n",
    "\n",
    "def Distance(a, b):\n",
    "    return np.linalg.norm(a - b)\n",
    "\n",
    "def Cross_validation(x, y, alpha):\n",
    "    N = len(x)\n",
    "    errors = np.zeros(N)\n",
    "    \n",
    "    for i in range(N):\n",
    "        x_train = np.delete(x, i)\n",
    "        y_train = np.delete(y, i)\n",
    "        w = Fit(x_train, y_train, alpha)\n",
    "        errors[i] = Distance(y[i], x[i] * w[1] + w[0])   \n",
    "\n",
    "    return np.mean(errors)"
   ]
  },
  {
   "cell_type": "markdown",
   "metadata": {},
   "source": [
    "Now, we proceed to sum up all this functions, so we obtain the best value for alpha, as well as fitting parameters."
   ]
  },
  {
   "cell_type": "code",
   "execution_count": 4,
   "metadata": {},
   "outputs": [
    {
     "name": "stdout",
     "output_type": "stream",
     "text": [
      "With alpha = 0.02 we obtain: [a, b] = [-156.55    1.48]\n",
      "With alpha = 0.05 we obtain: [a, b] = [-130.23    1.33]\n",
      "With alpha = 0.07 we obtain: [a, b] = [-117.1     1.26]\n",
      "With alpha = 0.1 we obtain: [a, b] = [-101.72    1.17]\n",
      "With alpha = 0.5 we obtain: [a, b] = [-36.98   0.8 ]\n",
      "With alpha = 2.0 we obtain: [a, b] = [-10.91   0.66]\n",
      "With alpha = 5.0 we obtain: [a, b] = [-4.53  0.62]\n",
      "With alpha = 100.0 we obtain: [a, b] = [-0.23  0.6 ]\n",
      "The best alpha is: 0.02\n"
     ]
    }
   ],
   "source": [
    "I = np.identity(2) # Return the identity matrix of size [2, 2]\n",
    "alpha = np.array([0.02, 0.05, 0.07, 0.10, 0.50, 2., 5., 100.])\n",
    "N_alpha = len(alpha)\n",
    "\n",
    "w = np.zeros([N_alpha, 2])\n",
    "errors_alpha = np.zeros(N_alpha)\n",
    "\n",
    "for i in range(N_alpha):\n",
    "    aux = Fit(x, y, alpha[i])\n",
    "    \n",
    "    w[i, 0] = aux[0]\n",
    "    w[i, 1] = aux[1]\n",
    "    errors_alpha[i] = Cross_validation(x, y, alpha[i])\n",
    "    print('With alpha =', alpha[i], 'we obtain: [a, b] =', np.round(w[i], 2))\n",
    "\n",
    "print('The best alpha is:', alpha[np.argmin(errors_alpha)])"
   ]
  },
  {
   "cell_type": "markdown",
   "metadata": {},
   "source": [
    "Now, we proceed to compare the results by using ${\\it RidgeCV}$, a buit-in function from sklearn library. So, we're getting the best alpha from our array. We're using Generalized Cross-Validation, $cv = 15$, as we did in the function from scratch. We see that we obtain the same result."
   ]
  },
  {
   "cell_type": "code",
   "execution_count": 5,
   "metadata": {},
   "outputs": [
    {
     "name": "stdout",
     "output_type": "stream",
     "text": [
      "Alpha = 0.02\n"
     ]
    }
   ],
   "source": [
    "_x_ = x.reshape(15, 1)\n",
    "_x_ = np.asmatrix(np.c_[np.ones((15, 1)), _x_])\n",
    "_y_ = y.reshape(15,1)\n",
    "\n",
    "clf = RidgeCV(alphas = alpha, cv = 15).fit(_x_, _y_)\n",
    "print('Alpha =', clf.alpha_)"
   ]
  },
  {
   "cell_type": "markdown",
   "metadata": {},
   "source": [
    "Now, we proceed to plot this results, so we can see if there is or not a big difference between different alphas. \n",
    "\n",
    "As we can see, the bigger the alpha is, the more weigh alpha has; and the smaller it is, the more it looks like the normal linear fitting."
   ]
  },
  {
   "cell_type": "code",
   "execution_count": 6,
   "metadata": {},
   "outputs": [
    {
     "data": {
      "image/png": "[encoded data removed]",
      "text/plain": [
       "<Figure size 432x288 with 1 Axes>"
      ]
     },
     "metadata": {
      "needs_background": "light"
     },
     "output_type": "display_data"
    }
   ],
   "source": [
    "plt.plot(x, y, 'o')\n",
    "\n",
    "for i in range(N_alpha):\n",
    "    plt.plot(x, x * w[i, 1] + w[i, 0], label = alpha[i])\n",
    "\n",
    "plt.legend(loc = 'best')\n",
    "plt.xlabel(u'x')\n",
    "plt.ylabel(u'y')\n",
    "plt.show()"
   ]
  },
  {
   "cell_type": "code",
   "execution_count": null,
   "metadata": {},
   "outputs": [],
   "source": []
  }
 ],
 "metadata": {
  "kernelspec": {
   "display_name": "Python 3",
   "language": "python",
   "name": "python3"
  },
  "language_info": {
   "codemirror_mode": {
    "name": "ipython",
    "version": 3
   },
   "file_extension": ".py",
   "mimetype": "text/x-python",
   "name": "python",
   "nbconvert_exporter": "python",
   "pygments_lexer": "ipython3",
   "version": "3.5.6"
  }
 },
 "nbformat": 4,
 "nbformat_minor": 4
}
