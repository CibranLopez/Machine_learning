{
 "cells": [
  {
   "cell_type": "markdown",
   "metadata": {},
   "source": [
    "# Exercise 2.1"
   ]
  },
  {
   "cell_type": "markdown",
   "metadata": {},
   "source": [
    "First of all, we import usefull libraries."
   ]
  },
  {
   "cell_type": "code",
   "execution_count": 1,
   "metadata": {},
   "outputs": [],
   "source": [
    "import numpy as np\n",
    "import pandas as pd\n",
    "import matplotlib.pyplot as plt"
   ]
  },
  {
   "cell_type": "markdown",
   "metadata": {},
   "source": [
    "Now, we import our normalized stored data."
   ]
  },
  {
   "cell_type": "code",
   "execution_count": 2,
   "metadata": {},
   "outputs": [],
   "source": [
    "%store -r data_set"
   ]
  },
  {
   "cell_type": "markdown",
   "metadata": {},
   "source": [
    "We define some variables like the assignation matrix, number of clusters, the error margin and feature space."
   ]
  },
  {
   "cell_type": "code",
   "execution_count": 3,
   "metadata": {},
   "outputs": [],
   "source": [
    "groups = 3\n",
    "error_margin = 0.0001\n",
    "m = 2\n",
    "assignation = np.zeros((len(data_set), groups))"
   ]
  },
  {
   "cell_type": "markdown",
   "metadata": {},
   "source": [
    "Now, we definde a function to randomly select the centers.\n",
    "\n",
    "In order to calculate euclidean distance between centroids and points we're calculating norm of a vector defined as their difference, so we can use a built in fuction from numpy, $linalg.norm(a - b)$.\n",
    "\n",
    "We're also defining a function which calculates value of $\\mu$, so it's different of zero for that group where distance between group and the point is minimal.\n",
    "\n",
    "Finally, we define a funtion to calcuate new centroids, based in all previous defined functions.\n",
    "\n",
    "In order to stop the loop, we define function $calculate\\_differences$, so we can study if we're achieving better centroids.\n",
    "\n",
    "Finally, we sum up eveything by defining function $cluster\\_hcm$, so it's done."
   ]
  },
  {
   "cell_type": "code",
   "execution_count": 4,
   "metadata": {},
   "outputs": [],
   "source": [
    "def select_centers():\n",
    "    return np.random.rand(groups, len(data_set[0]))\n",
    "\n",
    "\n",
    "def calculate_distance(x, v):\n",
    "    return np.linalg.norm(x - v)\n",
    "\n",
    "\n",
    "def calculate_u(x, centers):\n",
    "    distances = np.zeros(groups); mu = np.zeros(groups)\n",
    "    \n",
    "    for i in range(groups):\n",
    "        distances[i] = calculate_distance(x, centers[i])  \n",
    "    \n",
    "    aux = np.argmin(distances); mu[aux] = 1\n",
    "    return mu\n",
    "\n",
    "\n",
    "def calculate_new_centers(u):\n",
    "    new_centers = []\n",
    "    \n",
    "    for c in range(groups):\n",
    "        u_x_vector = np.zeros(2)\n",
    "        u_scalar = 0.0\n",
    "    \n",
    "        for i in range(len(data_set)):\n",
    "            u_scalar += pow(u[i][c], m)\n",
    "            u_x_vector = np.add(u_x_vector, np.multiply(pow(u[i][c], m), data_set[i]))\n",
    "        \n",
    "        new_centers.append(np.divide(u_x_vector, u_scalar))\n",
    "    return new_centers\n",
    "\n",
    "\n",
    "def calculate_differences(new_assignation, assignation):     \n",
    "    return np.sum(np.abs(np.subtract(assignation, new_assignation)))\n",
    "\n",
    "\n",
    "def cluster_hcm(assignation, centers):\n",
    "    difference_limit_not_achieved = True\n",
    "    new_centers = centers\n",
    "    iteraction = 0\n",
    "    \n",
    "    while difference_limit_not_achieved:\n",
    "        new_assignation = []\n",
    "        \n",
    "        for i in range(len(data_set)):\n",
    "            new_assignation.append(calculate_u(data_set[i], new_centers))\n",
    "        \n",
    "        new_centers = calculate_new_centers(new_assignation)\n",
    "        \n",
    "        if iteraction > 0:\n",
    "            if calculate_differences(new_assignation, assignation) < error_margin:\n",
    "                difference_limit_not_achieved = False\n",
    "        \n",
    "        assignation = new_assignation\n",
    "        \n",
    "        iteraction += 1\n",
    "    return new_assignation, new_centers"
   ]
  },
  {
   "cell_type": "markdown",
   "metadata": {},
   "source": [
    "Then, we can define centers and build new clusters (we're storing data in order to use it later)."
   ]
  },
  {
   "cell_type": "code",
   "execution_count": 5,
   "metadata": {},
   "outputs": [
    {
     "name": "stdout",
     "output_type": "stream",
     "text": [
      "Stored 'new_assignation_hcm' (list)\n",
      "Stored 'new_centers_hcm' (list)\n"
     ]
    },
    {
     "data": {
      "text/html": [
       "<div>\n",
       "<style scoped>\n",
       "    .dataframe tbody tr th:only-of-type {\n",
       "        vertical-align: middle;\n",
       "    }\n",
       "\n",
       "    .dataframe tbody tr th {\n",
       "        vertical-align: top;\n",
       "    }\n",
       "\n",
       "    .dataframe thead th {\n",
       "        text-align: right;\n",
       "    }\n",
       "</style>\n",
       "<table border=\"1\" class=\"dataframe\">\n",
       "  <thead>\n",
       "    <tr style=\"text-align: right;\">\n",
       "      <th></th>\n",
       "      <th>Cluster 1</th>\n",
       "      <th>Cluster 2</th>\n",
       "      <th>Cluster 3</th>\n",
       "    </tr>\n",
       "  </thead>\n",
       "  <tbody>\n",
       "    <tr>\n",
       "      <th>0</th>\n",
       "      <td>1.0</td>\n",
       "      <td>0.0</td>\n",
       "      <td>0.0</td>\n",
       "    </tr>\n",
       "    <tr>\n",
       "      <th>1</th>\n",
       "      <td>1.0</td>\n",
       "      <td>0.0</td>\n",
       "      <td>0.0</td>\n",
       "    </tr>\n",
       "    <tr>\n",
       "      <th>2</th>\n",
       "      <td>1.0</td>\n",
       "      <td>0.0</td>\n",
       "      <td>0.0</td>\n",
       "    </tr>\n",
       "    <tr>\n",
       "      <th>3</th>\n",
       "      <td>0.0</td>\n",
       "      <td>1.0</td>\n",
       "      <td>0.0</td>\n",
       "    </tr>\n",
       "    <tr>\n",
       "      <th>4</th>\n",
       "      <td>0.0</td>\n",
       "      <td>1.0</td>\n",
       "      <td>0.0</td>\n",
       "    </tr>\n",
       "    <tr>\n",
       "      <th>5</th>\n",
       "      <td>1.0</td>\n",
       "      <td>0.0</td>\n",
       "      <td>0.0</td>\n",
       "    </tr>\n",
       "    <tr>\n",
       "      <th>6</th>\n",
       "      <td>0.0</td>\n",
       "      <td>0.0</td>\n",
       "      <td>1.0</td>\n",
       "    </tr>\n",
       "    <tr>\n",
       "      <th>7</th>\n",
       "      <td>0.0</td>\n",
       "      <td>0.0</td>\n",
       "      <td>1.0</td>\n",
       "    </tr>\n",
       "    <tr>\n",
       "      <th>8</th>\n",
       "      <td>0.0</td>\n",
       "      <td>0.0</td>\n",
       "      <td>1.0</td>\n",
       "    </tr>\n",
       "    <tr>\n",
       "      <th>9</th>\n",
       "      <td>0.0</td>\n",
       "      <td>1.0</td>\n",
       "      <td>0.0</td>\n",
       "    </tr>\n",
       "  </tbody>\n",
       "</table>\n",
       "</div>"
      ],
      "text/plain": [
       "   Cluster 1  Cluster 2  Cluster 3\n",
       "0        1.0        0.0        0.0\n",
       "1        1.0        0.0        0.0\n",
       "2        1.0        0.0        0.0\n",
       "3        0.0        1.0        0.0\n",
       "4        0.0        1.0        0.0\n",
       "5        1.0        0.0        0.0\n",
       "6        0.0        0.0        1.0\n",
       "7        0.0        0.0        1.0\n",
       "8        0.0        0.0        1.0\n",
       "9        0.0        1.0        0.0"
      ]
     },
     "execution_count": 5,
     "metadata": {},
     "output_type": "execute_result"
    }
   ],
   "source": [
    "centers = select_centers()\n",
    "\n",
    "new_assignation_hcm, new_centers_hcm = cluster_hcm(assignation, centers)\n",
    "%store new_assignation_hcm\n",
    "%store new_centers_hcm\n",
    "\n",
    "pd.DataFrame(new_assignation_hcm, columns = ['Cluster 1', 'Cluster 2', 'Cluster 3'])"
   ]
  },
  {
   "cell_type": "markdown",
   "metadata": {},
   "source": [
    "Once we have our final centers, we add some colors and plot them."
   ]
  },
  {
   "cell_type": "code",
   "execution_count": 6,
   "metadata": {},
   "outputs": [
    {
     "data": {
      "image/png": "[encoded data removed]",
      "text/plain": [
       "<Figure size 432x288 with 1 Axes>"
      ]
     },
     "metadata": {
      "needs_background": "light"
     },
     "output_type": "display_data"
    }
   ],
   "source": [
    "red = data_set[np.where(np.array(new_assignation_hcm)[:,0] == 1)]\n",
    "blue = data_set[np.where(np.array(new_assignation_hcm)[:,1] == 1)]\n",
    "green = data_set[np.where(np.array(new_assignation_hcm)[:,2] == 1)]\n",
    "\n",
    "fig, ax = plt.subplots()\n",
    "\n",
    "ax.scatter(blue[:, 0], blue[:, 1], c = 'blue')\n",
    "ax.scatter(red[:,0], red[:,1], c = 'red')\n",
    "ax.scatter(green[:,0], green[:,1], c = 'green')\n",
    "\n",
    "ax.scatter(np.array(new_centers_hcm)[:,0], np.array(new_centers_hcm)[:,1], c = 'black')\n",
    "ax.set(xlabel = u'Seats count', ylabel = u'Distance range (km)', title = u'Aircrafts (clusters)')\n",
    "\n",
    "ax.grid()\n",
    "plt.show()"
   ]
  },
  {
   "cell_type": "markdown",
   "metadata": {},
   "source": [
    "Since we have some $error\\_margin$, we can obtain different groups in different iterations."
   ]
  }
 ],
 "metadata": {
  "kernelspec": {
   "display_name": "Python 3",
   "language": "python",
   "name": "python3"
  },
  "language_info": {
   "codemirror_mode": {
    "name": "ipython",
    "version": 3
   },
   "file_extension": ".py",
   "mimetype": "text/x-python",
   "name": "python",
   "nbconvert_exporter": "python",
   "pygments_lexer": "ipython3",
   "version": "3.5.6"
  }
 },
 "nbformat": 4,
 "nbformat_minor": 4
}
